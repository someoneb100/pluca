{
 "cells": [
  {
   "cell_type": "code",
   "execution_count": 1,
   "id": "f916cc64",
   "metadata": {},
   "outputs": [],
   "source": [
    "from os import path, listdir\n",
    "from PIL import Image\n",
    "import numpy as np"
   ]
  },
  {
   "cell_type": "code",
   "execution_count": 3,
   "id": "977405cd",
   "metadata": {},
   "outputs": [
    {
     "name": "stdout",
     "output_type": "stream",
     "text": [
      "1 Physical GPUs, 1 Logical GPUs\n"
     ]
    }
   ],
   "source": [
    "import tensorflow as tf\n",
    "gpus = tf.config.experimental.list_physical_devices('GPU')\n",
    "if gpus:\n",
    "    try:\n",
    "        # Currently, memory growth needs to be the same across GPUs\n",
    "        for gpu in gpus:\n",
    "            tf.config.experimental.set_memory_growth(gpu, True)\n",
    "        logical_gpus = tf.config.experimental.list_logical_devices('GPU')\n",
    "        print(len(gpus), \"Physical GPUs,\", len(logical_gpus), \"Logical GPUs\")\n",
    "    except RuntimeError as e:\n",
    "        # Memory growth must be set before GPUs have been initialized\n",
    "        print(e)"
   ]
  },
  {
   "cell_type": "code",
   "execution_count": 4,
   "id": "07cb28a7",
   "metadata": {},
   "outputs": [],
   "source": [
    "def get_data(directory: str) -> \"tuple[np.ndarray, np.ndarray]\":\n",
    "    ima = listdir(path.join(directory, \"PNEUMONIA\"))\n",
    "    nema = listdir(path.join(directory, \"NORMAL\"))\n",
    "    size = len(ima) + len(nema)\n",
    "    X = np.empty((size, 250, 350), dtype=np.uint8)\n",
    "    y = np.empty((size), dtype=np.uint8)\n",
    "    for i, file in enumerate(ima):\n",
    "        X[i] = np.asarray(Image.open(path.join(directory, \"PNEUMONIA\", file)))\n",
    "        y[i] = 1\n",
    "    for i, file in enumerate(nema):\n",
    "        X[len(ima) + i] = np.asarray(Image.open(path.join(directory, \"NORMAL\", file)))\n",
    "        y[len(ima) + i] = 0\n",
    "    return X , y"
   ]
  },
  {
   "cell_type": "code",
   "execution_count": 5,
   "id": "e9876ef7",
   "metadata": {},
   "outputs": [],
   "source": [
    "from modeli_stefan import make_model_5"
   ]
  },
  {
   "cell_type": "code",
   "execution_count": 12,
   "id": "254fdc66",
   "metadata": {},
   "outputs": [
    {
     "name": "stdout",
     "output_type": "stream",
     "text": [
      "Model: \"model_1\"\n",
      "_________________________________________________________________\n",
      "Layer (type)                 Output Shape              Param #   \n",
      "=================================================================\n",
      "input_2 (InputLayer)         [(None, 250, 350)]        0         \n",
      "_________________________________________________________________\n",
      "rescaling_1 (Rescaling)      (None, 250, 350)          0         \n",
      "_________________________________________________________________\n",
      "gaussian_noise_1 (GaussianNo (None, 250, 350)          0         \n",
      "_________________________________________________________________\n",
      "tf.clip_by_value_1 (TFOpLamb (None, 250, 350)          0         \n",
      "_________________________________________________________________\n",
      "reshape_1 (Reshape)          (None, 250, 350, 1)       0         \n",
      "_________________________________________________________________\n",
      "conv2d_4 (Conv2D)            (None, 248, 348, 12)      120       \n",
      "_________________________________________________________________\n",
      "max_pooling2d_4 (MaxPooling2 (None, 124, 174, 12)      0         \n",
      "_________________________________________________________________\n",
      "conv2d_5 (Conv2D)            (None, 120, 170, 12)      3612      \n",
      "_________________________________________________________________\n",
      "max_pooling2d_5 (MaxPooling2 (None, 60, 85, 12)        0         \n",
      "_________________________________________________________________\n",
      "conv2d_6 (Conv2D)            (None, 56, 81, 20)        6020      \n",
      "_________________________________________________________________\n",
      "max_pooling2d_6 (MaxPooling2 (None, 14, 27, 20)        0         \n",
      "_________________________________________________________________\n",
      "conv2d_7 (Conv2D)            (None, 10, 24, 20)        8020      \n",
      "_________________________________________________________________\n",
      "max_pooling2d_7 (MaxPooling2 (None, 2, 4, 20)          0         \n",
      "_________________________________________________________________\n",
      "dropout_1 (Dropout)          (None, 2, 4, 20)          0         \n",
      "_________________________________________________________________\n",
      "flatten_1 (Flatten)          (None, 160)               0         \n",
      "_________________________________________________________________\n",
      "dense_3 (Dense)              (None, 128)               20608     \n",
      "_________________________________________________________________\n",
      "dense_4 (Dense)              (None, 64)                8256      \n",
      "_________________________________________________________________\n",
      "dense_5 (Dense)              (None, 1)                 65        \n",
      "=================================================================\n",
      "Total params: 46,701\n",
      "Trainable params: 46,701\n",
      "Non-trainable params: 0\n",
      "_________________________________________________________________\n"
     ]
    }
   ],
   "source": [
    "directory_train = \"../chest_xray_norm/train\"\n",
    "x_train, y_train = get_data(directory_train)\n",
    "\n",
    "directory_val = \"../chest_xray_norm/val\"\n",
    "x_val, y_val = get_data(directory_val)\n",
    "\n",
    "model = make_model_5(x_train[0].shape)\n",
    "model.summary()"
   ]
  },
  {
   "cell_type": "code",
   "execution_count": 13,
   "id": "97d67026",
   "metadata": {},
   "outputs": [],
   "source": [
    "import pickle\n",
    "from tensorflow.keras.callbacks import ModelCheckpoint"
   ]
  },
  {
   "cell_type": "code",
   "execution_count": 14,
   "id": "6255b066",
   "metadata": {},
   "outputs": [],
   "source": [
    "class MyModelCheckpoint(ModelCheckpoint):\n",
    "    def __init__(self, *args, **kwargs):\n",
    "        super().__init__(*args, **kwargs)\n",
    "\n",
    "    def on_epoch_end(self, epoch, logs=None):\n",
    "        super().on_epoch_end(epoch,logs)\\\n",
    "\n",
    "        # Also save the optimizer state\n",
    "        filepath = self._get_file_path(epoch=epoch, \n",
    "            logs=logs)\n",
    "        filepath = filepath.rsplit( \".\", 1 )[ 0 ] \n",
    "        filepath += \".pkl\"\n",
    "\n",
    "        with open(filepath, 'wb') as fp:\n",
    "              pickle.dump(\n",
    "                {\n",
    "                  'opt': model.optimizer.get_config(),\n",
    "                  'epoch': epoch+1\n",
    "                 # Add additional keys if you need to store more values\n",
    "                }, fp, protocol=pickle.HIGHEST_PROTOCOL)\n",
    "        print('\\nEpoch %05d: saving optimizaer to %s' % (epoch + 1, filepath))"
   ]
  },
  {
   "cell_type": "code",
   "execution_count": 15,
   "id": "f43e2d43",
   "metadata": {},
   "outputs": [],
   "source": [
    "save_dir = \"./checkpoints/stefan/model_4\""
   ]
  },
  {
   "cell_type": "code",
   "execution_count": 16,
   "id": "168f8cb3",
   "metadata": {},
   "outputs": [],
   "source": [
    "checkpoint_cb = MyModelCheckpoint(\n",
    "path.join(save_dir, 'model-{epoch:03d}-{val_loss:.5f}.hdf5'),\n",
    "monitor='val_loss',verbose=1)"
   ]
  },
  {
   "cell_type": "code",
   "execution_count": 17,
   "id": "8b682381",
   "metadata": {},
   "outputs": [
    {
     "name": "stdout",
     "output_type": "stream",
     "text": [
      "Epoch 1/70\n",
      "163/163 [==============================] - 16s 92ms/step - loss: 0.5666 - accuracy: 0.7696 - precision_1: 0.7722 - recall_1: 0.9812 - val_loss: 0.4690 - val_accuracy: 0.8750 - val_precision_1: 0.8000 - val_recall_1: 1.0000\n",
      "\n",
      "Epoch 00001: saving model to ./checkpoints/stefan/model_4/model-001-0.46901.hdf5\n",
      "\n",
      "Epoch 00001: saving optimizaer to ./checkpoints/stefan/model_4/model-001-0.46901.pkl\n",
      "Epoch 2/70\n",
      "163/163 [==============================] - 16s 99ms/step - loss: 0.3774 - accuracy: 0.8346 - precision_1: 0.8639 - recall_1: 0.9203 - val_loss: 0.4442 - val_accuracy: 0.8125 - val_precision_1: 0.7273 - val_recall_1: 1.0000\n",
      "\n",
      "Epoch 00002: saving model to ./checkpoints/stefan/model_4/model-002-0.44423.hdf5\n",
      "\n",
      "Epoch 00002: saving optimizaer to ./checkpoints/stefan/model_4/model-002-0.44423.pkl\n",
      "Epoch 3/70\n",
      "163/163 [==============================] - 15s 93ms/step - loss: 0.2923 - accuracy: 0.8835 - precision_1: 0.9319 - recall_1: 0.9082 - val_loss: 0.4812 - val_accuracy: 0.7500 - val_precision_1: 0.6667 - val_recall_1: 1.0000\n",
      "\n",
      "Epoch 00003: saving model to ./checkpoints/stefan/model_4/model-003-0.48115.hdf5\n",
      "\n",
      "Epoch 00003: saving optimizaer to ./checkpoints/stefan/model_4/model-003-0.48115.pkl\n",
      "Epoch 4/70\n",
      "163/163 [==============================] - 15s 92ms/step - loss: 0.2378 - accuracy: 0.9027 - precision_1: 0.9360 - recall_1: 0.9314 - val_loss: 0.4999 - val_accuracy: 0.7500 - val_precision_1: 0.6667 - val_recall_1: 1.0000\n",
      "\n",
      "Epoch 00004: saving model to ./checkpoints/stefan/model_4/model-004-0.49991.hdf5\n",
      "\n",
      "Epoch 00004: saving optimizaer to ./checkpoints/stefan/model_4/model-004-0.49991.pkl\n",
      "Epoch 5/70\n",
      "163/163 [==============================] - 15s 91ms/step - loss: 0.2407 - accuracy: 0.9098 - precision_1: 0.9402 - recall_1: 0.9397 - val_loss: 0.2548 - val_accuracy: 0.8750 - val_precision_1: 0.8000 - val_recall_1: 1.0000\n",
      "\n",
      "Epoch 00005: saving model to ./checkpoints/stefan/model_4/model-005-0.25481.hdf5\n",
      "\n",
      "Epoch 00005: saving optimizaer to ./checkpoints/stefan/model_4/model-005-0.25481.pkl\n",
      "Epoch 6/70\n",
      "163/163 [==============================] - 16s 96ms/step - loss: 0.1996 - accuracy: 0.9250 - precision_1: 0.9503 - recall_1: 0.9485 - val_loss: 0.3954 - val_accuracy: 0.8750 - val_precision_1: 0.8000 - val_recall_1: 1.0000\n",
      "\n",
      "Epoch 00006: saving model to ./checkpoints/stefan/model_4/model-006-0.39537.hdf5\n",
      "\n",
      "Epoch 00006: saving optimizaer to ./checkpoints/stefan/model_4/model-006-0.39537.pkl\n",
      "Epoch 7/70\n",
      "163/163 [==============================] - 15s 95ms/step - loss: 0.1925 - accuracy: 0.9296 - precision_1: 0.9519 - recall_1: 0.9527 - val_loss: 0.3577 - val_accuracy: 0.9375 - val_precision_1: 0.8889 - val_recall_1: 1.0000\n",
      "\n",
      "Epoch 00007: saving model to ./checkpoints/stefan/model_4/model-007-0.35773.hdf5\n",
      "\n",
      "Epoch 00007: saving optimizaer to ./checkpoints/stefan/model_4/model-007-0.35773.pkl\n",
      "Epoch 8/70\n",
      "163/163 [==============================] - 15s 94ms/step - loss: 0.1893 - accuracy: 0.9284 - precision_1: 0.9574 - recall_1: 0.9449 - val_loss: 0.2258 - val_accuracy: 0.9375 - val_precision_1: 0.8889 - val_recall_1: 1.0000\n",
      "\n",
      "Epoch 00008: saving model to ./checkpoints/stefan/model_4/model-008-0.22582.hdf5\n",
      "\n",
      "Epoch 00008: saving optimizaer to ./checkpoints/stefan/model_4/model-008-0.22582.pkl\n",
      "Epoch 9/70\n",
      "163/163 [==============================] - 16s 95ms/step - loss: 0.2187 - accuracy: 0.9248 - precision_1: 0.9483 - recall_1: 0.9501 - val_loss: 0.2813 - val_accuracy: 0.8750 - val_precision_1: 0.8000 - val_recall_1: 1.0000\n",
      "\n",
      "Epoch 00009: saving model to ./checkpoints/stefan/model_4/model-009-0.28128.hdf5\n",
      "\n",
      "Epoch 00009: saving optimizaer to ./checkpoints/stefan/model_4/model-009-0.28128.pkl\n",
      "Epoch 10/70\n",
      "163/163 [==============================] - 16s 100ms/step - loss: 0.1629 - accuracy: 0.9384 - precision_1: 0.9613 - recall_1: 0.9568 - val_loss: 0.4691 - val_accuracy: 0.8125 - val_precision_1: 0.7273 - val_recall_1: 1.0000\n",
      "\n",
      "Epoch 00010: saving model to ./checkpoints/stefan/model_4/model-010-0.46912.hdf5\n",
      "\n",
      "Epoch 00010: saving optimizaer to ./checkpoints/stefan/model_4/model-010-0.46912.pkl\n",
      "Epoch 11/70\n",
      "163/163 [==============================] - 16s 96ms/step - loss: 0.1979 - accuracy: 0.9198 - precision_1: 0.9387 - recall_1: 0.9543 - val_loss: 0.4214 - val_accuracy: 0.8750 - val_precision_1: 0.8000 - val_recall_1: 1.0000\n",
      "\n",
      "Epoch 00011: saving model to ./checkpoints/stefan/model_4/model-011-0.42141.hdf5\n",
      "\n",
      "Epoch 00011: saving optimizaer to ./checkpoints/stefan/model_4/model-011-0.42141.pkl\n",
      "Epoch 12/70\n",
      "163/163 [==============================] - 16s 95ms/step - loss: 0.1825 - accuracy: 0.9292 - precision_1: 0.9545 - recall_1: 0.9503 - val_loss: 0.2540 - val_accuracy: 0.9375 - val_precision_1: 0.8889 - val_recall_1: 1.0000\n",
      "\n",
      "Epoch 00012: saving model to ./checkpoints/stefan/model_4/model-012-0.25397.hdf5\n",
      "\n",
      "Epoch 00012: saving optimizaer to ./checkpoints/stefan/model_4/model-012-0.25397.pkl\n",
      "Epoch 13/70\n",
      "163/163 [==============================] - 16s 95ms/step - loss: 0.1402 - accuracy: 0.9412 - precision_1: 0.9606 - recall_1: 0.9602 - val_loss: 0.4224 - val_accuracy: 0.7500 - val_precision_1: 0.6667 - val_recall_1: 1.0000\n",
      "\n",
      "Epoch 00013: saving model to ./checkpoints/stefan/model_4/model-013-0.42240.hdf5\n",
      "\n",
      "Epoch 00013: saving optimizaer to ./checkpoints/stefan/model_4/model-013-0.42240.pkl\n",
      "Epoch 14/70\n",
      "163/163 [==============================] - 16s 96ms/step - loss: 0.1798 - accuracy: 0.9327 - precision_1: 0.9503 - recall_1: 0.9605 - val_loss: 0.5398 - val_accuracy: 0.8750 - val_precision_1: 0.8000 - val_recall_1: 1.0000\n",
      "\n",
      "Epoch 00014: saving model to ./checkpoints/stefan/model_4/model-014-0.53981.hdf5\n",
      "\n",
      "Epoch 00014: saving optimizaer to ./checkpoints/stefan/model_4/model-014-0.53981.pkl\n",
      "Epoch 15/70\n",
      "163/163 [==============================] - 15s 93ms/step - loss: 0.1678 - accuracy: 0.9334 - precision_1: 0.9532 - recall_1: 0.9568 - val_loss: 0.2334 - val_accuracy: 0.8750 - val_precision_1: 0.8000 - val_recall_1: 1.0000\n",
      "\n",
      "Epoch 00015: saving model to ./checkpoints/stefan/model_4/model-015-0.23342.hdf5\n",
      "\n",
      "Epoch 00015: saving optimizaer to ./checkpoints/stefan/model_4/model-015-0.23342.pkl\n",
      "Epoch 16/70\n",
      "163/163 [==============================] - 15s 95ms/step - loss: 0.1499 - accuracy: 0.9456 - precision_1: 0.9604 - recall_1: 0.9659 - val_loss: 1.4121 - val_accuracy: 0.6250 - val_precision_1: 0.5714 - val_recall_1: 1.0000\n",
      "\n",
      "Epoch 00016: saving model to ./checkpoints/stefan/model_4/model-016-1.41212.hdf5\n",
      "\n",
      "Epoch 00016: saving optimizaer to ./checkpoints/stefan/model_4/model-016-1.41212.pkl\n",
      "Epoch 17/70\n",
      "163/163 [==============================] - 15s 92ms/step - loss: 0.1771 - accuracy: 0.9382 - precision_1: 0.9544 - recall_1: 0.9628 - val_loss: 0.7159 - val_accuracy: 0.8125 - val_precision_1: 0.7273 - val_recall_1: 1.0000\n",
      "\n",
      "Epoch 00017: saving model to ./checkpoints/stefan/model_4/model-017-0.71593.hdf5\n",
      "\n",
      "Epoch 00017: saving optimizaer to ./checkpoints/stefan/model_4/model-017-0.71593.pkl\n",
      "Epoch 18/70\n",
      "163/163 [==============================] - 15s 92ms/step - loss: 0.1476 - accuracy: 0.9410 - precision_1: 0.9530 - recall_1: 0.9664 - val_loss: 0.4939 - val_accuracy: 0.8750 - val_precision_1: 0.8000 - val_recall_1: 1.0000\n",
      "\n",
      "Epoch 00018: saving model to ./checkpoints/stefan/model_4/model-018-0.49393.hdf5\n",
      "\n",
      "Epoch 00018: saving optimizaer to ./checkpoints/stefan/model_4/model-018-0.49393.pkl\n",
      "Epoch 19/70\n",
      "163/163 [==============================] - 15s 92ms/step - loss: 0.1293 - accuracy: 0.9509 - precision_1: 0.9631 - recall_1: 0.9710 - val_loss: 0.5805 - val_accuracy: 0.8750 - val_precision_1: 0.8000 - val_recall_1: 1.0000\n",
      "\n",
      "Epoch 00019: saving model to ./checkpoints/stefan/model_4/model-019-0.58052.hdf5\n",
      "\n",
      "Epoch 00019: saving optimizaer to ./checkpoints/stefan/model_4/model-019-0.58052.pkl\n",
      "Epoch 20/70\n",
      "163/163 [==============================] - 15s 92ms/step - loss: 0.1168 - accuracy: 0.9547 - precision_1: 0.9683 - recall_1: 0.9708 - val_loss: 0.3952 - val_accuracy: 0.9375 - val_precision_1: 0.8889 - val_recall_1: 1.0000\n",
      "\n",
      "Epoch 00020: saving model to ./checkpoints/stefan/model_4/model-020-0.39518.hdf5\n",
      "\n",
      "Epoch 00020: saving optimizaer to ./checkpoints/stefan/model_4/model-020-0.39518.pkl\n",
      "Epoch 21/70\n",
      "163/163 [==============================] - 15s 91ms/step - loss: 0.1355 - accuracy: 0.9393 - precision_1: 0.9592 - recall_1: 0.9601 - val_loss: 0.8989 - val_accuracy: 0.7500 - val_precision_1: 0.6667 - val_recall_1: 1.0000\n"
     ]
    },
    {
     "name": "stdout",
     "output_type": "stream",
     "text": [
      "\n",
      "Epoch 00021: saving model to ./checkpoints/stefan/model_4/model-021-0.89890.hdf5\n",
      "\n",
      "Epoch 00021: saving optimizaer to ./checkpoints/stefan/model_4/model-021-0.89890.pkl\n",
      "Epoch 22/70\n",
      "163/163 [==============================] - 15s 91ms/step - loss: 0.1322 - accuracy: 0.9490 - precision_1: 0.9609 - recall_1: 0.9712 - val_loss: 0.6863 - val_accuracy: 0.7500 - val_precision_1: 0.7000 - val_recall_1: 0.8750\n",
      "\n",
      "Epoch 00022: saving model to ./checkpoints/stefan/model_4/model-022-0.68633.hdf5\n",
      "\n",
      "Epoch 00022: saving optimizaer to ./checkpoints/stefan/model_4/model-022-0.68633.pkl\n",
      "Epoch 23/70\n",
      "163/163 [==============================] - 15s 91ms/step - loss: 0.1457 - accuracy: 0.9400 - precision_1: 0.9598 - recall_1: 0.9596 - val_loss: 0.3450 - val_accuracy: 0.9375 - val_precision_1: 0.8889 - val_recall_1: 1.0000\n",
      "\n",
      "Epoch 00023: saving model to ./checkpoints/stefan/model_4/model-023-0.34498.hdf5\n",
      "\n",
      "Epoch 00023: saving optimizaer to ./checkpoints/stefan/model_4/model-023-0.34498.pkl\n",
      "Epoch 24/70\n",
      "163/163 [==============================] - 15s 91ms/step - loss: 0.1115 - accuracy: 0.9622 - precision_1: 0.9695 - recall_1: 0.9798 - val_loss: 0.5476 - val_accuracy: 0.9375 - val_precision_1: 0.8889 - val_recall_1: 1.0000\n",
      "\n",
      "Epoch 00024: saving model to ./checkpoints/stefan/model_4/model-024-0.54756.hdf5\n",
      "\n",
      "Epoch 00024: saving optimizaer to ./checkpoints/stefan/model_4/model-024-0.54756.pkl\n",
      "Epoch 25/70\n",
      "163/163 [==============================] - 15s 90ms/step - loss: 0.1210 - accuracy: 0.9574 - precision_1: 0.9706 - recall_1: 0.9719 - val_loss: 0.7155 - val_accuracy: 0.7500 - val_precision_1: 0.6667 - val_recall_1: 1.0000\n",
      "\n",
      "Epoch 00025: saving model to ./checkpoints/stefan/model_4/model-025-0.71548.hdf5\n",
      "\n",
      "Epoch 00025: saving optimizaer to ./checkpoints/stefan/model_4/model-025-0.71548.pkl\n",
      "Epoch 26/70\n",
      "163/163 [==============================] - 15s 92ms/step - loss: 0.1204 - accuracy: 0.9531 - precision_1: 0.9659 - recall_1: 0.9711 - val_loss: 0.4892 - val_accuracy: 0.8125 - val_precision_1: 0.7778 - val_recall_1: 0.8750\n",
      "\n",
      "Epoch 00026: saving model to ./checkpoints/stefan/model_4/model-026-0.48921.hdf5\n",
      "\n",
      "Epoch 00026: saving optimizaer to ./checkpoints/stefan/model_4/model-026-0.48921.pkl\n",
      "Epoch 27/70\n",
      "163/163 [==============================] - 15s 95ms/step - loss: 0.1139 - accuracy: 0.9540 - precision_1: 0.9725 - recall_1: 0.9652 - val_loss: 0.6670 - val_accuracy: 0.7500 - val_precision_1: 0.6667 - val_recall_1: 1.0000\n",
      "\n",
      "Epoch 00027: saving model to ./checkpoints/stefan/model_4/model-027-0.66699.hdf5\n",
      "\n",
      "Epoch 00027: saving optimizaer to ./checkpoints/stefan/model_4/model-027-0.66699.pkl\n",
      "Epoch 28/70\n",
      "163/163 [==============================] - 15s 94ms/step - loss: 0.1228 - accuracy: 0.9548 - precision_1: 0.9681 - recall_1: 0.9711 - val_loss: 1.6232 - val_accuracy: 0.6875 - val_precision_1: 0.6154 - val_recall_1: 1.0000\n",
      "\n",
      "Epoch 00028: saving model to ./checkpoints/stefan/model_4/model-028-1.62317.hdf5\n",
      "\n",
      "Epoch 00028: saving optimizaer to ./checkpoints/stefan/model_4/model-028-1.62317.pkl\n",
      "Epoch 29/70\n",
      "163/163 [==============================] - 15s 91ms/step - loss: 0.1156 - accuracy: 0.9608 - precision_1: 0.9709 - recall_1: 0.9766 - val_loss: 0.2651 - val_accuracy: 0.9375 - val_precision_1: 0.8889 - val_recall_1: 1.0000\n",
      "\n",
      "Epoch 00029: saving model to ./checkpoints/stefan/model_4/model-029-0.26509.hdf5\n",
      "\n",
      "Epoch 00029: saving optimizaer to ./checkpoints/stefan/model_4/model-029-0.26509.pkl\n",
      "Epoch 30/70\n",
      "163/163 [==============================] - 15s 93ms/step - loss: 0.0976 - accuracy: 0.9602 - precision_1: 0.9708 - recall_1: 0.9761 - val_loss: 0.2886 - val_accuracy: 0.9375 - val_precision_1: 0.8889 - val_recall_1: 1.0000\n",
      "\n",
      "Epoch 00030: saving model to ./checkpoints/stefan/model_4/model-030-0.28863.hdf5\n",
      "\n",
      "Epoch 00030: saving optimizaer to ./checkpoints/stefan/model_4/model-030-0.28863.pkl\n",
      "Epoch 31/70\n",
      "163/163 [==============================] - 16s 101ms/step - loss: 0.1170 - accuracy: 0.9569 - precision_1: 0.9710 - recall_1: 0.9710 - val_loss: 0.4683 - val_accuracy: 0.8750 - val_precision_1: 0.8000 - val_recall_1: 1.0000\n",
      "\n",
      "Epoch 00031: saving model to ./checkpoints/stefan/model_4/model-031-0.46830.hdf5\n",
      "\n",
      "Epoch 00031: saving optimizaer to ./checkpoints/stefan/model_4/model-031-0.46830.pkl\n",
      "Epoch 32/70\n",
      "163/163 [==============================] - 15s 90ms/step - loss: 0.0969 - accuracy: 0.9604 - precision_1: 0.9707 - recall_1: 0.9754 - val_loss: 0.5304 - val_accuracy: 0.7500 - val_precision_1: 0.6667 - val_recall_1: 1.0000\n",
      "\n",
      "Epoch 00032: saving model to ./checkpoints/stefan/model_4/model-032-0.53039.hdf5\n",
      "\n",
      "Epoch 00032: saving optimizaer to ./checkpoints/stefan/model_4/model-032-0.53039.pkl\n",
      "Epoch 33/70\n",
      "163/163 [==============================] - 15s 90ms/step - loss: 0.1130 - accuracy: 0.9625 - precision_1: 0.9738 - recall_1: 0.9755 - val_loss: 0.4703 - val_accuracy: 0.7500 - val_precision_1: 0.6667 - val_recall_1: 1.0000\n",
      "\n",
      "Epoch 00033: saving model to ./checkpoints/stefan/model_4/model-033-0.47025.hdf5\n",
      "\n",
      "Epoch 00033: saving optimizaer to ./checkpoints/stefan/model_4/model-033-0.47025.pkl\n",
      "Epoch 34/70\n",
      "163/163 [==============================] - 15s 89ms/step - loss: 0.0871 - accuracy: 0.9682 - precision_1: 0.9749 - recall_1: 0.9826 - val_loss: 0.4593 - val_accuracy: 0.9375 - val_precision_1: 0.8889 - val_recall_1: 1.0000\n",
      "\n",
      "Epoch 00034: saving model to ./checkpoints/stefan/model_4/model-034-0.45927.hdf5\n",
      "\n",
      "Epoch 00034: saving optimizaer to ./checkpoints/stefan/model_4/model-034-0.45927.pkl\n",
      "Epoch 35/70\n",
      "163/163 [==============================] - 16s 95ms/step - loss: 0.0959 - accuracy: 0.9659 - precision_1: 0.9743 - recall_1: 0.9796 - val_loss: 0.4707 - val_accuracy: 0.8750 - val_precision_1: 0.8000 - val_recall_1: 1.0000\n",
      "\n",
      "Epoch 00035: saving model to ./checkpoints/stefan/model_4/model-035-0.47069.hdf5\n",
      "\n",
      "Epoch 00035: saving optimizaer to ./checkpoints/stefan/model_4/model-035-0.47069.pkl\n",
      "Epoch 36/70\n",
      "163/163 [==============================] - 15s 92ms/step - loss: 0.0914 - accuracy: 0.9687 - precision_1: 0.9784 - recall_1: 0.9795 - val_loss: 0.2949 - val_accuracy: 0.8750 - val_precision_1: 0.8000 - val_recall_1: 1.0000\n",
      "\n",
      "Epoch 00036: saving model to ./checkpoints/stefan/model_4/model-036-0.29489.hdf5\n",
      "\n",
      "Epoch 00036: saving optimizaer to ./checkpoints/stefan/model_4/model-036-0.29489.pkl\n",
      "Epoch 37/70\n",
      "163/163 [==============================] - 16s 95ms/step - loss: 0.1677 - accuracy: 0.9351 - precision_1: 0.9521 - recall_1: 0.9613 - val_loss: 0.3598 - val_accuracy: 0.8750 - val_precision_1: 0.8000 - val_recall_1: 1.0000\n",
      "\n",
      "Epoch 00037: saving model to ./checkpoints/stefan/model_4/model-037-0.35976.hdf5\n",
      "\n",
      "Epoch 00037: saving optimizaer to ./checkpoints/stefan/model_4/model-037-0.35976.pkl\n",
      "Epoch 38/70\n",
      "163/163 [==============================] - 15s 90ms/step - loss: 0.0999 - accuracy: 0.9602 - precision_1: 0.9726 - recall_1: 0.9741 - val_loss: 0.5428 - val_accuracy: 0.9375 - val_precision_1: 0.8889 - val_recall_1: 1.0000\n",
      "\n",
      "Epoch 00038: saving model to ./checkpoints/stefan/model_4/model-038-0.54277.hdf5\n",
      "\n",
      "Epoch 00038: saving optimizaer to ./checkpoints/stefan/model_4/model-038-0.54277.pkl\n",
      "Epoch 39/70\n",
      "163/163 [==============================] - 15s 91ms/step - loss: 0.0915 - accuracy: 0.9652 - precision_1: 0.9718 - recall_1: 0.9825 - val_loss: 0.4546 - val_accuracy: 0.9375 - val_precision_1: 0.8889 - val_recall_1: 1.0000\n",
      "\n",
      "Epoch 00039: saving model to ./checkpoints/stefan/model_4/model-039-0.45459.hdf5\n",
      "\n",
      "Epoch 00039: saving optimizaer to ./checkpoints/stefan/model_4/model-039-0.45459.pkl\n",
      "Epoch 40/70\n",
      "163/163 [==============================] - 15s 92ms/step - loss: 0.0791 - accuracy: 0.9715 - precision_1: 0.9762 - recall_1: 0.9854 - val_loss: 0.5433 - val_accuracy: 0.9375 - val_precision_1: 0.8889 - val_recall_1: 1.0000\n",
      "\n",
      "Epoch 00040: saving model to ./checkpoints/stefan/model_4/model-040-0.54334.hdf5\n",
      "\n",
      "Epoch 00040: saving optimizaer to ./checkpoints/stefan/model_4/model-040-0.54334.pkl\n",
      "Epoch 41/70\n",
      "163/163 [==============================] - 16s 96ms/step - loss: 0.1133 - accuracy: 0.9549 - precision_1: 0.9588 - recall_1: 0.9800 - val_loss: 0.5867 - val_accuracy: 0.8750 - val_precision_1: 0.8000 - val_recall_1: 1.0000\n",
      "\n",
      "Epoch 00041: saving model to ./checkpoints/stefan/model_4/model-041-0.58669.hdf5\n",
      "\n",
      "Epoch 00041: saving optimizaer to ./checkpoints/stefan/model_4/model-041-0.58669.pkl\n",
      "Epoch 42/70\n"
     ]
    },
    {
     "name": "stdout",
     "output_type": "stream",
     "text": [
      "163/163 [==============================] - 16s 98ms/step - loss: 0.0880 - accuracy: 0.9661 - precision_1: 0.9763 - recall_1: 0.9790 - val_loss: 0.6133 - val_accuracy: 0.8125 - val_precision_1: 0.7778 - val_recall_1: 0.8750\n",
      "\n",
      "Epoch 00042: saving model to ./checkpoints/stefan/model_4/model-042-0.61329.hdf5\n",
      "\n",
      "Epoch 00042: saving optimizaer to ./checkpoints/stefan/model_4/model-042-0.61329.pkl\n",
      "Epoch 43/70\n",
      "163/163 [==============================] - 15s 94ms/step - loss: 0.0821 - accuracy: 0.9685 - precision_1: 0.9763 - recall_1: 0.9811 - val_loss: 0.3071 - val_accuracy: 0.9375 - val_precision_1: 0.8889 - val_recall_1: 1.0000\n",
      "\n",
      "Epoch 00043: saving model to ./checkpoints/stefan/model_4/model-043-0.30707.hdf5\n",
      "\n",
      "Epoch 00043: saving optimizaer to ./checkpoints/stefan/model_4/model-043-0.30707.pkl\n",
      "Epoch 44/70\n",
      "163/163 [==============================] - 15s 94ms/step - loss: 0.1028 - accuracy: 0.9690 - precision_1: 0.9763 - recall_1: 0.9822 - val_loss: 0.6033 - val_accuracy: 0.9375 - val_precision_1: 0.8889 - val_recall_1: 1.0000\n",
      "\n",
      "Epoch 00044: saving model to ./checkpoints/stefan/model_4/model-044-0.60326.hdf5\n",
      "\n",
      "Epoch 00044: saving optimizaer to ./checkpoints/stefan/model_4/model-044-0.60326.pkl\n",
      "Epoch 45/70\n",
      "163/163 [==============================] - 16s 96ms/step - loss: 0.0765 - accuracy: 0.9719 - precision_1: 0.9767 - recall_1: 0.9858 - val_loss: 0.6858 - val_accuracy: 0.8125 - val_precision_1: 0.7273 - val_recall_1: 1.0000\n",
      "\n",
      "Epoch 00045: saving model to ./checkpoints/stefan/model_4/model-045-0.68578.hdf5\n",
      "\n",
      "Epoch 00045: saving optimizaer to ./checkpoints/stefan/model_4/model-045-0.68578.pkl\n",
      "Epoch 46/70\n",
      "163/163 [==============================] - 15s 95ms/step - loss: 0.0824 - accuracy: 0.9685 - precision_1: 0.9771 - recall_1: 0.9804 - val_loss: 0.6951 - val_accuracy: 0.9375 - val_precision_1: 0.8889 - val_recall_1: 1.0000\n",
      "\n",
      "Epoch 00046: saving model to ./checkpoints/stefan/model_4/model-046-0.69505.hdf5\n",
      "\n",
      "Epoch 00046: saving optimizaer to ./checkpoints/stefan/model_4/model-046-0.69505.pkl\n",
      "Epoch 47/70\n",
      "163/163 [==============================] - 15s 95ms/step - loss: 0.0747 - accuracy: 0.9723 - precision_1: 0.9764 - recall_1: 0.9858 - val_loss: 0.9168 - val_accuracy: 0.7500 - val_precision_1: 0.6667 - val_recall_1: 1.0000\n",
      "\n",
      "Epoch 00047: saving model to ./checkpoints/stefan/model_4/model-047-0.91680.hdf5\n",
      "\n",
      "Epoch 00047: saving optimizaer to ./checkpoints/stefan/model_4/model-047-0.91680.pkl\n",
      "Epoch 48/70\n",
      "163/163 [==============================] - 15s 94ms/step - loss: 0.0825 - accuracy: 0.9663 - precision_1: 0.9728 - recall_1: 0.9821 - val_loss: 0.2335 - val_accuracy: 0.9375 - val_precision_1: 0.8889 - val_recall_1: 1.0000\n",
      "\n",
      "Epoch 00048: saving model to ./checkpoints/stefan/model_4/model-048-0.23353.hdf5\n",
      "\n",
      "Epoch 00048: saving optimizaer to ./checkpoints/stefan/model_4/model-048-0.23353.pkl\n",
      "Epoch 49/70\n",
      "163/163 [==============================] - 16s 97ms/step - loss: 0.0937 - accuracy: 0.9617 - precision_1: 0.9700 - recall_1: 0.9793 - val_loss: 0.6721 - val_accuracy: 0.8750 - val_precision_1: 0.8000 - val_recall_1: 1.0000\n",
      "\n",
      "Epoch 00049: saving model to ./checkpoints/stefan/model_4/model-049-0.67209.hdf5\n",
      "\n",
      "Epoch 00049: saving optimizaer to ./checkpoints/stefan/model_4/model-049-0.67209.pkl\n",
      "Epoch 50/70\n",
      "163/163 [==============================] - 16s 95ms/step - loss: 0.1525 - accuracy: 0.9368 - precision_1: 0.9405 - recall_1: 0.9778 - val_loss: 0.5866 - val_accuracy: 0.7500 - val_precision_1: 0.6667 - val_recall_1: 1.0000\n",
      "\n",
      "Epoch 00050: saving model to ./checkpoints/stefan/model_4/model-050-0.58658.hdf5\n",
      "\n",
      "Epoch 00050: saving optimizaer to ./checkpoints/stefan/model_4/model-050-0.58658.pkl\n",
      "Epoch 51/70\n",
      "163/163 [==============================] - 16s 101ms/step - loss: 0.1114 - accuracy: 0.9644 - precision_1: 0.9697 - recall_1: 0.9833 - val_loss: 0.3853 - val_accuracy: 0.8750 - val_precision_1: 0.8000 - val_recall_1: 1.0000\n",
      "\n",
      "Epoch 00051: saving model to ./checkpoints/stefan/model_4/model-051-0.38525.hdf5\n",
      "\n",
      "Epoch 00051: saving optimizaer to ./checkpoints/stefan/model_4/model-051-0.38525.pkl\n",
      "Epoch 52/70\n",
      "163/163 [==============================] - 17s 105ms/step - loss: 0.1201 - accuracy: 0.9659 - precision_1: 0.9739 - recall_1: 0.9811 - val_loss: 0.9683 - val_accuracy: 0.8125 - val_precision_1: 0.7273 - val_recall_1: 1.0000\n",
      "\n",
      "Epoch 00052: saving model to ./checkpoints/stefan/model_4/model-052-0.96827.hdf5\n",
      "\n",
      "Epoch 00052: saving optimizaer to ./checkpoints/stefan/model_4/model-052-0.96827.pkl\n",
      "Epoch 53/70\n",
      "163/163 [==============================] - 17s 106ms/step - loss: 0.1083 - accuracy: 0.9619 - precision_1: 0.9708 - recall_1: 0.9793 - val_loss: 0.5104 - val_accuracy: 0.9375 - val_precision_1: 0.8889 - val_recall_1: 1.0000\n",
      "\n",
      "Epoch 00053: saving model to ./checkpoints/stefan/model_4/model-053-0.51038.hdf5\n",
      "\n",
      "Epoch 00053: saving optimizaer to ./checkpoints/stefan/model_4/model-053-0.51038.pkl\n",
      "Epoch 54/70\n",
      "163/163 [==============================] - 17s 106ms/step - loss: 0.0976 - accuracy: 0.9630 - precision_1: 0.9700 - recall_1: 0.9804 - val_loss: 0.7559 - val_accuracy: 0.7500 - val_precision_1: 0.6667 - val_recall_1: 1.0000\n",
      "\n",
      "Epoch 00054: saving model to ./checkpoints/stefan/model_4/model-054-0.75594.hdf5\n",
      "\n",
      "Epoch 00054: saving optimizaer to ./checkpoints/stefan/model_4/model-054-0.75594.pkl\n",
      "Epoch 55/70\n",
      "163/163 [==============================] - 16s 99ms/step - loss: 0.0744 - accuracy: 0.9722 - precision_1: 0.9782 - recall_1: 0.9849 - val_loss: 0.5147 - val_accuracy: 0.8750 - val_precision_1: 0.8000 - val_recall_1: 1.0000\n",
      "\n",
      "Epoch 00055: saving model to ./checkpoints/stefan/model_4/model-055-0.51466.hdf5\n",
      "\n",
      "Epoch 00055: saving optimizaer to ./checkpoints/stefan/model_4/model-055-0.51466.pkl\n",
      "Epoch 56/70\n",
      "163/163 [==============================] - 15s 92ms/step - loss: 0.0816 - accuracy: 0.9678 - precision_1: 0.9711 - recall_1: 0.9864 - val_loss: 0.8404 - val_accuracy: 0.8750 - val_precision_1: 0.8000 - val_recall_1: 1.0000\n",
      "\n",
      "Epoch 00056: saving model to ./checkpoints/stefan/model_4/model-056-0.84039.hdf5\n",
      "\n",
      "Epoch 00056: saving optimizaer to ./checkpoints/stefan/model_4/model-056-0.84039.pkl\n",
      "Epoch 57/70\n",
      "163/163 [==============================] - 15s 91ms/step - loss: 0.0699 - accuracy: 0.9740 - precision_1: 0.9831 - recall_1: 0.9818 - val_loss: 0.7349 - val_accuracy: 0.8750 - val_precision_1: 0.8000 - val_recall_1: 1.0000\n",
      "\n",
      "Epoch 00057: saving model to ./checkpoints/stefan/model_4/model-057-0.73488.hdf5\n",
      "\n",
      "Epoch 00057: saving optimizaer to ./checkpoints/stefan/model_4/model-057-0.73488.pkl\n",
      "Epoch 58/70\n",
      "163/163 [==============================] - 15s 91ms/step - loss: 0.0892 - accuracy: 0.9663 - precision_1: 0.9710 - recall_1: 0.9837 - val_loss: 1.6304 - val_accuracy: 0.7500 - val_precision_1: 0.6667 - val_recall_1: 1.0000\n",
      "\n",
      "Epoch 00058: saving model to ./checkpoints/stefan/model_4/model-058-1.63036.hdf5\n",
      "\n",
      "Epoch 00058: saving optimizaer to ./checkpoints/stefan/model_4/model-058-1.63036.pkl\n",
      "Epoch 59/70\n",
      "163/163 [==============================] - 15s 91ms/step - loss: 0.0750 - accuracy: 0.9691 - precision_1: 0.9750 - recall_1: 0.9837 - val_loss: 0.9778 - val_accuracy: 0.7500 - val_precision_1: 0.6667 - val_recall_1: 1.0000\n",
      "\n",
      "Epoch 00059: saving model to ./checkpoints/stefan/model_4/model-059-0.97778.hdf5\n",
      "\n",
      "Epoch 00059: saving optimizaer to ./checkpoints/stefan/model_4/model-059-0.97778.pkl\n",
      "Epoch 60/70\n",
      "163/163 [==============================] - 16s 99ms/step - loss: 0.0865 - accuracy: 0.9650 - precision_1: 0.9702 - recall_1: 0.9828 - val_loss: 0.8566 - val_accuracy: 0.8125 - val_precision_1: 0.7273 - val_recall_1: 1.0000\n",
      "\n",
      "Epoch 00060: saving model to ./checkpoints/stefan/model_4/model-060-0.85661.hdf5\n",
      "\n",
      "Epoch 00060: saving optimizaer to ./checkpoints/stefan/model_4/model-060-0.85661.pkl\n",
      "Epoch 61/70\n",
      "163/163 [==============================] - 15s 92ms/step - loss: 0.0703 - accuracy: 0.9771 - precision_1: 0.9823 - recall_1: 0.9869 - val_loss: 0.9157 - val_accuracy: 0.8125 - val_precision_1: 0.7273 - val_recall_1: 1.0000\n",
      "\n",
      "Epoch 00061: saving model to ./checkpoints/stefan/model_4/model-061-0.91567.hdf5\n",
      "\n",
      "Epoch 00061: saving optimizaer to ./checkpoints/stefan/model_4/model-061-0.91567.pkl\n",
      "Epoch 62/70\n",
      "163/163 [==============================] - 15s 91ms/step - loss: 0.0702 - accuracy: 0.9739 - precision_1: 0.9809 - recall_1: 0.9840 - val_loss: 0.4602 - val_accuracy: 0.9375 - val_precision_1: 0.8889 - val_recall_1: 1.0000\n"
     ]
    },
    {
     "name": "stdout",
     "output_type": "stream",
     "text": [
      "\n",
      "Epoch 00062: saving model to ./checkpoints/stefan/model_4/model-062-0.46024.hdf5\n",
      "\n",
      "Epoch 00062: saving optimizaer to ./checkpoints/stefan/model_4/model-062-0.46024.pkl\n",
      "Epoch 63/70\n",
      "163/163 [==============================] - 15s 91ms/step - loss: 0.0748 - accuracy: 0.9741 - precision_1: 0.9792 - recall_1: 0.9855 - val_loss: 0.7115 - val_accuracy: 0.8125 - val_precision_1: 0.7273 - val_recall_1: 1.0000\n",
      "\n",
      "Epoch 00063: saving model to ./checkpoints/stefan/model_4/model-063-0.71153.hdf5\n",
      "\n",
      "Epoch 00063: saving optimizaer to ./checkpoints/stefan/model_4/model-063-0.71153.pkl\n",
      "Epoch 64/70\n",
      "163/163 [==============================] - 15s 90ms/step - loss: 0.0882 - accuracy: 0.9703 - precision_1: 0.9732 - recall_1: 0.9869 - val_loss: 0.7783 - val_accuracy: 0.7500 - val_precision_1: 0.6667 - val_recall_1: 1.0000\n",
      "\n",
      "Epoch 00064: saving model to ./checkpoints/stefan/model_4/model-064-0.77825.hdf5\n",
      "\n",
      "Epoch 00064: saving optimizaer to ./checkpoints/stefan/model_4/model-064-0.77825.pkl\n",
      "Epoch 65/70\n",
      "163/163 [==============================] - 15s 91ms/step - loss: 0.0719 - accuracy: 0.9740 - precision_1: 0.9747 - recall_1: 0.9908 - val_loss: 1.0877 - val_accuracy: 0.7500 - val_precision_1: 0.6667 - val_recall_1: 1.0000\n",
      "\n",
      "Epoch 00065: saving model to ./checkpoints/stefan/model_4/model-065-1.08771.hdf5\n",
      "\n",
      "Epoch 00065: saving optimizaer to ./checkpoints/stefan/model_4/model-065-1.08771.pkl\n",
      "Epoch 66/70\n",
      "163/163 [==============================] - 15s 91ms/step - loss: 0.0764 - accuracy: 0.9700 - precision_1: 0.9734 - recall_1: 0.9857 - val_loss: 0.8807 - val_accuracy: 0.7500 - val_precision_1: 0.7500 - val_recall_1: 0.7500\n",
      "\n",
      "Epoch 00066: saving model to ./checkpoints/stefan/model_4/model-066-0.88072.hdf5\n",
      "\n",
      "Epoch 00066: saving optimizaer to ./checkpoints/stefan/model_4/model-066-0.88072.pkl\n",
      "Epoch 67/70\n",
      "163/163 [==============================] - 15s 95ms/step - loss: 0.1282 - accuracy: 0.9521 - precision_1: 0.9649 - recall_1: 0.9705 - val_loss: 0.5321 - val_accuracy: 0.9375 - val_precision_1: 0.8889 - val_recall_1: 1.0000\n",
      "\n",
      "Epoch 00067: saving model to ./checkpoints/stefan/model_4/model-067-0.53214.hdf5\n",
      "\n",
      "Epoch 00067: saving optimizaer to ./checkpoints/stefan/model_4/model-067-0.53214.pkl\n",
      "Epoch 68/70\n",
      "163/163 [==============================] - 15s 95ms/step - loss: 0.0660 - accuracy: 0.9729 - precision_1: 0.9786 - recall_1: 0.9850 - val_loss: 0.4079 - val_accuracy: 0.8125 - val_precision_1: 0.7273 - val_recall_1: 1.0000\n",
      "\n",
      "Epoch 00068: saving model to ./checkpoints/stefan/model_4/model-068-0.40793.hdf5\n",
      "\n",
      "Epoch 00068: saving optimizaer to ./checkpoints/stefan/model_4/model-068-0.40793.pkl\n",
      "Epoch 69/70\n",
      "163/163 [==============================] - 15s 91ms/step - loss: 0.1114 - accuracy: 0.9591 - precision_1: 0.9644 - recall_1: 0.9811 - val_loss: 0.6451 - val_accuracy: 0.8750 - val_precision_1: 0.8000 - val_recall_1: 1.0000\n",
      "\n",
      "Epoch 00069: saving model to ./checkpoints/stefan/model_4/model-069-0.64513.hdf5\n",
      "\n",
      "Epoch 00069: saving optimizaer to ./checkpoints/stefan/model_4/model-069-0.64513.pkl\n",
      "Epoch 70/70\n",
      "163/163 [==============================] - 15s 91ms/step - loss: 0.1741 - accuracy: 0.9331 - precision_1: 0.9349 - recall_1: 0.9808 - val_loss: 0.5952 - val_accuracy: 0.5625 - val_precision_1: 0.5333 - val_recall_1: 1.0000\n",
      "\n",
      "Epoch 00070: saving model to ./checkpoints/stefan/model_4/model-070-0.59522.hdf5\n",
      "\n",
      "Epoch 00070: saving optimizaer to ./checkpoints/stefan/model_4/model-070-0.59522.pkl\n"
     ]
    }
   ],
   "source": [
    "history = model.fit(x_train, y_train, epochs=70, batch_size=0, verbose=1,\n",
    "                    shuffle=True, validation_data=(x_val,y_val),callbacks=[checkpoint_cb])"
   ]
  },
  {
   "cell_type": "code",
   "execution_count": 18,
   "id": "295db869",
   "metadata": {},
   "outputs": [
    {
     "data": {
      "text/plain": [
       "dict_keys(['loss', 'accuracy', 'precision_1', 'recall_1', 'val_loss', 'val_accuracy', 'val_precision_1', 'val_recall_1'])"
      ]
     },
     "execution_count": 18,
     "metadata": {},
     "output_type": "execute_result"
    }
   ],
   "source": [
    "history.history.keys()"
   ]
  },
  {
   "cell_type": "code",
   "execution_count": 19,
   "id": "865a1980",
   "metadata": {},
   "outputs": [],
   "source": [
    "import matplotlib.pyplot as plt"
   ]
  },
  {
   "cell_type": "code",
   "execution_count": 21,
   "id": "85bd4746",
   "metadata": {},
   "outputs": [
    {
     "data": {
      "image/png": "[encoded data removed]",
      "text/plain": [
       "<Figure size 720x720 with 4 Axes>"
      ]
     },
     "metadata": {
      "needs_background": "light"
     },
     "output_type": "display_data"
    }
   ],
   "source": [
    "plt.figure(figsize=(10, 10))\n",
    "\n",
    "plt.subplot(2, 2, 1)\n",
    "plt.title('Loss')\n",
    "plt.plot(history.epoch, history.history['loss'], label='training')\n",
    "plt.plot(history.epoch, history.history['val_loss'], label='validation')\n",
    "plt.legend(loc='best')\n",
    "\n",
    "plt.subplot(2, 2, 2)\n",
    "plt.title('Accuracy')\n",
    "plt.plot(history.epoch, history.history['accuracy'], label='training')\n",
    "plt.plot(history.epoch, history.history['val_accuracy'], label='validation')\n",
    "plt.legend(loc='best')\n",
    "\n",
    "plt.subplot(2, 2, 3)\n",
    "plt.title('Precision')\n",
    "plt.plot(history.epoch, history.history['precision_1'], label='training')\n",
    "plt.plot(history.epoch, history.history['val_precision_1'], label='validation')\n",
    "plt.legend(loc='best')\n",
    "\n",
    "plt.subplot(2, 2, 4)\n",
    "plt.title('Recall')\n",
    "plt.plot(history.epoch, history.history['recall_1'], label='training')\n",
    "plt.plot(history.epoch, history.history['val_recall_1'], label='validation')\n",
    "plt.legend(loc='best')\n",
    "\n",
    "plt.show()"
   ]
  },
  {
   "cell_type": "code",
   "execution_count": 22,
   "id": "223b0f6a",
   "metadata": {},
   "outputs": [],
   "source": [
    "model.save(\"./modeli/stefan/model_5_epoha_70.h5\")"
   ]
  },
  {
   "cell_type": "code",
   "execution_count": 23,
   "id": "93d8d894",
   "metadata": {},
   "outputs": [],
   "source": [
    "import json\n",
    "  \n",
    "# Serializing json \n",
    "json_history = json.dumps(history.history, indent = 4)\n",
    "  \n",
    "# Writing json\n",
    "with open(\"./modeli/stefan/model_5_epoha_70.json\", \"w\") as outfile:\n",
    "    outfile.write(json_history)"
   ]
  },
  {
   "cell_type": "code",
   "execution_count": 24,
   "id": "442626c8",
   "metadata": {},
   "outputs": [],
   "source": [
    "# loadovanje modela\n",
    "from tensorflow.keras.models import load_model\n",
    "\n",
    "model2 = load_model('./modeli/stefan/model_5_epoha_70.h5')"
   ]
  },
  {
   "cell_type": "code",
   "execution_count": 25,
   "id": "391a1ea7",
   "metadata": {},
   "outputs": [],
   "source": [
    "#loadovanje istorije\n",
    "\n",
    "with open('./modeli/stefan/model_5_epoha_70.json', 'r') as openfile:\n",
    "    # Reading from json file\n",
    "    history2 = json.load(openfile)\n"
   ]
  },
  {
   "cell_type": "code",
   "execution_count": 26,
   "id": "b1545689",
   "metadata": {},
   "outputs": [
    {
     "data": {
      "text/plain": [
       "70"
      ]
     },
     "execution_count": 26,
     "metadata": {},
     "output_type": "execute_result"
    }
   ],
   "source": [
    "len(history2['loss'])"
   ]
  },
  {
   "cell_type": "code",
   "execution_count": 27,
   "id": "27a3168f",
   "metadata": {},
   "outputs": [],
   "source": [
    "#history.history.keys()"
   ]
  },
  {
   "cell_type": "code",
   "execution_count": 28,
   "id": "0ae21919",
   "metadata": {},
   "outputs": [],
   "source": [
    "#len(history.history['loss'])"
   ]
  },
  {
   "cell_type": "code",
   "execution_count": 29,
   "id": "66c292f6",
   "metadata": {},
   "outputs": [],
   "source": [
    "directory_test = \"../chest_xray_norm/test\"\n",
    "x_test, y_test = get_data(directory_test)"
   ]
  },
  {
   "cell_type": "code",
   "execution_count": 30,
   "id": "d111e359",
   "metadata": {},
   "outputs": [],
   "source": [
    "y_pred = model2.predict(x_test)"
   ]
  },
  {
   "cell_type": "code",
   "execution_count": 31,
   "id": "3ec99f2b",
   "metadata": {},
   "outputs": [],
   "source": [
    "#y_pred_round = np.round(y_pred)"
   ]
  },
  {
   "cell_type": "code",
   "execution_count": 32,
   "id": "9aa7bdcb",
   "metadata": {},
   "outputs": [],
   "source": [
    "y_pred = y_pred.astype(int)"
   ]
  },
  {
   "cell_type": "code",
   "execution_count": 33,
   "id": "fc535bb7",
   "metadata": {},
   "outputs": [],
   "source": [
    "#y_test"
   ]
  },
  {
   "cell_type": "code",
   "execution_count": 34,
   "id": "4a6b9494",
   "metadata": {},
   "outputs": [],
   "source": [
    "#y_pred"
   ]
  },
  {
   "cell_type": "code",
   "execution_count": 35,
   "id": "f0c32fd0",
   "metadata": {},
   "outputs": [],
   "source": [
    "y_pred = np.ravel(y_pred)"
   ]
  },
  {
   "cell_type": "code",
   "execution_count": 36,
   "id": "ae64c6fe",
   "metadata": {},
   "outputs": [],
   "source": [
    "tacnost = [y_pred==y_test]"
   ]
  },
  {
   "cell_type": "code",
   "execution_count": 37,
   "id": "6df91325",
   "metadata": {},
   "outputs": [],
   "source": [
    "#tacnost"
   ]
  },
  {
   "cell_type": "code",
   "execution_count": 38,
   "id": "e1ef31a8",
   "metadata": {},
   "outputs": [],
   "source": [
    "tacnost = np.average(tacnost)"
   ]
  },
  {
   "cell_type": "code",
   "execution_count": 39,
   "id": "368a729e",
   "metadata": {},
   "outputs": [
    {
     "data": {
      "text/plain": [
       "0.391025641025641"
      ]
     },
     "execution_count": 39,
     "metadata": {},
     "output_type": "execute_result"
    }
   ],
   "source": [
    "tacnost"
   ]
  },
  {
   "cell_type": "code",
   "execution_count": 40,
   "id": "0d0d569d",
   "metadata": {},
   "outputs": [],
   "source": [
    "best_model_checkpoint_path = \"./checkpoints/stefan/model_4/model-048-0.23353.hdf5\""
   ]
  },
  {
   "cell_type": "code",
   "execution_count": 41,
   "id": "81d73f7e",
   "metadata": {},
   "outputs": [],
   "source": [
    "import tensorflow as tf\n",
    "from tensorflow.keras.models import load_model\n",
    "import pickle\n",
    "\n",
    "def load_model_data(model_path):\n",
    "    model = load_model(model_path)\n",
    "    \n",
    "    return model"
   ]
  },
  {
   "cell_type": "code",
   "execution_count": 42,
   "id": "45e63701",
   "metadata": {},
   "outputs": [],
   "source": [
    "model_best = load_model_data(best_model_checkpoint_path)"
   ]
  },
  {
   "cell_type": "code",
   "execution_count": 43,
   "id": "766d505b",
   "metadata": {},
   "outputs": [],
   "source": [
    "y_pred_best = model_best.predict(x_test)"
   ]
  },
  {
   "cell_type": "code",
   "execution_count": 44,
   "id": "eed34a6f",
   "metadata": {},
   "outputs": [],
   "source": [
    "y_pred_best = y_pred_best.astype(int)\n",
    "y_pred_best = np.ravel(y_pred_best)"
   ]
  },
  {
   "cell_type": "code",
   "execution_count": 45,
   "id": "8cd8bf4b",
   "metadata": {},
   "outputs": [],
   "source": [
    "tacnost = [y_pred_best==y_test]"
   ]
  },
  {
   "cell_type": "code",
   "execution_count": 46,
   "id": "1cd40e90",
   "metadata": {},
   "outputs": [],
   "source": [
    "tacnost = np.average(tacnost)"
   ]
  },
  {
   "cell_type": "code",
   "execution_count": 47,
   "id": "f3551e62",
   "metadata": {},
   "outputs": [
    {
     "data": {
      "text/plain": [
       "0.3958333333333333"
      ]
     },
     "execution_count": 47,
     "metadata": {},
     "output_type": "execute_result"
    }
   ],
   "source": [
    "tacnost"
   ]
  },
  {
   "cell_type": "code",
   "execution_count": null,
   "id": "e084dc11",
   "metadata": {},
   "outputs": [],
   "source": []
  },
  {
   "cell_type": "code",
   "execution_count": null,
   "id": "cbf6182b",
   "metadata": {},
   "outputs": [],
   "source": []
  },
  {
   "cell_type": "code",
   "execution_count": null,
   "id": "6a707651",
   "metadata": {},
   "outputs": [],
   "source": []
  }
 ],
 "metadata": {
  "kernelspec": {
   "display_name": "Python 3 (ipykernel)",
   "language": "python",
   "name": "python3"
  },
  "language_info": {
   "codemirror_mode": {
    "name": "ipython",
    "version": 3
   },
   "file_extension": ".py",
   "mimetype": "text/x-python",
   "name": "python",
   "nbconvert_exporter": "python",
   "pygments_lexer": "ipython3",
   "version": "3.9.12"
  }
 },
 "nbformat": 4,
 "nbformat_minor": 5
}

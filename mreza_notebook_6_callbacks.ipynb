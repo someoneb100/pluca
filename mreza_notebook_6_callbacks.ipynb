{
 "cells": [
  {
   "cell_type": "code",
   "execution_count": null,
   "id": "f916cc64",
   "metadata": {},
   "outputs": [],
   "source": [
    "from os import path, listdir\n",
    "from PIL import Image\n",
    "import numpy as np"
   ]
  },
  {
   "cell_type": "code",
   "execution_count": 4,
   "id": "977405cd",
   "metadata": {},
   "outputs": [
    {
     "name": "stdout",
     "output_type": "stream",
     "text": [
      "1 Physical GPUs, 1 Logical GPUs\n"
     ]
    }
   ],
   "source": [
    "import tensorflow as tf\n",
    "gpus = tf.config.experimental.list_physical_devices('GPU')\n",
    "if gpus:\n",
    "    try:\n",
    "        # Currently, memory growth needs to be the same across GPUs\n",
    "        for gpu in gpus:\n",
    "            tf.config.experimental.set_memory_growth(gpu, True)\n",
    "        logical_gpus = tf.config.experimental.list_logical_devices('GPU')\n",
    "        print(len(gpus), \"Physical GPUs,\", len(logical_gpus), \"Logical GPUs\")\n",
    "    except RuntimeError as e:\n",
    "        # Memory growth must be set before GPUs have been initialized\n",
    "        print(e)"
   ]
  },
  {
   "cell_type": "code",
   "execution_count": 5,
   "id": "07cb28a7",
   "metadata": {},
   "outputs": [],
   "source": [
    "def get_data(directory: str) -> \"tuple[np.ndarray, np.ndarray]\":\n",
    "    ima = listdir(path.join(directory, \"PNEUMONIA\"))\n",
    "    nema = listdir(path.join(directory, \"NORMAL\"))\n",
    "    size = len(ima) + len(nema)\n",
    "    X = np.empty((size, 250, 350), dtype=np.uint8)\n",
    "    y = np.empty((size), dtype=np.uint8)\n",
    "    for i, file in enumerate(ima):\n",
    "        X[i] = np.asarray(Image.open(path.join(directory, \"PNEUMONIA\", file)))\n",
    "        y[i] = 1\n",
    "    for i, file in enumerate(nema):\n",
    "        X[len(ima) + i] = np.asarray(Image.open(path.join(directory, \"NORMAL\", file)))\n",
    "        y[len(ima) + i] = 0\n",
    "    return X , y"
   ]
  },
  {
   "cell_type": "code",
   "execution_count": 8,
   "id": "e9876ef7",
   "metadata": {},
   "outputs": [],
   "source": [
    "from modeli_stefan import make_model_1"
   ]
  },
  {
   "cell_type": "code",
   "execution_count": 10,
   "id": "254fdc66",
   "metadata": {},
   "outputs": [
    {
     "name": "stdout",
     "output_type": "stream",
     "text": [
      "Model: \"model_2\"\n",
      "_________________________________________________________________\n",
      "Layer (type)                 Output Shape              Param #   \n",
      "=================================================================\n",
      "input_3 (InputLayer)         [(None, 250, 350)]        0         \n",
      "_________________________________________________________________\n",
      "rescaling_2 (Rescaling)      (None, 250, 350)          0         \n",
      "_________________________________________________________________\n",
      "gaussian_noise_2 (GaussianNo (None, 250, 350)          0         \n",
      "_________________________________________________________________\n",
      "tf.clip_by_value_2 (TFOpLamb (None, 250, 350)          0         \n",
      "_________________________________________________________________\n",
      "reshape_2 (Reshape)          (None, 250, 350, 1)       0         \n",
      "_________________________________________________________________\n",
      "conv2d_8 (Conv2D)            (None, 248, 348, 16)      160       \n",
      "_________________________________________________________________\n",
      "max_pooling2d_8 (MaxPooling2 (None, 82, 116, 16)       0         \n",
      "_________________________________________________________________\n",
      "conv2d_9 (Conv2D)            (None, 79, 113, 16)       4112      \n",
      "_________________________________________________________________\n",
      "max_pooling2d_9 (MaxPooling2 (None, 19, 28, 16)        0         \n",
      "_________________________________________________________________\n",
      "conv2d_10 (Conv2D)           (None, 15, 24, 32)        12832     \n",
      "_________________________________________________________________\n",
      "max_pooling2d_10 (MaxPooling (None, 3, 4, 32)          0         \n",
      "_________________________________________________________________\n",
      "dropout_2 (Dropout)          (None, 3, 4, 32)          0         \n",
      "_________________________________________________________________\n",
      "flatten_2 (Flatten)          (None, 384)               0         \n",
      "_________________________________________________________________\n",
      "dense_6 (Dense)              (None, 256)               98560     \n",
      "_________________________________________________________________\n",
      "dense_7 (Dense)              (None, 128)               32896     \n",
      "_________________________________________________________________\n",
      "dropout_3 (Dropout)          (None, 128)               0         \n",
      "_________________________________________________________________\n",
      "dense_8 (Dense)              (None, 1)                 129       \n",
      "=================================================================\n",
      "Total params: 148,689\n",
      "Trainable params: 148,689\n",
      "Non-trainable params: 0\n",
      "_________________________________________________________________\n"
     ]
    }
   ],
   "source": [
    "directory_train = \"../chest_xray_norm/train\"\n",
    "x_train, y_train = get_data(directory_train)\n",
    "\n",
    "directory_val = \"../chest_xray_norm/val\"\n",
    "x_val, y_val = get_data(directory_val)\n",
    "\n",
    "model = make_model_1(x_train[0].shape)\n",
    "model.summary()"
   ]
  },
  {
   "cell_type": "code",
   "execution_count": 11,
   "id": "97d67026",
   "metadata": {},
   "outputs": [],
   "source": [
    "import pickle\n",
    "from tensorflow.keras.callbacks import ModelCheckpoint"
   ]
  },
  {
   "cell_type": "code",
   "execution_count": 12,
   "id": "6255b066",
   "metadata": {},
   "outputs": [],
   "source": [
    "class MyModelCheckpoint(ModelCheckpoint):\n",
    "    def __init__(self, *args, **kwargs):\n",
    "        super().__init__(*args, **kwargs)\n",
    "\n",
    "    def on_epoch_end(self, epoch, logs=None):\n",
    "        super().on_epoch_end(epoch,logs)\\\n",
    "\n",
    "        # Also save the optimizer state\n",
    "        filepath = self._get_file_path(epoch=epoch, \n",
    "            logs=logs)\n",
    "        filepath = filepath.rsplit( \".\", 1 )[ 0 ] \n",
    "        filepath += \".pkl\"\n",
    "\n",
    "        with open(filepath, 'wb') as fp:\n",
    "              pickle.dump(\n",
    "                {\n",
    "                  'opt': model.optimizer.get_config(),\n",
    "                  'epoch': epoch+1\n",
    "                 # Add additional keys if you need to store more values\n",
    "                }, fp, protocol=pickle.HIGHEST_PROTOCOL)\n",
    "        print('\\nEpoch %05d: saving optimizaer to %s' % (epoch + 1, filepath))"
   ]
  },
  {
   "cell_type": "code",
   "execution_count": 13,
   "id": "f43e2d43",
   "metadata": {},
   "outputs": [],
   "source": [
    "save_dir = \"./checkpoints/stefan/model_1_checkpoints\""
   ]
  },
  {
   "cell_type": "code",
   "execution_count": 14,
   "id": "168f8cb3",
   "metadata": {},
   "outputs": [],
   "source": [
    "checkpoint_cb = MyModelCheckpoint(\n",
    "path.join(save_dir, 'model-{epoch:03d}-{val_loss:.5f}.hdf5'),\n",
    "monitor='val_loss',verbose=1)"
   ]
  },
  {
   "cell_type": "code",
   "execution_count": 15,
   "id": "8b682381",
   "metadata": {},
   "outputs": [
    {
     "name": "stderr",
     "output_type": "stream",
     "text": [
      "2022-05-26 17:42:33.675094: I tensorflow/compiler/mlir/mlir_graph_optimization_pass.cc:116] None of the MLIR optimization passes are enabled (registered 2)\n",
      "2022-05-26 17:42:33.700373: I tensorflow/core/platform/profile_utils/cpu_utils.cc:112] CPU Frequency: 2400000000 Hz\n"
     ]
    },
    {
     "name": "stdout",
     "output_type": "stream",
     "text": [
      "Epoch 1/50\n"
     ]
    },
    {
     "name": "stderr",
     "output_type": "stream",
     "text": [
      "2022-05-26 17:42:34.311026: I tensorflow/stream_executor/platform/default/dso_loader.cc:49] Successfully opened dynamic library libcublas.so.10\n",
      "2022-05-26 17:42:34.731889: I tensorflow/stream_executor/platform/default/dso_loader.cc:49] Successfully opened dynamic library libcudnn.so.7\n",
      "2022-05-26 17:42:35.773333: W tensorflow/stream_executor/gpu/asm_compiler.cc:63] Running ptxas --version returned 256\n",
      "2022-05-26 17:42:35.800259: W tensorflow/stream_executor/gpu/redzone_allocator.cc:314] Internal: ptxas exited with non-zero error code 256, output: \n",
      "Relying on driver to perform ptx compilation. \n",
      "Modify $PATH to customize ptxas location.\n",
      "This message will be only logged once.\n"
     ]
    },
    {
     "name": "stdout",
     "output_type": "stream",
     "text": [
      "163/163 [==============================] - 19s 89ms/step - loss: 0.4480 - accuracy: 0.8012 - precision_2: 0.8118 - recall_2: 0.9630 - val_loss: 1.5300 - val_accuracy: 0.5625 - val_precision_2: 0.5333 - val_recall_2: 1.0000\n",
      "\n",
      "Epoch 00001: saving model to ./checkpoints/stefan/model_1_checkpoints/model-001-1.52997.hdf5\n",
      "\n",
      "Epoch 00001: saving optimizaer to ./checkpoints/stefan/model_1_checkpoints/model-001-1.52997.pkl\n",
      "Epoch 2/50\n",
      "163/163 [==============================] - 13s 79ms/step - loss: 0.1664 - accuracy: 0.9378 - precision_2: 0.9601 - recall_2: 0.9548 - val_loss: 0.7136 - val_accuracy: 0.5625 - val_precision_2: 0.5333 - val_recall_2: 1.0000\n",
      "\n",
      "Epoch 00002: saving model to ./checkpoints/stefan/model_1_checkpoints/model-002-0.71363.hdf5\n",
      "\n",
      "Epoch 00002: saving optimizaer to ./checkpoints/stefan/model_1_checkpoints/model-002-0.71363.pkl\n",
      "Epoch 3/50\n",
      "163/163 [==============================] - 13s 79ms/step - loss: 0.1285 - accuracy: 0.9546 - precision_2: 0.9725 - recall_2: 0.9664 - val_loss: 0.2338 - val_accuracy: 0.8125 - val_precision_2: 0.7273 - val_recall_2: 1.0000\n",
      "\n",
      "Epoch 00003: saving model to ./checkpoints/stefan/model_1_checkpoints/model-003-0.23382.hdf5\n",
      "\n",
      "Epoch 00003: saving optimizaer to ./checkpoints/stefan/model_1_checkpoints/model-003-0.23382.pkl\n",
      "Epoch 4/50\n",
      "163/163 [==============================] - 13s 80ms/step - loss: 0.1032 - accuracy: 0.9595 - precision_2: 0.9750 - recall_2: 0.9703 - val_loss: 0.5935 - val_accuracy: 0.6875 - val_precision_2: 0.6154 - val_recall_2: 1.0000\n",
      "\n",
      "Epoch 00004: saving model to ./checkpoints/stefan/model_1_checkpoints/model-004-0.59345.hdf5\n",
      "\n",
      "Epoch 00004: saving optimizaer to ./checkpoints/stefan/model_1_checkpoints/model-004-0.59345.pkl\n",
      "Epoch 5/50\n",
      "163/163 [==============================] - 13s 78ms/step - loss: 0.0944 - accuracy: 0.9662 - precision_2: 0.9799 - recall_2: 0.9744 - val_loss: 0.1911 - val_accuracy: 0.9375 - val_precision_2: 0.8889 - val_recall_2: 1.0000\n",
      "\n",
      "Epoch 00005: saving model to ./checkpoints/stefan/model_1_checkpoints/model-005-0.19110.hdf5\n",
      "\n",
      "Epoch 00005: saving optimizaer to ./checkpoints/stefan/model_1_checkpoints/model-005-0.19110.pkl\n",
      "Epoch 6/50\n",
      "163/163 [==============================] - 13s 78ms/step - loss: 0.0854 - accuracy: 0.9691 - precision_2: 0.9815 - recall_2: 0.9772 - val_loss: 0.4568 - val_accuracy: 0.6875 - val_precision_2: 0.6154 - val_recall_2: 1.0000\n",
      "\n",
      "Epoch 00006: saving model to ./checkpoints/stefan/model_1_checkpoints/model-006-0.45678.hdf5\n",
      "\n",
      "Epoch 00006: saving optimizaer to ./checkpoints/stefan/model_1_checkpoints/model-006-0.45678.pkl\n",
      "Epoch 7/50\n",
      "163/163 [==============================] - 13s 80ms/step - loss: 0.0835 - accuracy: 0.9686 - precision_2: 0.9802 - recall_2: 0.9773 - val_loss: 0.5793 - val_accuracy: 0.6875 - val_precision_2: 0.6154 - val_recall_2: 1.0000\n",
      "\n",
      "Epoch 00007: saving model to ./checkpoints/stefan/model_1_checkpoints/model-007-0.57934.hdf5\n",
      "\n",
      "Epoch 00007: saving optimizaer to ./checkpoints/stefan/model_1_checkpoints/model-007-0.57934.pkl\n",
      "Epoch 8/50\n",
      "163/163 [==============================] - 13s 79ms/step - loss: 0.0705 - accuracy: 0.9724 - precision_2: 0.9838 - recall_2: 0.9796 - val_loss: 0.6483 - val_accuracy: 0.6250 - val_precision_2: 0.5714 - val_recall_2: 1.0000\n",
      "\n",
      "Epoch 00008: saving model to ./checkpoints/stefan/model_1_checkpoints/model-008-0.64826.hdf5\n",
      "\n",
      "Epoch 00008: saving optimizaer to ./checkpoints/stefan/model_1_checkpoints/model-008-0.64826.pkl\n",
      "Epoch 9/50\n",
      "163/163 [==============================] - 13s 79ms/step - loss: 0.0702 - accuracy: 0.9719 - precision_2: 0.9801 - recall_2: 0.9823 - val_loss: 0.8005 - val_accuracy: 0.5625 - val_precision_2: 0.5333 - val_recall_2: 1.0000\n",
      "\n",
      "Epoch 00009: saving model to ./checkpoints/stefan/model_1_checkpoints/model-009-0.80048.hdf5\n",
      "\n",
      "Epoch 00009: saving optimizaer to ./checkpoints/stefan/model_1_checkpoints/model-009-0.80048.pkl\n",
      "Epoch 10/50\n",
      "163/163 [==============================] - 13s 79ms/step - loss: 0.0574 - accuracy: 0.9779 - precision_2: 0.9846 - recall_2: 0.9856 - val_loss: 0.4260 - val_accuracy: 0.8125 - val_precision_2: 0.7273 - val_recall_2: 1.0000\n",
      "\n",
      "Epoch 00010: saving model to ./checkpoints/stefan/model_1_checkpoints/model-010-0.42600.hdf5\n",
      "\n",
      "Epoch 00010: saving optimizaer to ./checkpoints/stefan/model_1_checkpoints/model-010-0.42600.pkl\n",
      "Epoch 11/50\n",
      "163/163 [==============================] - 13s 83ms/step - loss: 0.0479 - accuracy: 0.9819 - precision_2: 0.9891 - recall_2: 0.9867 - val_loss: 0.3855 - val_accuracy: 0.8125 - val_precision_2: 0.7273 - val_recall_2: 1.0000\n",
      "\n",
      "Epoch 00011: saving model to ./checkpoints/stefan/model_1_checkpoints/model-011-0.38554.hdf5\n",
      "\n",
      "Epoch 00011: saving optimizaer to ./checkpoints/stefan/model_1_checkpoints/model-011-0.38554.pkl\n",
      "Epoch 12/50\n",
      "163/163 [==============================] - 13s 82ms/step - loss: 0.0509 - accuracy: 0.9818 - precision_2: 0.9888 - recall_2: 0.9864 - val_loss: 0.2061 - val_accuracy: 0.9375 - val_precision_2: 0.8889 - val_recall_2: 1.0000\n",
      "\n",
      "Epoch 00012: saving model to ./checkpoints/stefan/model_1_checkpoints/model-012-0.20608.hdf5\n",
      "\n",
      "Epoch 00012: saving optimizaer to ./checkpoints/stefan/model_1_checkpoints/model-012-0.20608.pkl\n",
      "Epoch 13/50\n",
      "163/163 [==============================] - 13s 80ms/step - loss: 0.0479 - accuracy: 0.9814 - precision_2: 0.9889 - recall_2: 0.9864 - val_loss: 0.2090 - val_accuracy: 0.8750 - val_precision_2: 0.8000 - val_recall_2: 1.0000\n",
      "\n",
      "Epoch 00013: saving model to ./checkpoints/stefan/model_1_checkpoints/model-013-0.20904.hdf5\n",
      "\n",
      "Epoch 00013: saving optimizaer to ./checkpoints/stefan/model_1_checkpoints/model-013-0.20904.pkl\n",
      "Epoch 14/50\n",
      "163/163 [==============================] - 13s 80ms/step - loss: 0.0401 - accuracy: 0.9849 - precision_2: 0.9909 - recall_2: 0.9888 - val_loss: 0.4791 - val_accuracy: 0.7500 - val_precision_2: 0.6667 - val_recall_2: 1.0000\n",
      "\n",
      "Epoch 00014: saving model to ./checkpoints/stefan/model_1_checkpoints/model-014-0.47907.hdf5\n",
      "\n",
      "Epoch 00014: saving optimizaer to ./checkpoints/stefan/model_1_checkpoints/model-014-0.47907.pkl\n",
      "Epoch 15/50\n",
      "163/163 [==============================] - 13s 81ms/step - loss: 0.0355 - accuracy: 0.9878 - precision_2: 0.9924 - recall_2: 0.9910 - val_loss: 0.2766 - val_accuracy: 0.8750 - val_precision_2: 0.8000 - val_recall_2: 1.0000\n",
      "\n",
      "Epoch 00015: saving model to ./checkpoints/stefan/model_1_checkpoints/model-015-0.27656.hdf5\n",
      "\n",
      "Epoch 00015: saving optimizaer to ./checkpoints/stefan/model_1_checkpoints/model-015-0.27656.pkl\n",
      "Epoch 16/50\n",
      "163/163 [==============================] - 13s 82ms/step - loss: 0.0395 - accuracy: 0.9838 - precision_2: 0.9900 - recall_2: 0.9885 - val_loss: 0.2474 - val_accuracy: 0.9375 - val_precision_2: 0.8889 - val_recall_2: 1.0000\n",
      "\n",
      "Epoch 00016: saving model to ./checkpoints/stefan/model_1_checkpoints/model-016-0.24737.hdf5\n",
      "\n",
      "Epoch 00016: saving optimizaer to ./checkpoints/stefan/model_1_checkpoints/model-016-0.24737.pkl\n",
      "Epoch 17/50\n",
      "163/163 [==============================] - 13s 82ms/step - loss: 0.0370 - accuracy: 0.9892 - precision_2: 0.9941 - recall_2: 0.9911 - val_loss: 0.1826 - val_accuracy: 0.9375 - val_precision_2: 0.8889 - val_recall_2: 1.0000\n",
      "\n",
      "Epoch 00017: saving model to ./checkpoints/stefan/model_1_checkpoints/model-017-0.18263.hdf5\n",
      "\n",
      "Epoch 00017: saving optimizaer to ./checkpoints/stefan/model_1_checkpoints/model-017-0.18263.pkl\n",
      "Epoch 18/50\n",
      "163/163 [==============================] - 14s 83ms/step - loss: 0.0294 - accuracy: 0.9892 - precision_2: 0.9928 - recall_2: 0.9925 - val_loss: 0.0871 - val_accuracy: 1.0000 - val_precision_2: 1.0000 - val_recall_2: 1.0000\n",
      "\n",
      "Epoch 00018: saving model to ./checkpoints/stefan/model_1_checkpoints/model-018-0.08711.hdf5\n",
      "\n",
      "Epoch 00018: saving optimizaer to ./checkpoints/stefan/model_1_checkpoints/model-018-0.08711.pkl\n",
      "Epoch 19/50\n",
      "163/163 [==============================] - 15s 92ms/step - loss: 0.0236 - accuracy: 0.9911 - precision_2: 0.9943 - recall_2: 0.9939 - val_loss: 0.4465 - val_accuracy: 0.6875 - val_precision_2: 0.6154 - val_recall_2: 1.0000\n",
      "\n",
      "Epoch 00019: saving model to ./checkpoints/stefan/model_1_checkpoints/model-019-0.44655.hdf5\n",
      "\n",
      "Epoch 00019: saving optimizaer to ./checkpoints/stefan/model_1_checkpoints/model-019-0.44655.pkl\n",
      "Epoch 20/50\n"
     ]
    },
    {
     "name": "stdout",
     "output_type": "stream",
     "text": [
      "163/163 [==============================] - 16s 99ms/step - loss: 0.0267 - accuracy: 0.9908 - precision_2: 0.9926 - recall_2: 0.9952 - val_loss: 0.1188 - val_accuracy: 0.9375 - val_precision_2: 0.8889 - val_recall_2: 1.0000\n",
      "\n",
      "Epoch 00020: saving model to ./checkpoints/stefan/model_1_checkpoints/model-020-0.11879.hdf5\n",
      "\n",
      "Epoch 00020: saving optimizaer to ./checkpoints/stefan/model_1_checkpoints/model-020-0.11879.pkl\n",
      "Epoch 21/50\n",
      "163/163 [==============================] - 14s 86ms/step - loss: 0.0294 - accuracy: 0.9894 - precision_2: 0.9943 - recall_2: 0.9914 - val_loss: 0.3438 - val_accuracy: 0.7500 - val_precision_2: 0.6667 - val_recall_2: 1.0000\n",
      "\n",
      "Epoch 00021: saving model to ./checkpoints/stefan/model_1_checkpoints/model-021-0.34383.hdf5\n",
      "\n",
      "Epoch 00021: saving optimizaer to ./checkpoints/stefan/model_1_checkpoints/model-021-0.34383.pkl\n",
      "Epoch 22/50\n",
      "163/163 [==============================] - 14s 88ms/step - loss: 0.0261 - accuracy: 0.9906 - precision_2: 0.9937 - recall_2: 0.9936 - val_loss: 1.4878 - val_accuracy: 0.5625 - val_precision_2: 0.5333 - val_recall_2: 1.0000\n",
      "\n",
      "Epoch 00022: saving model to ./checkpoints/stefan/model_1_checkpoints/model-022-1.48780.hdf5\n",
      "\n",
      "Epoch 00022: saving optimizaer to ./checkpoints/stefan/model_1_checkpoints/model-022-1.48780.pkl\n",
      "Epoch 23/50\n",
      "163/163 [==============================] - 13s 83ms/step - loss: 0.0316 - accuracy: 0.9888 - precision_2: 0.9937 - recall_2: 0.9914 - val_loss: 0.9843 - val_accuracy: 0.6875 - val_precision_2: 0.6154 - val_recall_2: 1.0000\n",
      "\n",
      "Epoch 00023: saving model to ./checkpoints/stefan/model_1_checkpoints/model-023-0.98431.hdf5\n",
      "\n",
      "Epoch 00023: saving optimizaer to ./checkpoints/stefan/model_1_checkpoints/model-023-0.98431.pkl\n",
      "Epoch 24/50\n",
      "163/163 [==============================] - 13s 83ms/step - loss: 0.0197 - accuracy: 0.9937 - precision_2: 0.9952 - recall_2: 0.9963 - val_loss: 0.2424 - val_accuracy: 0.9375 - val_precision_2: 0.8889 - val_recall_2: 1.0000\n",
      "\n",
      "Epoch 00024: saving model to ./checkpoints/stefan/model_1_checkpoints/model-024-0.24240.hdf5\n",
      "\n",
      "Epoch 00024: saving optimizaer to ./checkpoints/stefan/model_1_checkpoints/model-024-0.24240.pkl\n",
      "Epoch 25/50\n",
      "163/163 [==============================] - 14s 85ms/step - loss: 0.0294 - accuracy: 0.9896 - precision_2: 0.9946 - recall_2: 0.9914 - val_loss: 0.6791 - val_accuracy: 0.6875 - val_precision_2: 0.6154 - val_recall_2: 1.0000\n",
      "\n",
      "Epoch 00025: saving model to ./checkpoints/stefan/model_1_checkpoints/model-025-0.67907.hdf5\n",
      "\n",
      "Epoch 00025: saving optimizaer to ./checkpoints/stefan/model_1_checkpoints/model-025-0.67907.pkl\n",
      "Epoch 26/50\n",
      "163/163 [==============================] - 13s 82ms/step - loss: 0.0200 - accuracy: 0.9927 - precision_2: 0.9944 - recall_2: 0.9957 - val_loss: 0.2245 - val_accuracy: 0.8750 - val_precision_2: 0.8000 - val_recall_2: 1.0000\n",
      "\n",
      "Epoch 00026: saving model to ./checkpoints/stefan/model_1_checkpoints/model-026-0.22446.hdf5\n",
      "\n",
      "Epoch 00026: saving optimizaer to ./checkpoints/stefan/model_1_checkpoints/model-026-0.22446.pkl\n",
      "Epoch 27/50\n",
      "163/163 [==============================] - 13s 81ms/step - loss: 0.0192 - accuracy: 0.9917 - precision_2: 0.9975 - recall_2: 0.9913 - val_loss: 0.2903 - val_accuracy: 0.8750 - val_precision_2: 0.8000 - val_recall_2: 1.0000\n",
      "\n",
      "Epoch 00027: saving model to ./checkpoints/stefan/model_1_checkpoints/model-027-0.29033.hdf5\n",
      "\n",
      "Epoch 00027: saving optimizaer to ./checkpoints/stefan/model_1_checkpoints/model-027-0.29033.pkl\n",
      "Epoch 28/50\n",
      "163/163 [==============================] - 14s 84ms/step - loss: 0.0216 - accuracy: 0.9926 - precision_2: 0.9939 - recall_2: 0.9961 - val_loss: 0.6069 - val_accuracy: 0.6875 - val_precision_2: 0.6154 - val_recall_2: 1.0000\n",
      "\n",
      "Epoch 00028: saving model to ./checkpoints/stefan/model_1_checkpoints/model-028-0.60685.hdf5\n",
      "\n",
      "Epoch 00028: saving optimizaer to ./checkpoints/stefan/model_1_checkpoints/model-028-0.60685.pkl\n",
      "Epoch 29/50\n",
      "163/163 [==============================] - 14s 87ms/step - loss: 0.0213 - accuracy: 0.9934 - precision_2: 0.9954 - recall_2: 0.9957 - val_loss: 1.0113 - val_accuracy: 0.7500 - val_precision_2: 0.6667 - val_recall_2: 1.0000\n",
      "\n",
      "Epoch 00029: saving model to ./checkpoints/stefan/model_1_checkpoints/model-029-1.01127.hdf5\n",
      "\n",
      "Epoch 00029: saving optimizaer to ./checkpoints/stefan/model_1_checkpoints/model-029-1.01127.pkl\n",
      "Epoch 30/50\n",
      "163/163 [==============================] - 14s 86ms/step - loss: 0.0111 - accuracy: 0.9967 - precision_2: 0.9974 - recall_2: 0.9982 - val_loss: 0.7461 - val_accuracy: 0.7500 - val_precision_2: 0.6667 - val_recall_2: 1.0000\n",
      "\n",
      "Epoch 00030: saving model to ./checkpoints/stefan/model_1_checkpoints/model-030-0.74611.hdf5\n",
      "\n",
      "Epoch 00030: saving optimizaer to ./checkpoints/stefan/model_1_checkpoints/model-030-0.74611.pkl\n",
      "Epoch 31/50\n",
      "163/163 [==============================] - 14s 85ms/step - loss: 0.0177 - accuracy: 0.9931 - precision_2: 0.9956 - recall_2: 0.9950 - val_loss: 0.3462 - val_accuracy: 0.8125 - val_precision_2: 0.7273 - val_recall_2: 1.0000\n",
      "\n",
      "Epoch 00031: saving model to ./checkpoints/stefan/model_1_checkpoints/model-031-0.34615.hdf5\n",
      "\n",
      "Epoch 00031: saving optimizaer to ./checkpoints/stefan/model_1_checkpoints/model-031-0.34615.pkl\n",
      "Epoch 32/50\n",
      "163/163 [==============================] - 14s 86ms/step - loss: 0.0190 - accuracy: 0.9934 - precision_2: 0.9955 - recall_2: 0.9957 - val_loss: 0.8950 - val_accuracy: 0.6250 - val_precision_2: 0.5714 - val_recall_2: 1.0000\n",
      "\n",
      "Epoch 00032: saving model to ./checkpoints/stefan/model_1_checkpoints/model-032-0.89498.hdf5\n",
      "\n",
      "Epoch 00032: saving optimizaer to ./checkpoints/stefan/model_1_checkpoints/model-032-0.89498.pkl\n",
      "Epoch 33/50\n",
      "163/163 [==============================] - 32s 195ms/step - loss: 0.0185 - accuracy: 0.9928 - precision_2: 0.9942 - recall_2: 0.9960 - val_loss: 0.6696 - val_accuracy: 0.8125 - val_precision_2: 0.7273 - val_recall_2: 1.0000\n",
      "\n",
      "Epoch 00033: saving model to ./checkpoints/stefan/model_1_checkpoints/model-033-0.66963.hdf5\n",
      "\n",
      "Epoch 00033: saving optimizaer to ./checkpoints/stefan/model_1_checkpoints/model-033-0.66963.pkl\n",
      "Epoch 34/50\n",
      "163/163 [==============================] - 32s 196ms/step - loss: 0.0201 - accuracy: 0.9913 - precision_2: 0.9925 - recall_2: 0.9958 - val_loss: 0.4386 - val_accuracy: 0.8750 - val_precision_2: 0.8000 - val_recall_2: 1.0000\n",
      "\n",
      "Epoch 00034: saving model to ./checkpoints/stefan/model_1_checkpoints/model-034-0.43864.hdf5\n",
      "\n",
      "Epoch 00034: saving optimizaer to ./checkpoints/stefan/model_1_checkpoints/model-034-0.43864.pkl\n",
      "Epoch 35/50\n",
      "163/163 [==============================] - 29s 177ms/step - loss: 0.0167 - accuracy: 0.9951 - precision_2: 0.9971 - recall_2: 0.9963 - val_loss: 0.4171 - val_accuracy: 0.9375 - val_precision_2: 0.8889 - val_recall_2: 1.0000\n",
      "\n",
      "Epoch 00035: saving model to ./checkpoints/stefan/model_1_checkpoints/model-035-0.41713.hdf5\n",
      "\n",
      "Epoch 00035: saving optimizaer to ./checkpoints/stefan/model_1_checkpoints/model-035-0.41713.pkl\n",
      "Epoch 36/50\n",
      "163/163 [==============================] - 14s 84ms/step - loss: 0.0154 - accuracy: 0.9929 - precision_2: 0.9968 - recall_2: 0.9937 - val_loss: 0.3404 - val_accuracy: 0.8750 - val_precision_2: 0.8000 - val_recall_2: 1.0000\n",
      "\n",
      "Epoch 00036: saving model to ./checkpoints/stefan/model_1_checkpoints/model-036-0.34044.hdf5\n",
      "\n",
      "Epoch 00036: saving optimizaer to ./checkpoints/stefan/model_1_checkpoints/model-036-0.34044.pkl\n",
      "Epoch 37/50\n",
      "163/163 [==============================] - 14s 83ms/step - loss: 0.0093 - accuracy: 0.9966 - precision_2: 0.9979 - recall_2: 0.9975 - val_loss: 0.1093 - val_accuracy: 0.9375 - val_precision_2: 1.0000 - val_recall_2: 0.8750\n",
      "\n",
      "Epoch 00037: saving model to ./checkpoints/stefan/model_1_checkpoints/model-037-0.10930.hdf5\n",
      "\n",
      "Epoch 00037: saving optimizaer to ./checkpoints/stefan/model_1_checkpoints/model-037-0.10930.pkl\n",
      "Epoch 38/50\n",
      "163/163 [==============================] - 13s 83ms/step - loss: 0.0170 - accuracy: 0.9952 - precision_2: 0.9974 - recall_2: 0.9962 - val_loss: 0.2088 - val_accuracy: 0.9375 - val_precision_2: 0.8889 - val_recall_2: 1.0000\n",
      "\n",
      "Epoch 00038: saving model to ./checkpoints/stefan/model_1_checkpoints/model-038-0.20880.hdf5\n",
      "\n",
      "Epoch 00038: saving optimizaer to ./checkpoints/stefan/model_1_checkpoints/model-038-0.20880.pkl\n",
      "Epoch 39/50\n"
     ]
    },
    {
     "name": "stdout",
     "output_type": "stream",
     "text": [
      "163/163 [==============================] - 14s 85ms/step - loss: 0.0192 - accuracy: 0.9933 - precision_2: 0.9952 - recall_2: 0.9957 - val_loss: 0.4930 - val_accuracy: 0.8125 - val_precision_2: 0.7273 - val_recall_2: 1.0000\n",
      "\n",
      "Epoch 00039: saving model to ./checkpoints/stefan/model_1_checkpoints/model-039-0.49299.hdf5\n",
      "\n",
      "Epoch 00039: saving optimizaer to ./checkpoints/stefan/model_1_checkpoints/model-039-0.49299.pkl\n",
      "Epoch 40/50\n",
      "163/163 [==============================] - 14s 83ms/step - loss: 0.0092 - accuracy: 0.9959 - precision_2: 0.9971 - recall_2: 0.9974 - val_loss: 0.4582 - val_accuracy: 0.8750 - val_precision_2: 0.8000 - val_recall_2: 1.0000\n",
      "\n",
      "Epoch 00040: saving model to ./checkpoints/stefan/model_1_checkpoints/model-040-0.45821.hdf5\n",
      "\n",
      "Epoch 00040: saving optimizaer to ./checkpoints/stefan/model_1_checkpoints/model-040-0.45821.pkl\n",
      "Epoch 41/50\n",
      "163/163 [==============================] - 14s 84ms/step - loss: 0.0157 - accuracy: 0.9955 - precision_2: 0.9971 - recall_2: 0.9968 - val_loss: 0.6679 - val_accuracy: 0.7500 - val_precision_2: 0.6667 - val_recall_2: 1.0000\n",
      "\n",
      "Epoch 00041: saving model to ./checkpoints/stefan/model_1_checkpoints/model-041-0.66792.hdf5\n",
      "\n",
      "Epoch 00041: saving optimizaer to ./checkpoints/stefan/model_1_checkpoints/model-041-0.66792.pkl\n",
      "Epoch 42/50\n",
      "163/163 [==============================] - 13s 82ms/step - loss: 0.0116 - accuracy: 0.9963 - precision_2: 0.9965 - recall_2: 0.9984 - val_loss: 0.5007 - val_accuracy: 0.7500 - val_precision_2: 0.6667 - val_recall_2: 1.0000\n",
      "\n",
      "Epoch 00042: saving model to ./checkpoints/stefan/model_1_checkpoints/model-042-0.50069.hdf5\n",
      "\n",
      "Epoch 00042: saving optimizaer to ./checkpoints/stefan/model_1_checkpoints/model-042-0.50069.pkl\n",
      "Epoch 43/50\n",
      "163/163 [==============================] - 14s 84ms/step - loss: 0.0063 - accuracy: 0.9971 - precision_2: 0.9975 - recall_2: 0.9986 - val_loss: 0.5711 - val_accuracy: 0.8750 - val_precision_2: 0.8000 - val_recall_2: 1.0000\n",
      "\n",
      "Epoch 00043: saving model to ./checkpoints/stefan/model_1_checkpoints/model-043-0.57112.hdf5\n",
      "\n",
      "Epoch 00043: saving optimizaer to ./checkpoints/stefan/model_1_checkpoints/model-043-0.57112.pkl\n",
      "Epoch 44/50\n",
      "163/163 [==============================] - 14s 83ms/step - loss: 0.0103 - accuracy: 0.9968 - precision_2: 0.9980 - recall_2: 0.9976 - val_loss: 0.6744 - val_accuracy: 0.7500 - val_precision_2: 0.6667 - val_recall_2: 1.0000\n",
      "\n",
      "Epoch 00044: saving model to ./checkpoints/stefan/model_1_checkpoints/model-044-0.67443.hdf5\n",
      "\n",
      "Epoch 00044: saving optimizaer to ./checkpoints/stefan/model_1_checkpoints/model-044-0.67443.pkl\n",
      "Epoch 45/50\n",
      "163/163 [==============================] - 13s 81ms/step - loss: 0.0116 - accuracy: 0.9964 - precision_2: 0.9972 - recall_2: 0.9980 - val_loss: 0.7212 - val_accuracy: 0.7500 - val_precision_2: 0.6667 - val_recall_2: 1.0000\n",
      "\n",
      "Epoch 00045: saving model to ./checkpoints/stefan/model_1_checkpoints/model-045-0.72116.hdf5\n",
      "\n",
      "Epoch 00045: saving optimizaer to ./checkpoints/stefan/model_1_checkpoints/model-045-0.72116.pkl\n",
      "Epoch 46/50\n",
      "163/163 [==============================] - 13s 81ms/step - loss: 0.0117 - accuracy: 0.9971 - precision_2: 0.9979 - recall_2: 0.9982 - val_loss: 0.4288 - val_accuracy: 0.8750 - val_precision_2: 0.8000 - val_recall_2: 1.0000\n",
      "\n",
      "Epoch 00046: saving model to ./checkpoints/stefan/model_1_checkpoints/model-046-0.42878.hdf5\n",
      "\n",
      "Epoch 00046: saving optimizaer to ./checkpoints/stefan/model_1_checkpoints/model-046-0.42878.pkl\n",
      "Epoch 47/50\n",
      "163/163 [==============================] - 14s 86ms/step - loss: 0.0073 - accuracy: 0.9976 - precision_2: 0.9988 - recall_2: 0.9979 - val_loss: 0.8811 - val_accuracy: 0.8125 - val_precision_2: 0.7273 - val_recall_2: 1.0000\n",
      "\n",
      "Epoch 00047: saving model to ./checkpoints/stefan/model_1_checkpoints/model-047-0.88108.hdf5\n",
      "\n",
      "Epoch 00047: saving optimizaer to ./checkpoints/stefan/model_1_checkpoints/model-047-0.88108.pkl\n",
      "Epoch 48/50\n",
      "163/163 [==============================] - 13s 81ms/step - loss: 0.0123 - accuracy: 0.9956 - precision_2: 0.9971 - recall_2: 0.9970 - val_loss: 0.7979 - val_accuracy: 0.6875 - val_precision_2: 0.6154 - val_recall_2: 1.0000\n",
      "\n",
      "Epoch 00048: saving model to ./checkpoints/stefan/model_1_checkpoints/model-048-0.79786.hdf5\n",
      "\n",
      "Epoch 00048: saving optimizaer to ./checkpoints/stefan/model_1_checkpoints/model-048-0.79786.pkl\n",
      "Epoch 49/50\n",
      "163/163 [==============================] - 14s 83ms/step - loss: 0.0141 - accuracy: 0.9949 - precision_2: 0.9951 - recall_2: 0.9981 - val_loss: 0.7117 - val_accuracy: 0.8125 - val_precision_2: 0.7273 - val_recall_2: 1.0000\n",
      "\n",
      "Epoch 00049: saving model to ./checkpoints/stefan/model_1_checkpoints/model-049-0.71174.hdf5\n",
      "\n",
      "Epoch 00049: saving optimizaer to ./checkpoints/stefan/model_1_checkpoints/model-049-0.71174.pkl\n",
      "Epoch 50/50\n",
      "163/163 [==============================] - 14s 87ms/step - loss: 0.0114 - accuracy: 0.9957 - precision_2: 0.9962 - recall_2: 0.9980 - val_loss: 0.2659 - val_accuracy: 0.8125 - val_precision_2: 0.7273 - val_recall_2: 1.0000\n",
      "\n",
      "Epoch 00050: saving model to ./checkpoints/stefan/model_1_checkpoints/model-050-0.26594.hdf5\n",
      "\n",
      "Epoch 00050: saving optimizaer to ./checkpoints/stefan/model_1_checkpoints/model-050-0.26594.pkl\n"
     ]
    }
   ],
   "source": [
    "history = model.fit(x_train, y_train, epochs=50, batch_size=0, verbose=1,\n",
    "                    shuffle=True, validation_data=(x_val,y_val),callbacks=[checkpoint_cb])"
   ]
  },
  {
   "cell_type": "code",
   "execution_count": 16,
   "id": "295db869",
   "metadata": {},
   "outputs": [
    {
     "data": {
      "text/plain": [
       "dict_keys(['loss', 'accuracy', 'precision_2', 'recall_2', 'val_loss', 'val_accuracy', 'val_precision_2', 'val_recall_2'])"
      ]
     },
     "execution_count": 16,
     "metadata": {},
     "output_type": "execute_result"
    }
   ],
   "source": [
    "history.history.keys()"
   ]
  },
  {
   "cell_type": "code",
   "execution_count": 17,
   "id": "865a1980",
   "metadata": {},
   "outputs": [],
   "source": [
    "import matplotlib.pyplot as plt"
   ]
  },
  {
   "cell_type": "code",
   "execution_count": 18,
   "id": "85bd4746",
   "metadata": {},
   "outputs": [
    {
     "data": {
      "image/png": "[encoded data removed]",
      "text/plain": [
       "<Figure size 720x720 with 4 Axes>"
      ]
     },
     "metadata": {
      "needs_background": "light"
     },
     "output_type": "display_data"
    }
   ],
   "source": [
    "plt.figure(figsize=(10, 10))\n",
    "\n",
    "plt.subplot(2, 2, 1)\n",
    "plt.title('Loss')\n",
    "plt.plot(history.epoch, history.history['loss'], label='training')\n",
    "plt.plot(history.epoch, history.history['val_loss'], label='validation')\n",
    "plt.legend(loc='best')\n",
    "\n",
    "plt.subplot(2, 2, 2)\n",
    "plt.title('Accuracy')\n",
    "plt.plot(history.epoch, history.history['accuracy'], label='training')\n",
    "plt.plot(history.epoch, history.history['val_accuracy'], label='validation')\n",
    "plt.legend(loc='best')\n",
    "\n",
    "plt.subplot(2, 2, 3)\n",
    "plt.title('Precision')\n",
    "plt.plot(history.epoch, history.history['precision_2'], label='training')\n",
    "plt.plot(history.epoch, history.history['val_precision_2'], label='validation')\n",
    "plt.legend(loc='best')\n",
    "\n",
    "plt.subplot(2, 2, 4)\n",
    "plt.title('Recall')\n",
    "plt.plot(history.epoch, history.history['recall_2'], label='training')\n",
    "plt.plot(history.epoch, history.history['val_recall_2'], label='validation')\n",
    "plt.legend(loc='best')\n",
    "\n",
    "plt.show()"
   ]
  },
  {
   "cell_type": "code",
   "execution_count": null,
   "id": "223b0f6a",
   "metadata": {},
   "outputs": [],
   "source": [
    "model.save(\"./modeli/stefan/model_5_epoha_70.h5\")"
   ]
  },
  {
   "cell_type": "code",
   "execution_count": null,
   "id": "93d8d894",
   "metadata": {},
   "outputs": [],
   "source": [
    "import json\n",
    "  \n",
    "# Serializing json \n",
    "json_history = json.dumps(history.history, indent = 4)\n",
    "  \n",
    "# Writing json\n",
    "with open(\"./modeli/stefan/model_5_epoha_70.json\", \"w\") as outfile:\n",
    "    outfile.write(json_history)"
   ]
  },
  {
   "cell_type": "code",
   "execution_count": null,
   "id": "442626c8",
   "metadata": {},
   "outputs": [],
   "source": [
    "# loadovanje modela\n",
    "from tensorflow.keras.models import load_model\n",
    "\n",
    "model2 = load_model('./modeli/stefan/model_5_epoha_70.h5')"
   ]
  },
  {
   "cell_type": "code",
   "execution_count": null,
   "id": "391a1ea7",
   "metadata": {},
   "outputs": [],
   "source": [
    "#loadovanje istorije\n",
    "\n",
    "with open('./modeli/stefan/model_5_epoha_70.json', 'r') as openfile:\n",
    "    # Reading from json file\n",
    "    history2 = json.load(openfile)\n"
   ]
  },
  {
   "cell_type": "code",
   "execution_count": null,
   "id": "b1545689",
   "metadata": {},
   "outputs": [],
   "source": [
    "len(history2['loss'])"
   ]
  },
  {
   "cell_type": "code",
   "execution_count": null,
   "id": "27a3168f",
   "metadata": {},
   "outputs": [],
   "source": [
    "#history.history.keys()"
   ]
  },
  {
   "cell_type": "code",
   "execution_count": null,
   "id": "0ae21919",
   "metadata": {},
   "outputs": [],
   "source": [
    "#len(history.history['loss'])"
   ]
  },
  {
   "cell_type": "code",
   "execution_count": 26,
   "id": "66c292f6",
   "metadata": {},
   "outputs": [],
   "source": [
    "directory_test = \"../chest_xray_norm/test\"\n",
    "x_test, y_test = get_data(directory_test)"
   ]
  },
  {
   "cell_type": "code",
   "execution_count": 43,
   "id": "d111e359",
   "metadata": {},
   "outputs": [],
   "source": [
    "y_pred = model.predict(x_test)"
   ]
  },
  {
   "cell_type": "code",
   "execution_count": null,
   "id": "3ec99f2b",
   "metadata": {},
   "outputs": [],
   "source": [
    "#y_pred_round = np.round(y_pred)"
   ]
  },
  {
   "cell_type": "code",
   "execution_count": 44,
   "id": "9aa7bdcb",
   "metadata": {},
   "outputs": [],
   "source": [
    "y_pred = y_pred>0.5"
   ]
  },
  {
   "cell_type": "code",
   "execution_count": 45,
   "id": "cfbbe07e",
   "metadata": {},
   "outputs": [],
   "source": [
    "y_pred = y_pred.astype(int)"
   ]
  },
  {
   "cell_type": "code",
   "execution_count": null,
   "id": "fc535bb7",
   "metadata": {},
   "outputs": [],
   "source": [
    "#y_test"
   ]
  },
  {
   "cell_type": "code",
   "execution_count": null,
   "id": "4a6b9494",
   "metadata": {},
   "outputs": [],
   "source": [
    "#y_pred"
   ]
  },
  {
   "cell_type": "code",
   "execution_count": 46,
   "id": "f0c32fd0",
   "metadata": {},
   "outputs": [],
   "source": [
    "y_pred = np.ravel(y_pred)"
   ]
  },
  {
   "cell_type": "code",
   "execution_count": 47,
   "id": "ae64c6fe",
   "metadata": {},
   "outputs": [],
   "source": [
    "tacnost = [y_pred==y_test]"
   ]
  },
  {
   "cell_type": "code",
   "execution_count": 48,
   "id": "6df91325",
   "metadata": {},
   "outputs": [],
   "source": [
    "#tacnost"
   ]
  },
  {
   "cell_type": "code",
   "execution_count": 49,
   "id": "e1ef31a8",
   "metadata": {},
   "outputs": [],
   "source": [
    "tacnost = np.average(tacnost)"
   ]
  },
  {
   "cell_type": "code",
   "execution_count": 50,
   "id": "368a729e",
   "metadata": {},
   "outputs": [
    {
     "data": {
      "text/plain": [
       "0.7419871794871795"
      ]
     },
     "execution_count": 50,
     "metadata": {},
     "output_type": "execute_result"
    }
   ],
   "source": [
    "tacnost"
   ]
  },
  {
   "cell_type": "code",
   "execution_count": 34,
   "id": "0d0d569d",
   "metadata": {},
   "outputs": [],
   "source": [
    "best_model_checkpoint_path = \"./checkpoints/stefan/model_1_checkpoints/model-037-0.10930.hdf5\""
   ]
  },
  {
   "cell_type": "code",
   "execution_count": 35,
   "id": "81d73f7e",
   "metadata": {},
   "outputs": [],
   "source": [
    "import tensorflow as tf\n",
    "from tensorflow.keras.models import load_model\n",
    "import pickle\n",
    "\n",
    "def load_model_data(model_path):\n",
    "    model = load_model(model_path)\n",
    "    \n",
    "    return model"
   ]
  },
  {
   "cell_type": "code",
   "execution_count": 36,
   "id": "45e63701",
   "metadata": {},
   "outputs": [],
   "source": [
    "model_best = load_model_data(best_model_checkpoint_path)"
   ]
  },
  {
   "cell_type": "code",
   "execution_count": 37,
   "id": "766d505b",
   "metadata": {},
   "outputs": [],
   "source": [
    "y_pred_best = model_best.predict(x_test)"
   ]
  },
  {
   "cell_type": "code",
   "execution_count": 38,
   "id": "eed34a6f",
   "metadata": {},
   "outputs": [],
   "source": [
    "y_pred_best = np.ravel(y_pred_best)\n",
    "y_pred_best = y_pred_best>0.5"
   ]
  },
  {
   "cell_type": "code",
   "execution_count": 39,
   "id": "2ad3e3f4",
   "metadata": {},
   "outputs": [],
   "source": [
    "y_pred_best = y_pred_best.astype(int)"
   ]
  },
  {
   "cell_type": "code",
   "execution_count": 40,
   "id": "8cd8bf4b",
   "metadata": {},
   "outputs": [],
   "source": [
    "tacnost = [y_pred_best==y_test]"
   ]
  },
  {
   "cell_type": "code",
   "execution_count": 41,
   "id": "1cd40e90",
   "metadata": {},
   "outputs": [],
   "source": [
    "tacnost = np.average(tacnost)"
   ]
  },
  {
   "cell_type": "code",
   "execution_count": 42,
   "id": "f3551e62",
   "metadata": {},
   "outputs": [
    {
     "data": {
      "text/plain": [
       "0.7644230769230769"
      ]
     },
     "execution_count": 42,
     "metadata": {},
     "output_type": "execute_result"
    }
   ],
   "source": [
    "tacnost"
   ]
  },
  {
   "cell_type": "code",
   "execution_count": null,
   "id": "e084dc11",
   "metadata": {},
   "outputs": [],
   "source": []
  },
  {
   "cell_type": "code",
   "execution_count": null,
   "id": "cbf6182b",
   "metadata": {},
   "outputs": [],
   "source": []
  },
  {
   "cell_type": "code",
   "execution_count": null,
   "id": "6a707651",
   "metadata": {},
   "outputs": [],
   "source": []
  }
 ],
 "metadata": {
  "kernelspec": {
   "display_name": "Python 3 (ipykernel)",
   "language": "python",
   "name": "python3"
  },
  "language_info": {
   "codemirror_mode": {
    "name": "ipython",
    "version": 3
   },
   "file_extension": ".py",
   "mimetype": "text/x-python",
   "name": "python",
   "nbconvert_exporter": "python",
   "pygments_lexer": "ipython3",
   "version": "3.9.12"
  }
 },
 "nbformat": 4,
 "nbformat_minor": 5
}

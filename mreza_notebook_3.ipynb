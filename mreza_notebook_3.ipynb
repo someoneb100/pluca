{
 "cells": [
  {
   "cell_type": "code",
   "execution_count": 1,
   "id": "f916cc64",
   "metadata": {},
   "outputs": [],
   "source": [
    "from os import path, listdir\n",
    "from PIL import Image\n",
    "import numpy as np"
   ]
  },
  {
   "cell_type": "code",
   "execution_count": 4,
   "id": "977405cd",
   "metadata": {},
   "outputs": [
    {
     "name": "stdout",
     "output_type": "stream",
     "text": [
      "1 Physical GPUs, 1 Logical GPUs\n"
     ]
    }
   ],
   "source": [
    "import tensorflow as tf\n",
    "gpus = tf.config.experimental.list_physical_devices('GPU')\n",
    "if gpus:\n",
    "    try:\n",
    "        # Currently, memory growth needs to be the same across GPUs\n",
    "        for gpu in gpus:\n",
    "            tf.config.experimental.set_memory_growth(gpu, True)\n",
    "        logical_gpus = tf.config.experimental.list_logical_devices('GPU')\n",
    "        print(len(gpus), \"Physical GPUs,\", len(logical_gpus), \"Logical GPUs\")\n",
    "    except RuntimeError as e:\n",
    "        # Memory growth must be set before GPUs have been initialized\n",
    "        print(e)"
   ]
  },
  {
   "cell_type": "code",
   "execution_count": 5,
   "id": "07cb28a7",
   "metadata": {},
   "outputs": [],
   "source": [
    "def get_data(directory: str) -> \"tuple[np.ndarray, np.ndarray]\":\n",
    "    ima = listdir(path.join(directory, \"PNEUMONIA\"))\n",
    "    nema = listdir(path.join(directory, \"NORMAL\"))\n",
    "    size = len(ima) + len(nema)\n",
    "    X = np.empty((size, 250, 350), dtype=np.uint8)\n",
    "    y = np.empty((size), dtype=np.uint8)\n",
    "    for i, file in enumerate(ima):\n",
    "        X[i] = np.asarray(Image.open(path.join(directory, \"PNEUMONIA\", file)))\n",
    "        y[i] = 1\n",
    "    for i, file in enumerate(nema):\n",
    "        X[len(ima) + i] = np.asarray(Image.open(path.join(directory, \"NORMAL\", file)))\n",
    "        y[len(ima) + i] = 0\n",
    "    return X , y"
   ]
  },
  {
   "cell_type": "code",
   "execution_count": 6,
   "id": "e9876ef7",
   "metadata": {},
   "outputs": [],
   "source": [
    "from modeli_stefan import make_model_3"
   ]
  },
  {
   "cell_type": "code",
   "execution_count": 9,
   "id": "254fdc66",
   "metadata": {},
   "outputs": [
    {
     "name": "stdout",
     "output_type": "stream",
     "text": [
      "Model: \"model_1\"\n",
      "_________________________________________________________________\n",
      "Layer (type)                 Output Shape              Param #   \n",
      "=================================================================\n",
      "input_2 (InputLayer)         [(None, 250, 350)]        0         \n",
      "_________________________________________________________________\n",
      "rescaling_1 (Rescaling)      (None, 250, 350)          0         \n",
      "_________________________________________________________________\n",
      "gaussian_noise_1 (GaussianNo (None, 250, 350)          0         \n",
      "_________________________________________________________________\n",
      "tf.clip_by_value_1 (TFOpLamb (None, 250, 350)          0         \n",
      "_________________________________________________________________\n",
      "reshape_1 (Reshape)          (None, 250, 350, 1)       0         \n",
      "_________________________________________________________________\n",
      "conv2d_4 (Conv2D)            (None, 248, 348, 8)       80        \n",
      "_________________________________________________________________\n",
      "conv2d_5 (Conv2D)            (None, 245, 345, 12)      1548      \n",
      "_________________________________________________________________\n",
      "max_pooling2d_3 (MaxPooling2 (None, 122, 172, 12)      0         \n",
      "_________________________________________________________________\n",
      "conv2d_6 (Conv2D)            (None, 118, 168, 16)      4816      \n",
      "_________________________________________________________________\n",
      "max_pooling2d_4 (MaxPooling2 (None, 29, 42, 16)        0         \n",
      "_________________________________________________________________\n",
      "conv2d_7 (Conv2D)            (None, 25, 38, 20)        8020      \n",
      "_________________________________________________________________\n",
      "max_pooling2d_5 (MaxPooling2 (None, 5, 6, 20)          0         \n",
      "_________________________________________________________________\n",
      "flatten_1 (Flatten)          (None, 600)               0         \n",
      "_________________________________________________________________\n",
      "dense_3 (Dense)              (None, 256)               153856    \n",
      "_________________________________________________________________\n",
      "dense_4 (Dense)              (None, 128)               32896     \n",
      "_________________________________________________________________\n",
      "dense_5 (Dense)              (None, 1)                 129       \n",
      "=================================================================\n",
      "Total params: 201,345\n",
      "Trainable params: 201,345\n",
      "Non-trainable params: 0\n",
      "_________________________________________________________________\n"
     ]
    }
   ],
   "source": [
    "directory_train = \"../chest_xray_norm/train\"\n",
    "x_train, y_train = get_data(directory_train)\n",
    "\n",
    "directory_val = \"../chest_xray_norm/val\"\n",
    "x_val, y_val = get_data(directory_val)\n",
    "\n",
    "model = make_model_3(x_train[0].shape)\n",
    "model.summary()"
   ]
  },
  {
   "cell_type": "code",
   "execution_count": null,
   "id": "8b682381",
   "metadata": {},
   "outputs": [
    {
     "name": "stdout",
     "output_type": "stream",
     "text": [
      "Epoch 1/350\n",
      "163/163 [==============================] - 24s 141ms/step - loss: 0.4104 - accuracy: 0.8168 - precision_1: 0.8272 - recall_1: 0.9602 - val_loss: 0.7958 - val_accuracy: 0.6875 - val_precision_1: 0.6154 - val_recall_1: 1.0000\n",
      "Epoch 2/350\n",
      "163/163 [==============================] - 23s 143ms/step - loss: 0.1110 - accuracy: 0.9581 - precision_1: 0.9712 - recall_1: 0.9725 - val_loss: 0.4040 - val_accuracy: 0.7500 - val_precision_1: 0.6667 - val_recall_1: 1.0000\n",
      "Epoch 3/350\n",
      "163/163 [==============================] - 23s 138ms/step - loss: 0.0797 - accuracy: 0.9702 - precision_1: 0.9786 - recall_1: 0.9812 - val_loss: 1.5920 - val_accuracy: 0.5625 - val_precision_1: 0.5333 - val_recall_1: 1.0000\n",
      "Epoch 4/350\n",
      "163/163 [==============================] - 23s 140ms/step - loss: 0.0657 - accuracy: 0.9752 - precision_1: 0.9828 - recall_1: 0.9840 - val_loss: 0.6046 - val_accuracy: 0.7500 - val_precision_1: 0.6667 - val_recall_1: 1.0000\n",
      "Epoch 5/350\n",
      "163/163 [==============================] - 23s 138ms/step - loss: 0.0637 - accuracy: 0.9750 - precision_1: 0.9841 - recall_1: 0.9824 - val_loss: 0.9047 - val_accuracy: 0.6875 - val_precision_1: 0.6154 - val_recall_1: 1.0000\n",
      "Epoch 6/350\n",
      "163/163 [==============================] - 23s 141ms/step - loss: 0.0492 - accuracy: 0.9811 - precision_1: 0.9888 - recall_1: 0.9857 - val_loss: 0.7062 - val_accuracy: 0.8125 - val_precision_1: 0.7273 - val_recall_1: 1.0000\n",
      "Epoch 7/350\n",
      "163/163 [==============================] - 23s 139ms/step - loss: 0.0430 - accuracy: 0.9846 - precision_1: 0.9904 - recall_1: 0.9887 - val_loss: 0.7028 - val_accuracy: 0.6875 - val_precision_1: 0.6154 - val_recall_1: 1.0000\n",
      "Epoch 8/350\n",
      "163/163 [==============================] - 23s 142ms/step - loss: 0.0441 - accuracy: 0.9841 - precision_1: 0.9884 - recall_1: 0.9905 - val_loss: 0.3976 - val_accuracy: 0.7500 - val_precision_1: 0.6667 - val_recall_1: 1.0000\n",
      "Epoch 9/350\n",
      "163/163 [==============================] - 23s 140ms/step - loss: 0.0444 - accuracy: 0.9823 - precision_1: 0.9889 - recall_1: 0.9869 - val_loss: 0.1645 - val_accuracy: 0.8750 - val_precision_1: 0.8000 - val_recall_1: 1.0000\n",
      "Epoch 10/350\n",
      "163/163 [==============================] - 24s 146ms/step - loss: 0.0327 - accuracy: 0.9876 - precision_1: 0.9943 - recall_1: 0.9889 - val_loss: 1.0904 - val_accuracy: 0.6875 - val_precision_1: 0.6154 - val_recall_1: 1.0000\n",
      "Epoch 11/350\n",
      "163/163 [==============================] - 25s 155ms/step - loss: 0.0304 - accuracy: 0.9890 - precision_1: 0.9922 - recall_1: 0.9931 - val_loss: 1.0964 - val_accuracy: 0.6875 - val_precision_1: 0.6154 - val_recall_1: 1.0000\n",
      "Epoch 12/350\n",
      "163/163 [==============================] - 26s 161ms/step - loss: 0.0263 - accuracy: 0.9898 - precision_1: 0.9937 - recall_1: 0.9926 - val_loss: 0.9377 - val_accuracy: 0.7500 - val_precision_1: 0.6667 - val_recall_1: 1.0000\n",
      "Epoch 13/350\n",
      "163/163 [==============================] - 28s 173ms/step - loss: 0.0235 - accuracy: 0.9913 - precision_1: 0.9947 - recall_1: 0.9936 - val_loss: 0.9784 - val_accuracy: 0.7500 - val_precision_1: 0.6667 - val_recall_1: 1.0000\n",
      "Epoch 14/350\n",
      "163/163 [==============================] - 24s 149ms/step - loss: 0.0173 - accuracy: 0.9929 - precision_1: 0.9951 - recall_1: 0.9955 - val_loss: 0.8985 - val_accuracy: 0.8125 - val_precision_1: 0.7273 - val_recall_1: 1.0000\n",
      "Epoch 15/350\n",
      "163/163 [==============================] - 24s 149ms/step - loss: 0.0302 - accuracy: 0.9879 - precision_1: 0.9915 - recall_1: 0.9923 - val_loss: 2.2323 - val_accuracy: 0.5625 - val_precision_1: 0.5333 - val_recall_1: 1.0000\n",
      "Epoch 16/350\n",
      "163/163 [==============================] - 25s 156ms/step - loss: 0.0187 - accuracy: 0.9922 - precision_1: 0.9940 - recall_1: 0.9954 - val_loss: 0.7875 - val_accuracy: 0.7500 - val_precision_1: 0.6667 - val_recall_1: 1.0000\n",
      "Epoch 17/350\n",
      "163/163 [==============================] - 23s 142ms/step - loss: 0.0128 - accuracy: 0.9957 - precision_1: 0.9975 - recall_1: 0.9967 - val_loss: 0.9260 - val_accuracy: 0.7500 - val_precision_1: 0.6667 - val_recall_1: 1.0000\n",
      "Epoch 18/350\n",
      "163/163 [==============================] - 22s 138ms/step - loss: 0.0059 - accuracy: 0.9980 - precision_1: 0.9984 - recall_1: 0.9989 - val_loss: 0.9158 - val_accuracy: 0.8125 - val_precision_1: 0.7273 - val_recall_1: 1.0000\n",
      "Epoch 19/350\n",
      "120/163 [=====================>........] - ETA: 5s - loss: 0.0105 - accuracy: 0.9959 - precision_1: 0.9971 - recall_1: 0.9974"
     ]
    }
   ],
   "source": [
    "history = model.fit(x_train, y_train, epochs=350, batch_size=0, verbose=1, shuffle=True, validation_data=(x_val,y_val))"
   ]
  },
  {
   "cell_type": "code",
   "execution_count": null,
   "id": "295db869",
   "metadata": {},
   "outputs": [],
   "source": [
    "history.history.keys()"
   ]
  },
  {
   "cell_type": "code",
   "execution_count": null,
   "id": "865a1980",
   "metadata": {},
   "outputs": [],
   "source": [
    "import matplotlib.pyplot as plt"
   ]
  },
  {
   "cell_type": "code",
   "execution_count": null,
   "id": "85bd4746",
   "metadata": {},
   "outputs": [],
   "source": [
    "plt.figure(figsize=(10, 10))\n",
    "\n",
    "plt.subplot(2, 2, 1)\n",
    "plt.title('Loss')\n",
    "plt.plot(history.epoch, history.history['loss'], label='training')\n",
    "plt.plot(history.epoch, history.history['val_loss'], label='validation')\n",
    "plt.legend(loc='best')\n",
    "\n",
    "plt.subplot(2, 2, 2)\n",
    "plt.title('Accuracy')\n",
    "plt.plot(history.epoch, history.history['accuracy'], label='training')\n",
    "plt.plot(history.epoch, history.history['val_accuracy'], label='validation')\n",
    "plt.legend(loc='best')\n",
    "\n",
    "plt.subplot(2, 2, 3)\n",
    "plt.title('Precision')\n",
    "plt.plot(history.epoch, history.history['precision'], label='training')\n",
    "plt.plot(history.epoch, history.history['val_precision'], label='validation')\n",
    "plt.legend(loc='best')\n",
    "\n",
    "plt.subplot(2, 2, 4)\n",
    "plt.title('Recall')\n",
    "plt.plot(history.epoch, history.history['recall'], label='training')\n",
    "plt.plot(history.epoch, history.history['val_recall'], label='validation')\n",
    "plt.legend(loc='best')\n",
    "\n",
    "plt.show()"
   ]
  },
  {
   "cell_type": "code",
   "execution_count": null,
   "id": "223b0f6a",
   "metadata": {},
   "outputs": [],
   "source": [
    "model.save(\"./modeli/stefan/model_2_epoha_250.h5\")"
   ]
  },
  {
   "cell_type": "code",
   "execution_count": null,
   "id": "93d8d894",
   "metadata": {},
   "outputs": [],
   "source": [
    "import json\n",
    "  \n",
    "# Serializing json \n",
    "json_history = json.dumps(history.history, indent = 4)\n",
    "  \n",
    "# Writing json\n",
    "with open(\"./modeli/stefan/model_2_epoha_250.json\", \"w\") as outfile:\n",
    "    outfile.write(json_history)"
   ]
  },
  {
   "cell_type": "code",
   "execution_count": null,
   "id": "442626c8",
   "metadata": {},
   "outputs": [],
   "source": [
    "# loadovanje modela\n",
    "from tensorflow.keras.models import load_model\n",
    "\n",
    "model2 = load_model('./modeli/stefan/model_2_epoha_250.h5')"
   ]
  },
  {
   "cell_type": "code",
   "execution_count": null,
   "id": "391a1ea7",
   "metadata": {},
   "outputs": [],
   "source": [
    "#loadovanje istorije\n",
    "\n",
    "with open('./modeli/stefan/model_2_epoha_250.json', 'r') as openfile:\n",
    "    # Reading from json file\n",
    "    history2 = json.load(openfile)\n"
   ]
  },
  {
   "cell_type": "code",
   "execution_count": null,
   "id": "b1545689",
   "metadata": {},
   "outputs": [],
   "source": [
    "len(history2['loss'])"
   ]
  },
  {
   "cell_type": "code",
   "execution_count": null,
   "id": "27a3168f",
   "metadata": {},
   "outputs": [],
   "source": [
    "#history.history.keys()"
   ]
  },
  {
   "cell_type": "code",
   "execution_count": null,
   "id": "0ae21919",
   "metadata": {},
   "outputs": [],
   "source": [
    "#len(history.history['loss'])"
   ]
  },
  {
   "cell_type": "code",
   "execution_count": null,
   "id": "66c292f6",
   "metadata": {},
   "outputs": [],
   "source": [
    "directory_test = \"../chest_xray_norm/test\"\n",
    "x_test, y_test = get_data(directory_test)"
   ]
  },
  {
   "cell_type": "code",
   "execution_count": null,
   "id": "d111e359",
   "metadata": {},
   "outputs": [],
   "source": [
    "y_pred = model2.predict(x_test)"
   ]
  },
  {
   "cell_type": "code",
   "execution_count": null,
   "id": "3ec99f2b",
   "metadata": {},
   "outputs": [],
   "source": [
    "#y_pred_round = np.round(y_pred)"
   ]
  },
  {
   "cell_type": "code",
   "execution_count": null,
   "id": "9aa7bdcb",
   "metadata": {},
   "outputs": [],
   "source": [
    "y_pred = y_pred.astype(int)"
   ]
  },
  {
   "cell_type": "code",
   "execution_count": null,
   "id": "fc535bb7",
   "metadata": {},
   "outputs": [],
   "source": [
    "#y_test"
   ]
  },
  {
   "cell_type": "code",
   "execution_count": null,
   "id": "4a6b9494",
   "metadata": {},
   "outputs": [],
   "source": [
    "#y_pred"
   ]
  },
  {
   "cell_type": "code",
   "execution_count": null,
   "id": "f0c32fd0",
   "metadata": {},
   "outputs": [],
   "source": [
    "y_pred = np.ravel(y_pred)"
   ]
  },
  {
   "cell_type": "code",
   "execution_count": null,
   "id": "ae64c6fe",
   "metadata": {},
   "outputs": [],
   "source": [
    "tacnost = [y_pred==y_test]"
   ]
  },
  {
   "cell_type": "code",
   "execution_count": null,
   "id": "6df91325",
   "metadata": {},
   "outputs": [],
   "source": [
    "#tacnost"
   ]
  },
  {
   "cell_type": "code",
   "execution_count": null,
   "id": "e1ef31a8",
   "metadata": {},
   "outputs": [],
   "source": [
    "tacnost = np.average(tacnost)"
   ]
  },
  {
   "cell_type": "code",
   "execution_count": null,
   "id": "368a729e",
   "metadata": {},
   "outputs": [],
   "source": [
    "tacnost"
   ]
  }
 ],
 "metadata": {
  "kernelspec": {
   "display_name": "Python 3 (ipykernel)",
   "language": "python",
   "name": "python3"
  },
  "language_info": {
   "codemirror_mode": {
    "name": "ipython",
    "version": 3
   },
   "file_extension": ".py",
   "mimetype": "text/x-python",
   "name": "python",
   "nbconvert_exporter": "python",
   "pygments_lexer": "ipython3",
   "version": "3.9.12"
  }
 },
 "nbformat": 4,
 "nbformat_minor": 5
}

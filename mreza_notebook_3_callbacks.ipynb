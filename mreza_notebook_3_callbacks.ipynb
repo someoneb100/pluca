{
 "cells": [
  {
   "cell_type": "code",
   "execution_count": 1,
   "id": "f916cc64",
   "metadata": {},
   "outputs": [],
   "source": [
    "from os import path, listdir\n",
    "from PIL import Image\n",
    "import numpy as np"
   ]
  },
  {
   "cell_type": "code",
   "execution_count": 3,
   "id": "977405cd",
   "metadata": {},
   "outputs": [
    {
     "name": "stdout",
     "output_type": "stream",
     "text": [
      "1 Physical GPUs, 1 Logical GPUs\n"
     ]
    }
   ],
   "source": [
    "import tensorflow as tf\n",
    "gpus = tf.config.experimental.list_physical_devices('GPU')\n",
    "if gpus:\n",
    "    try:\n",
    "        # Currently, memory growth needs to be the same across GPUs\n",
    "        for gpu in gpus:\n",
    "            tf.config.experimental.set_memory_growth(gpu, True)\n",
    "        logical_gpus = tf.config.experimental.list_logical_devices('GPU')\n",
    "        print(len(gpus), \"Physical GPUs,\", len(logical_gpus), \"Logical GPUs\")\n",
    "    except RuntimeError as e:\n",
    "        # Memory growth must be set before GPUs have been initialized\n",
    "        print(e)"
   ]
  },
  {
   "cell_type": "code",
   "execution_count": 4,
   "id": "07cb28a7",
   "metadata": {},
   "outputs": [],
   "source": [
    "def get_data(directory: str) -> \"tuple[np.ndarray, np.ndarray]\":\n",
    "    ima = listdir(path.join(directory, \"PNEUMONIA\"))\n",
    "    nema = listdir(path.join(directory, \"NORMAL\"))\n",
    "    size = len(ima) + len(nema)\n",
    "    X = np.empty((size, 250, 350), dtype=np.uint8)\n",
    "    y = np.empty((size), dtype=np.uint8)\n",
    "    for i, file in enumerate(ima):\n",
    "        X[i] = np.asarray(Image.open(path.join(directory, \"PNEUMONIA\", file)))\n",
    "        y[i] = 1\n",
    "    for i, file in enumerate(nema):\n",
    "        X[len(ima) + i] = np.asarray(Image.open(path.join(directory, \"NORMAL\", file)))\n",
    "        y[len(ima) + i] = 0\n",
    "    return X , y"
   ]
  },
  {
   "cell_type": "code",
   "execution_count": 5,
   "id": "e9876ef7",
   "metadata": {},
   "outputs": [],
   "source": [
    "from modeli_stefan import make_model_3"
   ]
  },
  {
   "cell_type": "code",
   "execution_count": 17,
   "id": "254fdc66",
   "metadata": {},
   "outputs": [
    {
     "name": "stdout",
     "output_type": "stream",
     "text": [
      "Model: \"model_1\"\n",
      "_________________________________________________________________\n",
      "Layer (type)                 Output Shape              Param #   \n",
      "=================================================================\n",
      "input_2 (InputLayer)         [(None, 250, 350)]        0         \n",
      "_________________________________________________________________\n",
      "rescaling_1 (Rescaling)      (None, 250, 350)          0         \n",
      "_________________________________________________________________\n",
      "gaussian_noise_1 (GaussianNo (None, 250, 350)          0         \n",
      "_________________________________________________________________\n",
      "tf.clip_by_value_1 (TFOpLamb (None, 250, 350)          0         \n",
      "_________________________________________________________________\n",
      "reshape_1 (Reshape)          (None, 250, 350, 1)       0         \n",
      "_________________________________________________________________\n",
      "conv2d_4 (Conv2D)            (None, 248, 348, 8)       80        \n",
      "_________________________________________________________________\n",
      "conv2d_5 (Conv2D)            (None, 245, 345, 12)      1548      \n",
      "_________________________________________________________________\n",
      "max_pooling2d_3 (MaxPooling2 (None, 122, 172, 12)      0         \n",
      "_________________________________________________________________\n",
      "conv2d_6 (Conv2D)            (None, 118, 168, 16)      4816      \n",
      "_________________________________________________________________\n",
      "max_pooling2d_4 (MaxPooling2 (None, 29, 42, 16)        0         \n",
      "_________________________________________________________________\n",
      "conv2d_7 (Conv2D)            (None, 25, 38, 20)        8020      \n",
      "_________________________________________________________________\n",
      "max_pooling2d_5 (MaxPooling2 (None, 5, 6, 20)          0         \n",
      "_________________________________________________________________\n",
      "flatten_1 (Flatten)          (None, 600)               0         \n",
      "_________________________________________________________________\n",
      "dense_3 (Dense)              (None, 256)               153856    \n",
      "_________________________________________________________________\n",
      "dense_4 (Dense)              (None, 128)               32896     \n",
      "_________________________________________________________________\n",
      "dense_5 (Dense)              (None, 1)                 129       \n",
      "=================================================================\n",
      "Total params: 201,345\n",
      "Trainable params: 201,345\n",
      "Non-trainable params: 0\n",
      "_________________________________________________________________\n"
     ]
    }
   ],
   "source": [
    "directory_train = \"../chest_xray_norm/train\"\n",
    "x_train, y_train = get_data(directory_train)\n",
    "\n",
    "directory_val = \"../chest_xray_norm/val\"\n",
    "x_val, y_val = get_data(directory_val)\n",
    "\n",
    "model = make_model_3(x_train[0].shape)\n",
    "model.summary()"
   ]
  },
  {
   "cell_type": "code",
   "execution_count": 18,
   "id": "c2f06ad0",
   "metadata": {},
   "outputs": [],
   "source": [
    "checkpoint_path = \"checkpoints_mreza_3.ckpt\"\n",
    "cp_callback = tf.keras.callbacks.ModelCheckpoint(filepath=checkpoint_path,\n",
    "                                                 save_weights_only=True,\n",
    "                                                 verbose=1)"
   ]
  },
  {
   "cell_type": "code",
   "execution_count": 19,
   "id": "8b682381",
   "metadata": {},
   "outputs": [
    {
     "name": "stdout",
     "output_type": "stream",
     "text": [
      "Epoch 1/100\n",
      "163/163 [==============================] - 24s 145ms/step - loss: 0.4023 - accuracy: 0.8258 - precision_1: 0.8381 - recall_1: 0.9567 - val_loss: 0.6653 - val_accuracy: 0.5625 - val_precision_1: 0.5333 - val_recall_1: 1.0000\n",
      "\n",
      "Epoch 00001: saving model to checkpoints_mreza_3.ckpt\n",
      "Epoch 2/100\n",
      "163/163 [==============================] - 23s 142ms/step - loss: 0.1362 - accuracy: 0.9518 - precision_1: 0.9708 - recall_1: 0.9647 - val_loss: 0.2064 - val_accuracy: 0.9375 - val_precision_1: 0.8889 - val_recall_1: 1.0000\n",
      "\n",
      "Epoch 00002: saving model to checkpoints_mreza_3.ckpt\n",
      "Epoch 3/100\n",
      "163/163 [==============================] - 23s 143ms/step - loss: 0.0831 - accuracy: 0.9673 - precision_1: 0.9803 - recall_1: 0.9758 - val_loss: 0.7485 - val_accuracy: 0.6875 - val_precision_1: 0.6154 - val_recall_1: 1.0000\n",
      "\n",
      "Epoch 00003: saving model to checkpoints_mreza_3.ckpt\n",
      "Epoch 4/100\n",
      "163/163 [==============================] - 24s 145ms/step - loss: 0.0712 - accuracy: 0.9721 - precision_1: 0.9818 - recall_1: 0.9806 - val_loss: 0.3777 - val_accuracy: 0.8125 - val_precision_1: 0.7273 - val_recall_1: 1.0000\n",
      "\n",
      "Epoch 00004: saving model to checkpoints_mreza_3.ckpt\n",
      "Epoch 5/100\n",
      "163/163 [==============================] - 22s 137ms/step - loss: 0.0571 - accuracy: 0.9783 - precision_1: 0.9866 - recall_1: 0.9843 - val_loss: 0.2722 - val_accuracy: 0.8750 - val_precision_1: 0.8000 - val_recall_1: 1.0000\n",
      "\n",
      "Epoch 00005: saving model to checkpoints_mreza_3.ckpt\n",
      "Epoch 6/100\n",
      "163/163 [==============================] - 22s 136ms/step - loss: 0.0513 - accuracy: 0.9807 - precision_1: 0.9864 - recall_1: 0.9876 - val_loss: 0.1037 - val_accuracy: 0.9375 - val_precision_1: 0.8889 - val_recall_1: 1.0000\n",
      "\n",
      "Epoch 00006: saving model to checkpoints_mreza_3.ckpt\n",
      "Epoch 7/100\n",
      "163/163 [==============================] - 22s 135ms/step - loss: 0.0596 - accuracy: 0.9790 - precision_1: 0.9865 - recall_1: 0.9852 - val_loss: 0.2362 - val_accuracy: 0.8750 - val_precision_1: 0.8000 - val_recall_1: 1.0000\n",
      "\n",
      "Epoch 00007: saving model to checkpoints_mreza_3.ckpt\n",
      "Epoch 8/100\n",
      "163/163 [==============================] - 22s 137ms/step - loss: 0.0316 - accuracy: 0.9890 - precision_1: 0.9950 - recall_1: 0.9901 - val_loss: 1.2632 - val_accuracy: 0.6250 - val_precision_1: 0.5714 - val_recall_1: 1.0000\n",
      "\n",
      "Epoch 00008: saving model to checkpoints_mreza_3.ckpt\n",
      "Epoch 9/100\n",
      "163/163 [==============================] - 23s 140ms/step - loss: 0.0280 - accuracy: 0.9894 - precision_1: 0.9931 - recall_1: 0.9927 - val_loss: 0.6342 - val_accuracy: 0.7500 - val_precision_1: 0.6667 - val_recall_1: 1.0000\n",
      "\n",
      "Epoch 00009: saving model to checkpoints_mreza_3.ckpt\n",
      "Epoch 10/100\n",
      "163/163 [==============================] - 23s 142ms/step - loss: 0.0329 - accuracy: 0.9883 - precision_1: 0.9924 - recall_1: 0.9921 - val_loss: 0.5521 - val_accuracy: 0.8125 - val_precision_1: 0.7273 - val_recall_1: 1.0000\n",
      "\n",
      "Epoch 00010: saving model to checkpoints_mreza_3.ckpt\n",
      "Epoch 11/100\n",
      "163/163 [==============================] - 22s 138ms/step - loss: 0.0199 - accuracy: 0.9922 - precision_1: 0.9949 - recall_1: 0.9946 - val_loss: 0.8414 - val_accuracy: 0.6875 - val_precision_1: 0.6154 - val_recall_1: 1.0000\n",
      "\n",
      "Epoch 00011: saving model to checkpoints_mreza_3.ckpt\n",
      "Epoch 12/100\n",
      "163/163 [==============================] - 23s 144ms/step - loss: 0.0154 - accuracy: 0.9948 - precision_1: 0.9979 - recall_1: 0.9951 - val_loss: 0.7667 - val_accuracy: 0.8750 - val_precision_1: 0.8000 - val_recall_1: 1.0000\n",
      "\n",
      "Epoch 00012: saving model to checkpoints_mreza_3.ckpt\n",
      "Epoch 13/100\n",
      "163/163 [==============================] - 23s 143ms/step - loss: 0.0173 - accuracy: 0.9926 - precision_1: 0.9959 - recall_1: 0.9941 - val_loss: 1.0105 - val_accuracy: 0.6875 - val_precision_1: 0.6154 - val_recall_1: 1.0000\n",
      "\n",
      "Epoch 00013: saving model to checkpoints_mreza_3.ckpt\n",
      "Epoch 14/100\n",
      "163/163 [==============================] - 23s 140ms/step - loss: 0.0155 - accuracy: 0.9942 - precision_1: 0.9958 - recall_1: 0.9964 - val_loss: 1.1470 - val_accuracy: 0.7500 - val_precision_1: 0.6667 - val_recall_1: 1.0000\n",
      "\n",
      "Epoch 00014: saving model to checkpoints_mreza_3.ckpt\n",
      "Epoch 15/100\n",
      "163/163 [==============================] - 22s 136ms/step - loss: 0.0109 - accuracy: 0.9969 - precision_1: 0.9971 - recall_1: 0.9986 - val_loss: 0.8331 - val_accuracy: 0.8125 - val_precision_1: 0.7273 - val_recall_1: 1.0000\n",
      "\n",
      "Epoch 00015: saving model to checkpoints_mreza_3.ckpt\n",
      "Epoch 16/100\n",
      "163/163 [==============================] - 22s 136ms/step - loss: 0.0111 - accuracy: 0.9967 - precision_1: 0.9983 - recall_1: 0.9973 - val_loss: 0.7917 - val_accuracy: 0.6875 - val_precision_1: 0.6154 - val_recall_1: 1.0000\n",
      "\n",
      "Epoch 00016: saving model to checkpoints_mreza_3.ckpt\n",
      "Epoch 17/100\n",
      "163/163 [==============================] - 22s 136ms/step - loss: 0.0095 - accuracy: 0.9960 - precision_1: 0.9960 - recall_1: 0.9986 - val_loss: 1.0353 - val_accuracy: 0.8125 - val_precision_1: 0.7273 - val_recall_1: 1.0000\n",
      "\n",
      "Epoch 00017: saving model to checkpoints_mreza_3.ckpt\n",
      "Epoch 18/100\n",
      "163/163 [==============================] - 22s 136ms/step - loss: 0.0250 - accuracy: 0.9912 - precision_1: 0.9949 - recall_1: 0.9931 - val_loss: 0.3935 - val_accuracy: 0.8750 - val_precision_1: 0.8000 - val_recall_1: 1.0000\n",
      "\n",
      "Epoch 00018: saving model to checkpoints_mreza_3.ckpt\n",
      "Epoch 19/100\n",
      "163/163 [==============================] - 22s 136ms/step - loss: 0.0114 - accuracy: 0.9956 - precision_1: 0.9975 - recall_1: 0.9965 - val_loss: 0.8188 - val_accuracy: 0.8125 - val_precision_1: 0.7273 - val_recall_1: 1.0000\n",
      "\n",
      "Epoch 00019: saving model to checkpoints_mreza_3.ckpt\n",
      "Epoch 20/100\n",
      "163/163 [==============================] - 23s 138ms/step - loss: 0.0023 - accuracy: 0.9994 - precision_1: 0.9997 - recall_1: 0.9996 - val_loss: 1.2666 - val_accuracy: 0.8750 - val_precision_1: 0.8000 - val_recall_1: 1.0000\n",
      "\n",
      "Epoch 00020: saving model to checkpoints_mreza_3.ckpt\n",
      "Epoch 21/100\n",
      "163/163 [==============================] - 23s 140ms/step - loss: 2.6136e-04 - accuracy: 1.0000 - precision_1: 1.0000 - recall_1: 1.0000 - val_loss: 1.5174 - val_accuracy: 0.8750 - val_precision_1: 0.8000 - val_recall_1: 1.0000\n",
      "\n",
      "Epoch 00021: saving model to checkpoints_mreza_3.ckpt\n",
      "Epoch 22/100\n",
      "163/163 [==============================] - 24s 146ms/step - loss: 1.3317e-04 - accuracy: 1.0000 - precision_1: 1.0000 - recall_1: 1.0000 - val_loss: 1.5455 - val_accuracy: 0.8750 - val_precision_1: 0.8000 - val_recall_1: 1.0000\n",
      "\n",
      "Epoch 00022: saving model to checkpoints_mreza_3.ckpt\n",
      "Epoch 23/100\n",
      "163/163 [==============================] - 23s 140ms/step - loss: 6.3842e-05 - accuracy: 1.0000 - precision_1: 1.0000 - recall_1: 1.0000 - val_loss: 1.5085 - val_accuracy: 0.8750 - val_precision_1: 0.8000 - val_recall_1: 1.0000\n",
      "\n",
      "Epoch 00023: saving model to checkpoints_mreza_3.ckpt\n",
      "Epoch 24/100\n",
      "163/163 [==============================] - 22s 137ms/step - loss: 3.9391e-05 - accuracy: 1.0000 - precision_1: 1.0000 - recall_1: 1.0000 - val_loss: 1.5796 - val_accuracy: 0.8750 - val_precision_1: 0.8000 - val_recall_1: 1.0000\n",
      "\n",
      "Epoch 00024: saving model to checkpoints_mreza_3.ckpt\n",
      "Epoch 25/100\n",
      "163/163 [==============================] - 23s 140ms/step - loss: 2.8417e-05 - accuracy: 1.0000 - precision_1: 1.0000 - recall_1: 1.0000 - val_loss: 1.5923 - val_accuracy: 0.8750 - val_precision_1: 0.8000 - val_recall_1: 1.0000\n",
      "\n",
      "Epoch 00025: saving model to checkpoints_mreza_3.ckpt\n",
      "Epoch 26/100\n",
      "163/163 [==============================] - 24s 149ms/step - loss: 2.1577e-05 - accuracy: 1.0000 - precision_1: 1.0000 - recall_1: 1.0000 - val_loss: 1.6089 - val_accuracy: 0.8750 - val_precision_1: 0.8000 - val_recall_1: 1.0000\n",
      "\n",
      "Epoch 00026: saving model to checkpoints_mreza_3.ckpt\n",
      "Epoch 27/100\n",
      "163/163 [==============================] - 23s 143ms/step - loss: 2.7375e-05 - accuracy: 1.0000 - precision_1: 1.0000 - recall_1: 1.0000 - val_loss: 1.5985 - val_accuracy: 0.8750 - val_precision_1: 0.8000 - val_recall_1: 1.0000\n",
      "\n",
      "Epoch 00027: saving model to checkpoints_mreza_3.ckpt\n",
      "Epoch 28/100\n",
      "163/163 [==============================] - 23s 142ms/step - loss: 2.2647e-05 - accuracy: 1.0000 - precision_1: 1.0000 - recall_1: 1.0000 - val_loss: 1.6690 - val_accuracy: 0.8750 - val_precision_1: 0.8000 - val_recall_1: 1.0000\n",
      "\n",
      "Epoch 00028: saving model to checkpoints_mreza_3.ckpt\n",
      "Epoch 29/100\n"
     ]
    },
    {
     "name": "stdout",
     "output_type": "stream",
     "text": [
      "163/163 [==============================] - 23s 143ms/step - loss: 1.8372e-05 - accuracy: 1.0000 - precision_1: 1.0000 - recall_1: 1.0000 - val_loss: 1.7054 - val_accuracy: 0.8750 - val_precision_1: 0.8000 - val_recall_1: 1.0000\n",
      "\n",
      "Epoch 00029: saving model to checkpoints_mreza_3.ckpt\n",
      "Epoch 30/100\n",
      "163/163 [==============================] - 23s 144ms/step - loss: 1.5020e-05 - accuracy: 1.0000 - precision_1: 1.0000 - recall_1: 1.0000 - val_loss: 1.7538 - val_accuracy: 0.8750 - val_precision_1: 0.8000 - val_recall_1: 1.0000\n",
      "\n",
      "Epoch 00030: saving model to checkpoints_mreza_3.ckpt\n",
      "Epoch 31/100\n",
      "163/163 [==============================] - 22s 137ms/step - loss: 9.0251e-06 - accuracy: 1.0000 - precision_1: 1.0000 - recall_1: 1.0000 - val_loss: 1.7159 - val_accuracy: 0.8750 - val_precision_1: 0.8000 - val_recall_1: 1.0000\n",
      "\n",
      "Epoch 00031: saving model to checkpoints_mreza_3.ckpt\n",
      "Epoch 32/100\n",
      "163/163 [==============================] - 23s 139ms/step - loss: 9.1623e-06 - accuracy: 1.0000 - precision_1: 1.0000 - recall_1: 1.0000 - val_loss: 1.7443 - val_accuracy: 0.8750 - val_precision_1: 0.8000 - val_recall_1: 1.0000\n",
      "\n",
      "Epoch 00032: saving model to checkpoints_mreza_3.ckpt\n",
      "Epoch 33/100\n",
      "163/163 [==============================] - 22s 138ms/step - loss: 7.7676e-06 - accuracy: 1.0000 - precision_1: 1.0000 - recall_1: 1.0000 - val_loss: 1.7667 - val_accuracy: 0.8750 - val_precision_1: 0.8000 - val_recall_1: 1.0000\n",
      "\n",
      "Epoch 00033: saving model to checkpoints_mreza_3.ckpt\n",
      "Epoch 34/100\n",
      "163/163 [==============================] - 24s 144ms/step - loss: 8.5843e-06 - accuracy: 1.0000 - precision_1: 1.0000 - recall_1: 1.0000 - val_loss: 1.8019 - val_accuracy: 0.8750 - val_precision_1: 0.8000 - val_recall_1: 1.0000\n",
      "\n",
      "Epoch 00034: saving model to checkpoints_mreza_3.ckpt\n",
      "Epoch 35/100\n",
      "163/163 [==============================] - 23s 142ms/step - loss: 7.4674e-06 - accuracy: 1.0000 - precision_1: 1.0000 - recall_1: 1.0000 - val_loss: 1.8266 - val_accuracy: 0.8750 - val_precision_1: 0.8000 - val_recall_1: 1.0000\n",
      "\n",
      "Epoch 00035: saving model to checkpoints_mreza_3.ckpt\n",
      "Epoch 36/100\n",
      "163/163 [==============================] - 23s 141ms/step - loss: 4.4854e-06 - accuracy: 1.0000 - precision_1: 1.0000 - recall_1: 1.0000 - val_loss: 1.8087 - val_accuracy: 0.8750 - val_precision_1: 0.8000 - val_recall_1: 1.0000\n",
      "\n",
      "Epoch 00036: saving model to checkpoints_mreza_3.ckpt\n",
      "Epoch 37/100\n",
      "163/163 [==============================] - 23s 143ms/step - loss: 5.2839e-06 - accuracy: 1.0000 - precision_1: 1.0000 - recall_1: 1.0000 - val_loss: 1.8628 - val_accuracy: 0.8750 - val_precision_1: 0.8000 - val_recall_1: 1.0000\n",
      "\n",
      "Epoch 00037: saving model to checkpoints_mreza_3.ckpt\n",
      "Epoch 38/100\n",
      "163/163 [==============================] - 23s 141ms/step - loss: 4.4337e-06 - accuracy: 1.0000 - precision_1: 1.0000 - recall_1: 1.0000 - val_loss: 1.8664 - val_accuracy: 0.8750 - val_precision_1: 0.8000 - val_recall_1: 1.0000\n",
      "\n",
      "Epoch 00038: saving model to checkpoints_mreza_3.ckpt\n",
      "Epoch 39/100\n",
      "163/163 [==============================] - 22s 136ms/step - loss: 4.0531e-06 - accuracy: 1.0000 - precision_1: 1.0000 - recall_1: 1.0000 - val_loss: 1.8662 - val_accuracy: 0.8750 - val_precision_1: 0.8000 - val_recall_1: 1.0000\n",
      "\n",
      "Epoch 00039: saving model to checkpoints_mreza_3.ckpt\n",
      "Epoch 40/100\n",
      "163/163 [==============================] - 23s 139ms/step - loss: 4.8293e-06 - accuracy: 1.0000 - precision_1: 1.0000 - recall_1: 1.0000 - val_loss: 1.9059 - val_accuracy: 0.8750 - val_precision_1: 0.8000 - val_recall_1: 1.0000\n",
      "\n",
      "Epoch 00040: saving model to checkpoints_mreza_3.ckpt\n",
      "Epoch 41/100\n",
      "163/163 [==============================] - 23s 140ms/step - loss: 3.1759e-06 - accuracy: 1.0000 - precision_1: 1.0000 - recall_1: 1.0000 - val_loss: 1.9128 - val_accuracy: 0.8750 - val_precision_1: 0.8000 - val_recall_1: 1.0000\n",
      "\n",
      "Epoch 00041: saving model to checkpoints_mreza_3.ckpt\n",
      "Epoch 42/100\n",
      "163/163 [==============================] - 23s 140ms/step - loss: 2.5864e-06 - accuracy: 1.0000 - precision_1: 1.0000 - recall_1: 1.0000 - val_loss: 1.9189 - val_accuracy: 0.8750 - val_precision_1: 0.8000 - val_recall_1: 1.0000\n",
      "\n",
      "Epoch 00042: saving model to checkpoints_mreza_3.ckpt\n",
      "Epoch 43/100\n",
      "163/163 [==============================] - 22s 136ms/step - loss: 2.3612e-06 - accuracy: 1.0000 - precision_1: 1.0000 - recall_1: 1.0000 - val_loss: 1.9563 - val_accuracy: 0.8750 - val_precision_1: 0.8000 - val_recall_1: 1.0000\n",
      "\n",
      "Epoch 00043: saving model to checkpoints_mreza_3.ckpt\n",
      "Epoch 44/100\n",
      "163/163 [==============================] - 22s 135ms/step - loss: 3.4534e-06 - accuracy: 1.0000 - precision_1: 1.0000 - recall_1: 1.0000 - val_loss: 1.9607 - val_accuracy: 0.8750 - val_precision_1: 0.8000 - val_recall_1: 1.0000\n",
      "\n",
      "Epoch 00044: saving model to checkpoints_mreza_3.ckpt\n",
      "Epoch 45/100\n",
      "163/163 [==============================] - 23s 143ms/step - loss: 2.1670e-06 - accuracy: 1.0000 - precision_1: 1.0000 - recall_1: 1.0000 - val_loss: 1.9246 - val_accuracy: 0.8750 - val_precision_1: 0.8000 - val_recall_1: 1.0000\n",
      "\n",
      "Epoch 00045: saving model to checkpoints_mreza_3.ckpt\n",
      "Epoch 46/100\n",
      "163/163 [==============================] - 23s 143ms/step - loss: 1.6139e-06 - accuracy: 1.0000 - precision_1: 1.0000 - recall_1: 1.0000 - val_loss: 2.0242 - val_accuracy: 0.8750 - val_precision_1: 0.8000 - val_recall_1: 1.0000\n",
      "\n",
      "Epoch 00046: saving model to checkpoints_mreza_3.ckpt\n",
      "Epoch 47/100\n",
      "163/163 [==============================] - 23s 140ms/step - loss: 1.6318e-06 - accuracy: 1.0000 - precision_1: 1.0000 - recall_1: 1.0000 - val_loss: 2.0038 - val_accuracy: 0.8750 - val_precision_1: 0.8000 - val_recall_1: 1.0000\n",
      "\n",
      "Epoch 00047: saving model to checkpoints_mreza_3.ckpt\n",
      "Epoch 48/100\n",
      "163/163 [==============================] - 23s 139ms/step - loss: 1.5136e-06 - accuracy: 1.0000 - precision_1: 1.0000 - recall_1: 1.0000 - val_loss: 2.0413 - val_accuracy: 0.8750 - val_precision_1: 0.8000 - val_recall_1: 1.0000\n",
      "\n",
      "Epoch 00048: saving model to checkpoints_mreza_3.ckpt\n",
      "Epoch 49/100\n",
      "163/163 [==============================] - 24s 147ms/step - loss: 1.5424e-06 - accuracy: 1.0000 - precision_1: 1.0000 - recall_1: 1.0000 - val_loss: 2.0864 - val_accuracy: 0.8750 - val_precision_1: 0.8000 - val_recall_1: 1.0000\n",
      "\n",
      "Epoch 00049: saving model to checkpoints_mreza_3.ckpt\n",
      "Epoch 50/100\n",
      "163/163 [==============================] - 24s 148ms/step - loss: 2.0253e-06 - accuracy: 1.0000 - precision_1: 1.0000 - recall_1: 1.0000 - val_loss: 2.0840 - val_accuracy: 0.8750 - val_precision_1: 0.8000 - val_recall_1: 1.0000\n",
      "\n",
      "Epoch 00050: saving model to checkpoints_mreza_3.ckpt\n",
      "Epoch 51/100\n",
      "163/163 [==============================] - 24s 147ms/step - loss: 7.9852e-07 - accuracy: 1.0000 - precision_1: 1.0000 - recall_1: 1.0000 - val_loss: 2.0540 - val_accuracy: 0.8750 - val_precision_1: 0.8000 - val_recall_1: 1.0000\n",
      "\n",
      "Epoch 00051: saving model to checkpoints_mreza_3.ckpt\n",
      "Epoch 52/100\n",
      "163/163 [==============================] - 24s 146ms/step - loss: 1.0625e-06 - accuracy: 1.0000 - precision_1: 1.0000 - recall_1: 1.0000 - val_loss: 2.0693 - val_accuracy: 0.8750 - val_precision_1: 0.8000 - val_recall_1: 1.0000\n",
      "\n",
      "Epoch 00052: saving model to checkpoints_mreza_3.ckpt\n",
      "Epoch 53/100\n",
      "163/163 [==============================] - 22s 136ms/step - loss: 1.2222e-06 - accuracy: 1.0000 - precision_1: 1.0000 - recall_1: 1.0000 - val_loss: 2.0957 - val_accuracy: 0.8750 - val_precision_1: 0.8000 - val_recall_1: 1.0000\n",
      "\n",
      "Epoch 00053: saving model to checkpoints_mreza_3.ckpt\n",
      "Epoch 54/100\n",
      "163/163 [==============================] - 25s 151ms/step - loss: 1.1422e-06 - accuracy: 1.0000 - precision_1: 1.0000 - recall_1: 1.0000 - val_loss: 2.1305 - val_accuracy: 0.8750 - val_precision_1: 0.8000 - val_recall_1: 1.0000\n",
      "\n",
      "Epoch 00054: saving model to checkpoints_mreza_3.ckpt\n",
      "Epoch 55/100\n",
      "163/163 [==============================] - 23s 143ms/step - loss: 5.5935e-07 - accuracy: 1.0000 - precision_1: 1.0000 - recall_1: 1.0000 - val_loss: 2.1772 - val_accuracy: 0.8750 - val_precision_1: 0.8000 - val_recall_1: 1.0000\n",
      "\n",
      "Epoch 00055: saving model to checkpoints_mreza_3.ckpt\n",
      "Epoch 56/100\n",
      "163/163 [==============================] - 23s 142ms/step - loss: 7.3922e-07 - accuracy: 1.0000 - precision_1: 1.0000 - recall_1: 1.0000 - val_loss: 2.1249 - val_accuracy: 0.8750 - val_precision_1: 0.8000 - val_recall_1: 1.0000\n"
     ]
    },
    {
     "name": "stdout",
     "output_type": "stream",
     "text": [
      "\n",
      "Epoch 00056: saving model to checkpoints_mreza_3.ckpt\n",
      "Epoch 57/100\n",
      "163/163 [==============================] - 25s 151ms/step - loss: 7.3535e-07 - accuracy: 1.0000 - precision_1: 1.0000 - recall_1: 1.0000 - val_loss: 2.1809 - val_accuracy: 0.8750 - val_precision_1: 0.8000 - val_recall_1: 1.0000\n",
      "\n",
      "Epoch 00057: saving model to checkpoints_mreza_3.ckpt\n",
      "Epoch 58/100\n",
      "163/163 [==============================] - 23s 141ms/step - loss: 9.0793e-07 - accuracy: 1.0000 - precision_1: 1.0000 - recall_1: 1.0000 - val_loss: 2.2264 - val_accuracy: 0.8750 - val_precision_1: 0.8000 - val_recall_1: 1.0000\n",
      "\n",
      "Epoch 00058: saving model to checkpoints_mreza_3.ckpt\n",
      "Epoch 59/100\n",
      "163/163 [==============================] - 23s 142ms/step - loss: 5.8455e-07 - accuracy: 1.0000 - precision_1: 1.0000 - recall_1: 1.0000 - val_loss: 2.1622 - val_accuracy: 0.8750 - val_precision_1: 0.8000 - val_recall_1: 1.0000\n",
      "\n",
      "Epoch 00059: saving model to checkpoints_mreza_3.ckpt\n",
      "Epoch 60/100\n",
      "163/163 [==============================] - 23s 140ms/step - loss: 3.9423e-07 - accuracy: 1.0000 - precision_1: 1.0000 - recall_1: 1.0000 - val_loss: 2.2085 - val_accuracy: 0.8750 - val_precision_1: 0.8000 - val_recall_1: 1.0000\n",
      "\n",
      "Epoch 00060: saving model to checkpoints_mreza_3.ckpt\n",
      "Epoch 61/100\n",
      "163/163 [==============================] - 23s 139ms/step - loss: 6.4279e-07 - accuracy: 1.0000 - precision_1: 1.0000 - recall_1: 1.0000 - val_loss: 2.2231 - val_accuracy: 0.8750 - val_precision_1: 0.8000 - val_recall_1: 1.0000\n",
      "\n",
      "Epoch 00061: saving model to checkpoints_mreza_3.ckpt\n",
      "Epoch 62/100\n",
      "163/163 [==============================] - 23s 140ms/step - loss: 3.1530e-07 - accuracy: 1.0000 - precision_1: 1.0000 - recall_1: 1.0000 - val_loss: 2.2268 - val_accuracy: 0.8750 - val_precision_1: 0.8000 - val_recall_1: 1.0000\n",
      "\n",
      "Epoch 00062: saving model to checkpoints_mreza_3.ckpt\n",
      "Epoch 63/100\n",
      "163/163 [==============================] - 22s 136ms/step - loss: 3.7179e-07 - accuracy: 1.0000 - precision_1: 1.0000 - recall_1: 1.0000 - val_loss: 2.2308 - val_accuracy: 0.8750 - val_precision_1: 0.8000 - val_recall_1: 1.0000\n",
      "\n",
      "Epoch 00063: saving model to checkpoints_mreza_3.ckpt\n",
      "Epoch 64/100\n",
      "163/163 [==============================] - 23s 138ms/step - loss: 3.3752e-07 - accuracy: 1.0000 - precision_1: 1.0000 - recall_1: 1.0000 - val_loss: 2.2537 - val_accuracy: 0.8750 - val_precision_1: 0.8000 - val_recall_1: 1.0000\n",
      "\n",
      "Epoch 00064: saving model to checkpoints_mreza_3.ckpt\n",
      "Epoch 65/100\n",
      "163/163 [==============================] - 23s 138ms/step - loss: 2.7400e-07 - accuracy: 1.0000 - precision_1: 1.0000 - recall_1: 1.0000 - val_loss: 2.2705 - val_accuracy: 0.8750 - val_precision_1: 0.8000 - val_recall_1: 1.0000\n",
      "\n",
      "Epoch 00065: saving model to checkpoints_mreza_3.ckpt\n",
      "Epoch 66/100\n",
      "163/163 [==============================] - 22s 135ms/step - loss: 3.1268e-07 - accuracy: 1.0000 - precision_1: 1.0000 - recall_1: 1.0000 - val_loss: 2.3618 - val_accuracy: 0.8750 - val_precision_1: 0.8000 - val_recall_1: 1.0000\n",
      "\n",
      "Epoch 00066: saving model to checkpoints_mreza_3.ckpt\n",
      "Epoch 67/100\n",
      "163/163 [==============================] - 22s 135ms/step - loss: 2.8085e-07 - accuracy: 1.0000 - precision_1: 1.0000 - recall_1: 1.0000 - val_loss: 2.2847 - val_accuracy: 0.8750 - val_precision_1: 0.8000 - val_recall_1: 1.0000\n",
      "\n",
      "Epoch 00067: saving model to checkpoints_mreza_3.ckpt\n",
      "Epoch 68/100\n",
      "163/163 [==============================] - 22s 137ms/step - loss: 2.4082e-07 - accuracy: 1.0000 - precision_1: 1.0000 - recall_1: 1.0000 - val_loss: 2.3206 - val_accuracy: 0.8750 - val_precision_1: 0.8000 - val_recall_1: 1.0000\n",
      "\n",
      "Epoch 00068: saving model to checkpoints_mreza_3.ckpt\n",
      "Epoch 69/100\n",
      "163/163 [==============================] - 23s 139ms/step - loss: 1.9007e-07 - accuracy: 1.0000 - precision_1: 1.0000 - recall_1: 1.0000 - val_loss: 2.3141 - val_accuracy: 0.8750 - val_precision_1: 0.8000 - val_recall_1: 1.0000\n",
      "\n",
      "Epoch 00069: saving model to checkpoints_mreza_3.ckpt\n",
      "Epoch 70/100\n",
      "163/163 [==============================] - 23s 143ms/step - loss: 1.4988e-07 - accuracy: 1.0000 - precision_1: 1.0000 - recall_1: 1.0000 - val_loss: 2.3480 - val_accuracy: 0.8750 - val_precision_1: 0.8000 - val_recall_1: 1.0000\n",
      "\n",
      "Epoch 00070: saving model to checkpoints_mreza_3.ckpt\n",
      "Epoch 71/100\n",
      "163/163 [==============================] - 23s 139ms/step - loss: 1.6537e-07 - accuracy: 1.0000 - precision_1: 1.0000 - recall_1: 1.0000 - val_loss: 2.4565 - val_accuracy: 0.8750 - val_precision_1: 0.8000 - val_recall_1: 1.0000\n",
      "\n",
      "Epoch 00071: saving model to checkpoints_mreza_3.ckpt\n",
      "Epoch 72/100\n",
      "163/163 [==============================] - 24s 147ms/step - loss: 1.6391e-07 - accuracy: 1.0000 - precision_1: 1.0000 - recall_1: 1.0000 - val_loss: 2.3869 - val_accuracy: 0.8750 - val_precision_1: 0.8000 - val_recall_1: 1.0000\n",
      "\n",
      "Epoch 00072: saving model to checkpoints_mreza_3.ckpt\n",
      "Epoch 73/100\n",
      "163/163 [==============================] - 22s 138ms/step - loss: 1.1316e-07 - accuracy: 1.0000 - precision_1: 1.0000 - recall_1: 1.0000 - val_loss: 2.4383 - val_accuracy: 0.8750 - val_precision_1: 0.8000 - val_recall_1: 1.0000\n",
      "\n",
      "Epoch 00073: saving model to checkpoints_mreza_3.ckpt\n",
      "Epoch 74/100\n",
      "163/163 [==============================] - 23s 139ms/step - loss: 1.2442e-07 - accuracy: 1.0000 - precision_1: 1.0000 - recall_1: 1.0000 - val_loss: 2.4779 - val_accuracy: 0.8750 - val_precision_1: 0.8000 - val_recall_1: 1.0000\n",
      "\n",
      "Epoch 00074: saving model to checkpoints_mreza_3.ckpt\n",
      "Epoch 75/100\n",
      "163/163 [==============================] - 23s 139ms/step - loss: 1.1962e-07 - accuracy: 1.0000 - precision_1: 1.0000 - recall_1: 1.0000 - val_loss: 2.4273 - val_accuracy: 0.8750 - val_precision_1: 0.8000 - val_recall_1: 1.0000\n",
      "\n",
      "Epoch 00075: saving model to checkpoints_mreza_3.ckpt\n",
      "Epoch 76/100\n",
      "163/163 [==============================] - 23s 139ms/step - loss: 8.3695e-08 - accuracy: 1.0000 - precision_1: 1.0000 - recall_1: 1.0000 - val_loss: 2.4646 - val_accuracy: 0.8750 - val_precision_1: 0.8000 - val_recall_1: 1.0000\n",
      "\n",
      "Epoch 00076: saving model to checkpoints_mreza_3.ckpt\n",
      "Epoch 77/100\n",
      "163/163 [==============================] - 23s 139ms/step - loss: 9.2036e-08 - accuracy: 1.0000 - precision_1: 1.0000 - recall_1: 1.0000 - val_loss: 2.4320 - val_accuracy: 0.8750 - val_precision_1: 0.8000 - val_recall_1: 1.0000\n",
      "\n",
      "Epoch 00077: saving model to checkpoints_mreza_3.ckpt\n",
      "Epoch 78/100\n",
      "163/163 [==============================] - 23s 139ms/step - loss: 1.1106e-07 - accuracy: 1.0000 - precision_1: 1.0000 - recall_1: 1.0000 - val_loss: 2.4967 - val_accuracy: 0.8750 - val_precision_1: 0.8000 - val_recall_1: 1.0000\n",
      "\n",
      "Epoch 00078: saving model to checkpoints_mreza_3.ckpt\n",
      "Epoch 79/100\n",
      "163/163 [==============================] - 23s 139ms/step - loss: 8.3931e-08 - accuracy: 1.0000 - precision_1: 1.0000 - recall_1: 1.0000 - val_loss: 2.4562 - val_accuracy: 0.8750 - val_precision_1: 0.8000 - val_recall_1: 1.0000\n",
      "\n",
      "Epoch 00079: saving model to checkpoints_mreza_3.ckpt\n",
      "Epoch 80/100\n",
      "163/163 [==============================] - 23s 139ms/step - loss: 8.6194e-08 - accuracy: 1.0000 - precision_1: 1.0000 - recall_1: 1.0000 - val_loss: 2.6079 - val_accuracy: 0.8750 - val_precision_1: 0.8000 - val_recall_1: 1.0000\n",
      "\n",
      "Epoch 00080: saving model to checkpoints_mreza_3.ckpt\n",
      "Epoch 81/100\n",
      "163/163 [==============================] - 23s 139ms/step - loss: 6.6163e-08 - accuracy: 1.0000 - precision_1: 1.0000 - recall_1: 1.0000 - val_loss: 2.4704 - val_accuracy: 0.8750 - val_precision_1: 0.8000 - val_recall_1: 1.0000\n",
      "\n",
      "Epoch 00081: saving model to checkpoints_mreza_3.ckpt\n",
      "Epoch 82/100\n",
      "163/163 [==============================] - 23s 139ms/step - loss: 6.5421e-08 - accuracy: 1.0000 - precision_1: 1.0000 - recall_1: 1.0000 - val_loss: 2.5018 - val_accuracy: 0.8750 - val_precision_1: 0.8000 - val_recall_1: 1.0000\n",
      "\n",
      "Epoch 00082: saving model to checkpoints_mreza_3.ckpt\n",
      "Epoch 83/100\n",
      "163/163 [==============================] - 23s 139ms/step - loss: 5.6697e-08 - accuracy: 1.0000 - precision_1: 1.0000 - recall_1: 1.0000 - val_loss: 2.6165 - val_accuracy: 0.8750 - val_precision_1: 0.8000 - val_recall_1: 1.0000\n",
      "\n",
      "Epoch 00083: saving model to checkpoints_mreza_3.ckpt\n",
      "Epoch 84/100\n",
      "163/163 [==============================] - 23s 139ms/step - loss: 5.6775e-08 - accuracy: 1.0000 - precision_1: 1.0000 - recall_1: 1.0000 - val_loss: 2.6318 - val_accuracy: 0.8750 - val_precision_1: 0.8000 - val_recall_1: 1.0000\n"
     ]
    },
    {
     "name": "stdout",
     "output_type": "stream",
     "text": [
      "\n",
      "Epoch 00084: saving model to checkpoints_mreza_3.ckpt\n",
      "Epoch 85/100\n",
      "163/163 [==============================] - 23s 138ms/step - loss: 1.7717e-07 - accuracy: 1.0000 - precision_1: 1.0000 - recall_1: 1.0000 - val_loss: 2.5642 - val_accuracy: 0.8750 - val_precision_1: 0.8000 - val_recall_1: 1.0000\n",
      "\n",
      "Epoch 00085: saving model to checkpoints_mreza_3.ckpt\n",
      "Epoch 86/100\n",
      "163/163 [==============================] - 23s 139ms/step - loss: 6.3081e-08 - accuracy: 1.0000 - precision_1: 1.0000 - recall_1: 1.0000 - val_loss: 2.5458 - val_accuracy: 0.8750 - val_precision_1: 0.8000 - val_recall_1: 1.0000\n",
      "\n",
      "Epoch 00086: saving model to checkpoints_mreza_3.ckpt\n",
      "Epoch 87/100\n",
      "163/163 [==============================] - 23s 139ms/step - loss: 5.2348e-08 - accuracy: 1.0000 - precision_1: 1.0000 - recall_1: 1.0000 - val_loss: 2.6143 - val_accuracy: 0.8750 - val_precision_1: 0.8000 - val_recall_1: 1.0000\n",
      "\n",
      "Epoch 00087: saving model to checkpoints_mreza_3.ckpt\n",
      "Epoch 88/100\n",
      "163/163 [==============================] - 23s 139ms/step - loss: 3.8488e-08 - accuracy: 1.0000 - precision_1: 1.0000 - recall_1: 1.0000 - val_loss: 2.6403 - val_accuracy: 0.8750 - val_precision_1: 0.8000 - val_recall_1: 1.0000\n",
      "\n",
      "Epoch 00088: saving model to checkpoints_mreza_3.ckpt\n",
      "Epoch 89/100\n",
      "163/163 [==============================] - 23s 139ms/step - loss: 3.7000e-08 - accuracy: 1.0000 - precision_1: 1.0000 - recall_1: 1.0000 - val_loss: 2.6104 - val_accuracy: 0.8750 - val_precision_1: 0.8000 - val_recall_1: 1.0000\n",
      "\n",
      "Epoch 00089: saving model to checkpoints_mreza_3.ckpt\n",
      "Epoch 90/100\n",
      "163/163 [==============================] - 23s 139ms/step - loss: 4.1662e-08 - accuracy: 1.0000 - precision_1: 1.0000 - recall_1: 1.0000 - val_loss: 2.6466 - val_accuracy: 0.8750 - val_precision_1: 0.8000 - val_recall_1: 1.0000\n",
      "\n",
      "Epoch 00090: saving model to checkpoints_mreza_3.ckpt\n",
      "Epoch 91/100\n",
      "163/163 [==============================] - 23s 139ms/step - loss: 2.6954e-08 - accuracy: 1.0000 - precision_1: 1.0000 - recall_1: 1.0000 - val_loss: 2.7199 - val_accuracy: 0.8750 - val_precision_1: 0.8000 - val_recall_1: 1.0000\n",
      "\n",
      "Epoch 00091: saving model to checkpoints_mreza_3.ckpt\n",
      "Epoch 92/100\n",
      "163/163 [==============================] - 23s 139ms/step - loss: 3.0856e-08 - accuracy: 1.0000 - precision_1: 1.0000 - recall_1: 1.0000 - val_loss: 2.7195 - val_accuracy: 0.8750 - val_precision_1: 0.8000 - val_recall_1: 1.0000\n",
      "\n",
      "Epoch 00092: saving model to checkpoints_mreza_3.ckpt\n",
      "Epoch 93/100\n",
      "163/163 [==============================] - 23s 139ms/step - loss: 2.6968e-08 - accuracy: 1.0000 - precision_1: 1.0000 - recall_1: 1.0000 - val_loss: 2.6176 - val_accuracy: 0.8750 - val_precision_1: 0.8000 - val_recall_1: 1.0000\n",
      "\n",
      "Epoch 00093: saving model to checkpoints_mreza_3.ckpt\n",
      "Epoch 94/100\n",
      "163/163 [==============================] - 23s 139ms/step - loss: 3.0022e-08 - accuracy: 1.0000 - precision_1: 1.0000 - recall_1: 1.0000 - val_loss: 2.6514 - val_accuracy: 0.8750 - val_precision_1: 0.8000 - val_recall_1: 1.0000\n",
      "\n",
      "Epoch 00094: saving model to checkpoints_mreza_3.ckpt\n",
      "Epoch 95/100\n",
      "163/163 [==============================] - 23s 139ms/step - loss: 1.9254e-08 - accuracy: 1.0000 - precision_1: 1.0000 - recall_1: 1.0000 - val_loss: 2.7684 - val_accuracy: 0.8750 - val_precision_1: 0.8000 - val_recall_1: 1.0000\n",
      "\n",
      "Epoch 00095: saving model to checkpoints_mreza_3.ckpt\n",
      "Epoch 96/100\n",
      "163/163 [==============================] - 23s 139ms/step - loss: 1.6981e-08 - accuracy: 1.0000 - precision_1: 1.0000 - recall_1: 1.0000 - val_loss: 2.7918 - val_accuracy: 0.8750 - val_precision_1: 0.8000 - val_recall_1: 1.0000\n",
      "\n",
      "Epoch 00096: saving model to checkpoints_mreza_3.ckpt\n",
      "Epoch 97/100\n",
      "163/163 [==============================] - 23s 139ms/step - loss: 1.2130e-08 - accuracy: 1.0000 - precision_1: 1.0000 - recall_1: 1.0000 - val_loss: 2.6977 - val_accuracy: 0.8750 - val_precision_1: 0.8000 - val_recall_1: 1.0000\n",
      "\n",
      "Epoch 00097: saving model to checkpoints_mreza_3.ckpt\n",
      "Epoch 98/100\n",
      "163/163 [==============================] - 23s 139ms/step - loss: 1.6297e-08 - accuracy: 1.0000 - precision_1: 1.0000 - recall_1: 1.0000 - val_loss: 2.6616 - val_accuracy: 0.8750 - val_precision_1: 0.8000 - val_recall_1: 1.0000\n",
      "\n",
      "Epoch 00098: saving model to checkpoints_mreza_3.ckpt\n",
      "Epoch 99/100\n",
      "163/163 [==============================] - 22s 137ms/step - loss: 1.0310e-08 - accuracy: 1.0000 - precision_1: 1.0000 - recall_1: 1.0000 - val_loss: 2.7648 - val_accuracy: 0.8750 - val_precision_1: 0.8000 - val_recall_1: 1.0000\n",
      "\n",
      "Epoch 00099: saving model to checkpoints_mreza_3.ckpt\n",
      "Epoch 100/100\n",
      "163/163 [==============================] - 22s 138ms/step - loss: 1.2314e-08 - accuracy: 1.0000 - precision_1: 1.0000 - recall_1: 1.0000 - val_loss: 2.7911 - val_accuracy: 0.8750 - val_precision_1: 0.8000 - val_recall_1: 1.0000\n",
      "\n",
      "Epoch 00100: saving model to checkpoints_mreza_3.ckpt\n"
     ]
    }
   ],
   "source": [
    "history = model.fit(x_train, y_train, epochs=100, batch_size=0, verbose=1,\n",
    "                    shuffle=True, validation_data=(x_val,y_val),callbacks=[cp_callback])"
   ]
  },
  {
   "cell_type": "code",
   "execution_count": 20,
   "id": "295db869",
   "metadata": {},
   "outputs": [
    {
     "data": {
      "text/plain": [
       "dict_keys(['loss', 'accuracy', 'precision_1', 'recall_1', 'val_loss', 'val_accuracy', 'val_precision_1', 'val_recall_1'])"
      ]
     },
     "execution_count": 20,
     "metadata": {},
     "output_type": "execute_result"
    }
   ],
   "source": [
    "history.history.keys()"
   ]
  },
  {
   "cell_type": "code",
   "execution_count": 21,
   "id": "865a1980",
   "metadata": {},
   "outputs": [],
   "source": [
    "import matplotlib.pyplot as plt"
   ]
  },
  {
   "cell_type": "code",
   "execution_count": 23,
   "id": "85bd4746",
   "metadata": {},
   "outputs": [
    {
     "data": {
      "image/png": "[encoded data removed]",
      "text/plain": [
       "<Figure size 720x720 with 4 Axes>"
      ]
     },
     "metadata": {
      "needs_background": "light"
     },
     "output_type": "display_data"
    }
   ],
   "source": [
    "plt.figure(figsize=(10, 10))\n",
    "\n",
    "plt.subplot(2, 2, 1)\n",
    "plt.title('Loss')\n",
    "plt.plot(history.epoch, history.history['loss'], label='training')\n",
    "plt.plot(history.epoch, history.history['val_loss'], label='validation')\n",
    "plt.legend(loc='best')\n",
    "\n",
    "plt.subplot(2, 2, 2)\n",
    "plt.title('Accuracy')\n",
    "plt.plot(history.epoch, history.history['accuracy'], label='training')\n",
    "plt.plot(history.epoch, history.history['val_accuracy'], label='validation')\n",
    "plt.legend(loc='best')\n",
    "\n",
    "plt.subplot(2, 2, 3)\n",
    "plt.title('Precision')\n",
    "plt.plot(history.epoch, history.history['precision_1'], label='training')\n",
    "plt.plot(history.epoch, history.history['val_precision_1'], label='validation')\n",
    "plt.legend(loc='best')\n",
    "\n",
    "plt.subplot(2, 2, 4)\n",
    "plt.title('Recall')\n",
    "plt.plot(history.epoch, history.history['recall_1'], label='training')\n",
    "plt.plot(history.epoch, history.history['val_recall_1'], label='validation')\n",
    "plt.legend(loc='best')\n",
    "\n",
    "plt.show()"
   ]
  },
  {
   "cell_type": "code",
   "execution_count": 24,
   "id": "223b0f6a",
   "metadata": {},
   "outputs": [],
   "source": [
    "model.save(\"./modeli/stefan/model_3_epoha_100.h5\")"
   ]
  },
  {
   "cell_type": "code",
   "execution_count": 25,
   "id": "93d8d894",
   "metadata": {},
   "outputs": [],
   "source": [
    "import json\n",
    "  \n",
    "# Serializing json \n",
    "json_history = json.dumps(history.history, indent = 4)\n",
    "  \n",
    "# Writing json\n",
    "with open(\"./modeli/stefan/model_3_epoha_100.json\", \"w\") as outfile:\n",
    "    outfile.write(json_history)"
   ]
  },
  {
   "cell_type": "code",
   "execution_count": 26,
   "id": "442626c8",
   "metadata": {},
   "outputs": [],
   "source": [
    "# loadovanje modela\n",
    "from tensorflow.keras.models import load_model\n",
    "\n",
    "model2 = load_model('./modeli/stefan/model_3_epoha_100.h5')"
   ]
  },
  {
   "cell_type": "code",
   "execution_count": 27,
   "id": "391a1ea7",
   "metadata": {},
   "outputs": [],
   "source": [
    "#loadovanje istorije\n",
    "\n",
    "with open('./modeli/stefan/model_3_epoha_100.json', 'r') as openfile:\n",
    "    # Reading from json file\n",
    "    history2 = json.load(openfile)\n"
   ]
  },
  {
   "cell_type": "code",
   "execution_count": 28,
   "id": "b1545689",
   "metadata": {},
   "outputs": [
    {
     "data": {
      "text/plain": [
       "100"
      ]
     },
     "execution_count": 28,
     "metadata": {},
     "output_type": "execute_result"
    }
   ],
   "source": [
    "len(history2['loss'])"
   ]
  },
  {
   "cell_type": "code",
   "execution_count": null,
   "id": "27a3168f",
   "metadata": {},
   "outputs": [],
   "source": [
    "#history.history.keys()"
   ]
  },
  {
   "cell_type": "code",
   "execution_count": null,
   "id": "0ae21919",
   "metadata": {},
   "outputs": [],
   "source": [
    "#len(history.history['loss'])"
   ]
  },
  {
   "cell_type": "code",
   "execution_count": 29,
   "id": "66c292f6",
   "metadata": {},
   "outputs": [],
   "source": [
    "directory_test = \"../chest_xray_norm/test\"\n",
    "x_test, y_test = get_data(directory_test)"
   ]
  },
  {
   "cell_type": "code",
   "execution_count": 30,
   "id": "d111e359",
   "metadata": {},
   "outputs": [],
   "source": [
    "y_pred = model2.predict(x_test)"
   ]
  },
  {
   "cell_type": "code",
   "execution_count": 31,
   "id": "3ec99f2b",
   "metadata": {},
   "outputs": [],
   "source": [
    "#y_pred_round = np.round(y_pred)"
   ]
  },
  {
   "cell_type": "code",
   "execution_count": 32,
   "id": "9aa7bdcb",
   "metadata": {},
   "outputs": [],
   "source": [
    "y_pred = y_pred.astype(int)"
   ]
  },
  {
   "cell_type": "code",
   "execution_count": 33,
   "id": "fc535bb7",
   "metadata": {},
   "outputs": [],
   "source": [
    "#y_test"
   ]
  },
  {
   "cell_type": "code",
   "execution_count": 34,
   "id": "4a6b9494",
   "metadata": {},
   "outputs": [],
   "source": [
    "#y_pred"
   ]
  },
  {
   "cell_type": "code",
   "execution_count": 35,
   "id": "f0c32fd0",
   "metadata": {},
   "outputs": [],
   "source": [
    "y_pred = np.ravel(y_pred)"
   ]
  },
  {
   "cell_type": "code",
   "execution_count": 36,
   "id": "ae64c6fe",
   "metadata": {},
   "outputs": [],
   "source": [
    "tacnost = [y_pred==y_test]"
   ]
  },
  {
   "cell_type": "code",
   "execution_count": 37,
   "id": "6df91325",
   "metadata": {},
   "outputs": [],
   "source": [
    "#tacnost"
   ]
  },
  {
   "cell_type": "code",
   "execution_count": 38,
   "id": "e1ef31a8",
   "metadata": {},
   "outputs": [],
   "source": [
    "tacnost = np.average(tacnost)"
   ]
  },
  {
   "cell_type": "code",
   "execution_count": 39,
   "id": "368a729e",
   "metadata": {},
   "outputs": [
    {
     "data": {
      "text/plain": [
       "0.8189102564102564"
      ]
     },
     "execution_count": 39,
     "metadata": {},
     "output_type": "execute_result"
    }
   ],
   "source": [
    "tacnost"
   ]
  },
  {
   "cell_type": "code",
   "execution_count": 41,
   "id": "869fd4cd",
   "metadata": {},
   "outputs": [
    {
     "ename": "TypeError",
     "evalue": "'ModelCheckpoint' object is not subscriptable",
     "output_type": "error",
     "traceback": [
      "\u001b[0;31m---------------------------------------------------------------------------\u001b[0m",
      "\u001b[0;31mTypeError\u001b[0m                                 Traceback (most recent call last)",
      "Input \u001b[0;32mIn [41]\u001b[0m, in \u001b[0;36m<cell line: 1>\u001b[0;34m()\u001b[0m\n\u001b[0;32m----> 1\u001b[0m \u001b[43mcp_callback\u001b[49m\u001b[43m[\u001b[49m\u001b[38;5;241;43m1\u001b[39;49m\u001b[43m]\u001b[49m\n",
      "\u001b[0;31mTypeError\u001b[0m: 'ModelCheckpoint' object is not subscriptable"
     ]
    }
   ],
   "source": [
    "cp_callback.model()"
   ]
  },
  {
   "cell_type": "code",
   "execution_count": 49,
   "id": "ceebda72",
   "metadata": {},
   "outputs": [],
   "source": [
    "cekovi = tf.train.load_checkpoint(\"./\")"
   ]
  },
  {
   "cell_type": "code",
   "execution_count": 50,
   "id": "31aa2868",
   "metadata": {},
   "outputs": [
    {
     "data": {
      "text/plain": [
       "<tensorflow.python._pywrap_checkpoint_reader.CheckpointReader at 0x7f1097a366b0>"
      ]
     },
     "execution_count": 50,
     "metadata": {},
     "output_type": "execute_result"
    }
   ],
   "source": [
    "cekovi"
   ]
  },
  {
   "cell_type": "code",
   "execution_count": 52,
   "id": "1e5dc63f",
   "metadata": {},
   "outputs": [
    {
     "ename": "TypeError",
     "evalue": "CheckpointReader_GetTensor(): incompatible function arguments. The following argument types are supported:\n    1. (arg0: tensorflow.python._pywrap_checkpoint_reader.CheckpointReader, arg1: str) -> object\n\nInvoked with: 1",
     "output_type": "error",
     "traceback": [
      "\u001b[0;31m---------------------------------------------------------------------------\u001b[0m",
      "\u001b[0;31mTypeError\u001b[0m                                 Traceback (most recent call last)",
      "Input \u001b[0;32mIn [52]\u001b[0m, in \u001b[0;36m<cell line: 1>\u001b[0;34m()\u001b[0m\n\u001b[0;32m----> 1\u001b[0m \u001b[43mcekovi\u001b[49m\u001b[38;5;241;43m.\u001b[39;49m\u001b[43mCheckpointReader_GetTensor\u001b[49m\u001b[43m(\u001b[49m\u001b[38;5;241;43m1\u001b[39;49m\u001b[43m)\u001b[49m\n",
      "\u001b[0;31mTypeError\u001b[0m: CheckpointReader_GetTensor(): incompatible function arguments. The following argument types are supported:\n    1. (arg0: tensorflow.python._pywrap_checkpoint_reader.CheckpointReader, arg1: str) -> object\n\nInvoked with: 1"
     ]
    }
   ],
   "source": [
    "cekovi.CheckpointReader_GetTensor(1)"
   ]
  },
  {
   "cell_type": "code",
   "execution_count": 46,
   "id": "3811ebd4",
   "metadata": {},
   "outputs": [],
   "source": [
    "model_cek = make_model_3(x_train[0].shape)"
   ]
  },
  {
   "cell_type": "code",
   "execution_count": 48,
   "id": "b17de1cc",
   "metadata": {},
   "outputs": [
    {
     "ename": "AttributeError",
     "evalue": "'Functional' object has no attribute 'load'",
     "output_type": "error",
     "traceback": [
      "\u001b[0;31m---------------------------------------------------------------------------\u001b[0m",
      "\u001b[0;31mAttributeError\u001b[0m                            Traceback (most recent call last)",
      "Input \u001b[0;32mIn [48]\u001b[0m, in \u001b[0;36m<cell line: 1>\u001b[0;34m()\u001b[0m\n\u001b[0;32m----> 1\u001b[0m \u001b[43mmodel\u001b[49m\u001b[38;5;241;43m.\u001b[39;49m\u001b[43mload\u001b[49m(cekovi)\n",
      "\u001b[0;31mAttributeError\u001b[0m: 'Functional' object has no attribute 'load'"
     ]
    }
   ],
   "source": [
    "model.load(cekovi)"
   ]
  },
  {
   "cell_type": "code",
   "execution_count": null,
   "id": "e0379e1d",
   "metadata": {},
   "outputs": [],
   "source": []
  }
 ],
 "metadata": {
  "kernelspec": {
   "display_name": "Python 3 (ipykernel)",
   "language": "python",
   "name": "python3"
  },
  "language_info": {
   "codemirror_mode": {
    "name": "ipython",
    "version": 3
   },
   "file_extension": ".py",
   "mimetype": "text/x-python",
   "name": "python",
   "nbconvert_exporter": "python",
   "pygments_lexer": "ipython3",
   "version": "3.9.12"
  }
 },
 "nbformat": 4,
 "nbformat_minor": 5
}

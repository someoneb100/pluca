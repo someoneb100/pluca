{
 "cells": [
  {
   "cell_type": "code",
   "execution_count": 1,
   "id": "f916cc64",
   "metadata": {},
   "outputs": [],
   "source": [
    "from os import path, listdir\n",
    "from PIL import Image\n",
    "import numpy as np"
   ]
  },
  {
   "cell_type": "code",
   "execution_count": 7,
   "id": "977405cd",
   "metadata": {},
   "outputs": [
    {
     "name": "stdout",
     "output_type": "stream",
     "text": [
      "1 Physical GPUs, 1 Logical GPUs\n"
     ]
    }
   ],
   "source": [
    "import tensorflow as tf\n",
    "gpus = tf.config.experimental.list_physical_devices('GPU')\n",
    "if gpus:\n",
    "    try:\n",
    "        # Currently, memory growth needs to be the same across GPUs\n",
    "        for gpu in gpus:\n",
    "            tf.config.experimental.set_memory_growth(gpu, True)\n",
    "        logical_gpus = tf.config.experimental.list_logical_devices('GPU')\n",
    "        print(len(gpus), \"Physical GPUs,\", len(logical_gpus), \"Logical GPUs\")\n",
    "    except RuntimeError as e:\n",
    "        # Memory growth must be set before GPUs have been initialized\n",
    "        print(e)"
   ]
  },
  {
   "cell_type": "code",
   "execution_count": 8,
   "id": "07cb28a7",
   "metadata": {},
   "outputs": [],
   "source": [
    "def get_data(directory: str) -> \"tuple[np.ndarray, np.ndarray]\":\n",
    "    ima = listdir(path.join(directory, \"PNEUMONIA\"))\n",
    "    nema = listdir(path.join(directory, \"NORMAL\"))\n",
    "    size = len(ima) + len(nema)\n",
    "    X = np.empty((size, 250, 350), dtype=np.uint8)\n",
    "    y = np.empty((size), dtype=np.uint8)\n",
    "    for i, file in enumerate(ima):\n",
    "        X[i] = np.asarray(Image.open(path.join(directory, \"PNEUMONIA\", file)))\n",
    "        y[i] = 1\n",
    "    for i, file in enumerate(nema):\n",
    "        X[len(ima) + i] = np.asarray(Image.open(path.join(directory, \"NORMAL\", file)))\n",
    "        y[len(ima) + i] = 0\n",
    "    return X , y"
   ]
  },
  {
   "cell_type": "code",
   "execution_count": 4,
   "id": "e9876ef7",
   "metadata": {},
   "outputs": [],
   "source": [
    "from modeli_stefan import make_model_6"
   ]
  },
  {
   "cell_type": "code",
   "execution_count": 5,
   "id": "254fdc66",
   "metadata": {},
   "outputs": [],
   "source": [
    "directory_train = \"../chest_xray_norm/train\"\n",
    "x_train, y_train = get_data(directory_train)\n",
    "\n",
    "directory_val = \"../chest_xray_norm/val\"\n",
    "x_val, y_val = get_data(directory_val)"
   ]
  },
  {
   "cell_type": "code",
   "execution_count": 6,
   "id": "f2890f8c",
   "metadata": {},
   "outputs": [
    {
     "name": "stdout",
     "output_type": "stream",
     "text": [
      "Model: \"model\"\n",
      "_________________________________________________________________\n",
      "Layer (type)                 Output Shape              Param #   \n",
      "=================================================================\n",
      "input_1 (InputLayer)         [(None, 250, 350)]        0         \n",
      "_________________________________________________________________\n",
      "rescaling (Rescaling)        (None, 250, 350)          0         \n",
      "_________________________________________________________________\n",
      "gaussian_noise (GaussianNois (None, 250, 350)          0         \n",
      "_________________________________________________________________\n",
      "tf.clip_by_value (TFOpLambda (None, 250, 350)          0         \n",
      "_________________________________________________________________\n",
      "reshape (Reshape)            (None, 250, 350, 1)       0         \n",
      "_________________________________________________________________\n",
      "conv2d (Conv2D)              (None, 248, 348, 16)      160       \n",
      "_________________________________________________________________\n",
      "max_pooling2d (MaxPooling2D) (None, 124, 174, 16)      0         \n",
      "_________________________________________________________________\n",
      "conv2d_1 (Conv2D)            (None, 120, 170, 16)      6416      \n",
      "_________________________________________________________________\n",
      "max_pooling2d_1 (MaxPooling2 (None, 60, 85, 16)        0         \n",
      "_________________________________________________________________\n",
      "conv2d_2 (Conv2D)            (None, 56, 81, 32)        12832     \n",
      "_________________________________________________________________\n",
      "max_pooling2d_2 (MaxPooling2 (None, 7, 9, 32)          0         \n",
      "_________________________________________________________________\n",
      "dropout (Dropout)            (None, 7, 9, 32)          0         \n",
      "_________________________________________________________________\n",
      "flatten (Flatten)            (None, 2016)              0         \n",
      "_________________________________________________________________\n",
      "dense (Dense)                (None, 128)               258176    \n",
      "_________________________________________________________________\n",
      "dense_1 (Dense)              (None, 64)                8256      \n",
      "_________________________________________________________________\n",
      "dropout_1 (Dropout)          (None, 64)                0         \n",
      "_________________________________________________________________\n",
      "dense_2 (Dense)              (None, 1)                 65        \n",
      "=================================================================\n",
      "Total params: 285,905\n",
      "Trainable params: 285,905\n",
      "Non-trainable params: 0\n",
      "_________________________________________________________________\n"
     ]
    }
   ],
   "source": [
    "model = make_model_6(x_train[0].shape)\n",
    "model.summary()"
   ]
  },
  {
   "cell_type": "code",
   "execution_count": 9,
   "id": "97d67026",
   "metadata": {},
   "outputs": [],
   "source": [
    "import pickle\n",
    "from tensorflow.keras.callbacks import ModelCheckpoint"
   ]
  },
  {
   "cell_type": "code",
   "execution_count": 10,
   "id": "6255b066",
   "metadata": {},
   "outputs": [],
   "source": [
    "class MyModelCheckpoint(ModelCheckpoint):\n",
    "    def __init__(self, *args, **kwargs):\n",
    "        super().__init__(*args, **kwargs)\n",
    "\n",
    "    def on_epoch_end(self, epoch, logs=None):\n",
    "        super().on_epoch_end(epoch,logs)\\\n",
    "\n",
    "        # Also save the optimizer state\n",
    "        filepath = self._get_file_path(epoch=epoch, \n",
    "            logs=logs)\n",
    "        filepath = filepath.rsplit( \".\", 1 )[ 0 ] \n",
    "        filepath += \".pkl\"\n",
    "\n",
    "        with open(filepath, 'wb') as fp:\n",
    "              pickle.dump(\n",
    "                {\n",
    "                  'opt': model.optimizer.get_config(),\n",
    "                  'epoch': epoch+1\n",
    "                 # Add additional keys if you need to store more values\n",
    "                }, fp, protocol=pickle.HIGHEST_PROTOCOL)\n",
    "        print('\\nEpoch %05d: saving optimizaer to %s' % (epoch + 1, filepath))"
   ]
  },
  {
   "cell_type": "code",
   "execution_count": 11,
   "id": "f43e2d43",
   "metadata": {},
   "outputs": [],
   "source": [
    "save_dir = \"./checkpoints/stefan/model_6_checkpoints\""
   ]
  },
  {
   "cell_type": "code",
   "execution_count": 12,
   "id": "168f8cb3",
   "metadata": {},
   "outputs": [],
   "source": [
    "checkpoint_cb = MyModelCheckpoint(\n",
    "path.join(save_dir, 'model-{epoch:03d}-{val_loss:.5f}.hdf5'),\n",
    "monitor='val_loss',verbose=1)"
   ]
  },
  {
   "cell_type": "code",
   "execution_count": 13,
   "id": "8b682381",
   "metadata": {},
   "outputs": [
    {
     "name": "stderr",
     "output_type": "stream",
     "text": [
      "2022-05-27 10:48:29.943267: I tensorflow/compiler/mlir/mlir_graph_optimization_pass.cc:116] None of the MLIR optimization passes are enabled (registered 2)\n",
      "2022-05-27 10:48:29.963918: I tensorflow/core/platform/profile_utils/cpu_utils.cc:112] CPU Frequency: 2400000000 Hz\n"
     ]
    },
    {
     "name": "stdout",
     "output_type": "stream",
     "text": [
      "Epoch 1/70\n"
     ]
    },
    {
     "name": "stderr",
     "output_type": "stream",
     "text": [
      "2022-05-27 10:48:31.073045: I tensorflow/stream_executor/platform/default/dso_loader.cc:49] Successfully opened dynamic library libcublas.so.10\n",
      "2022-05-27 10:48:31.337391: I tensorflow/stream_executor/platform/default/dso_loader.cc:49] Successfully opened dynamic library libcudnn.so.7\n",
      "2022-05-27 10:48:32.235027: W tensorflow/stream_executor/gpu/asm_compiler.cc:63] Running ptxas --version returned 256\n",
      "2022-05-27 10:48:32.288658: W tensorflow/stream_executor/gpu/redzone_allocator.cc:314] Internal: ptxas exited with non-zero error code 256, output: \n",
      "Relying on driver to perform ptx compilation. \n",
      "Modify $PATH to customize ptxas location.\n",
      "This message will be only logged once.\n",
      "2022-05-27 10:48:33.259929: W tensorflow/core/common_runtime/bfc_allocator.cc:314] Garbage collection: deallocate free memory regions (i.e., allocations) so that we can re-allocate a larger region to avoid OOM due to memory fragmentation. If you see this message frequently, you are running near the threshold of the available device memory and re-allocation may incur great performance overhead. You may try smaller batch sizes to observe the performance impact. Set TF_ENABLE_GPU_GARBAGE_COLLECTION=false if you'd like to disable this feature.\n"
     ]
    },
    {
     "name": "stdout",
     "output_type": "stream",
     "text": [
      "163/163 [==============================] - 55s 290ms/step - loss: 0.3596 - accuracy: 0.8420 - precision: 0.8660 - recall: 0.9371 - val_loss: 0.5397 - val_accuracy: 0.5625 - val_precision: 0.5455 - val_recall: 0.7500\n",
      "\n",
      "Epoch 00001: saving model to ./checkpoints/stefan/model_6_checkpoints/model-001-0.53974.hdf5\n",
      "\n",
      "Epoch 00001: saving optimizaer to ./checkpoints/stefan/model_6_checkpoints/model-001-0.53974.pkl\n",
      "Epoch 2/70\n",
      "163/163 [==============================] - 43s 262ms/step - loss: 0.1244 - accuracy: 0.9560 - precision: 0.9717 - recall: 0.9696 - val_loss: 0.1722 - val_accuracy: 0.8750 - val_precision: 0.8750 - val_recall: 0.8750\n",
      "\n",
      "Epoch 00002: saving model to ./checkpoints/stefan/model_6_checkpoints/model-002-0.17223.hdf5\n",
      "\n",
      "Epoch 00002: saving optimizaer to ./checkpoints/stefan/model_6_checkpoints/model-002-0.17223.pkl\n",
      "Epoch 3/70\n",
      "163/163 [==============================] - 42s 260ms/step - loss: 0.1039 - accuracy: 0.9622 - precision: 0.9746 - recall: 0.9745 - val_loss: 0.2957 - val_accuracy: 0.8750 - val_precision: 0.8750 - val_recall: 0.8750\n",
      "\n",
      "Epoch 00003: saving model to ./checkpoints/stefan/model_6_checkpoints/model-003-0.29567.hdf5\n",
      "\n",
      "Epoch 00003: saving optimizaer to ./checkpoints/stefan/model_6_checkpoints/model-003-0.29567.pkl\n",
      "Epoch 4/70\n",
      "163/163 [==============================] - 42s 260ms/step - loss: 0.0875 - accuracy: 0.9654 - precision: 0.9774 - recall: 0.9764 - val_loss: 0.1288 - val_accuracy: 0.9375 - val_precision: 0.8889 - val_recall: 1.0000\n",
      "\n",
      "Epoch 00004: saving model to ./checkpoints/stefan/model_6_checkpoints/model-004-0.12884.hdf5\n",
      "\n",
      "Epoch 00004: saving optimizaer to ./checkpoints/stefan/model_6_checkpoints/model-004-0.12884.pkl\n",
      "Epoch 5/70\n",
      "163/163 [==============================] - 42s 259ms/step - loss: 0.0806 - accuracy: 0.9701 - precision: 0.9790 - recall: 0.9802 - val_loss: 0.6670 - val_accuracy: 0.6875 - val_precision: 0.6154 - val_recall: 1.0000\n",
      "\n",
      "Epoch 00005: saving model to ./checkpoints/stefan/model_6_checkpoints/model-005-0.66704.hdf5\n",
      "\n",
      "Epoch 00005: saving optimizaer to ./checkpoints/stefan/model_6_checkpoints/model-005-0.66704.pkl\n",
      "Epoch 6/70\n",
      "163/163 [==============================] - 42s 259ms/step - loss: 0.0760 - accuracy: 0.9673 - precision: 0.9785 - recall: 0.9770 - val_loss: 0.3156 - val_accuracy: 0.8125 - val_precision: 0.7273 - val_recall: 1.0000\n",
      "\n",
      "Epoch 00006: saving model to ./checkpoints/stefan/model_6_checkpoints/model-006-0.31556.hdf5\n",
      "\n",
      "Epoch 00006: saving optimizaer to ./checkpoints/stefan/model_6_checkpoints/model-006-0.31556.pkl\n",
      "Epoch 7/70\n",
      "163/163 [==============================] - 43s 263ms/step - loss: 0.0587 - accuracy: 0.9763 - precision: 0.9844 - recall: 0.9839 - val_loss: 0.5995 - val_accuracy: 0.6875 - val_precision: 0.6154 - val_recall: 1.0000\n",
      "\n",
      "Epoch 00007: saving model to ./checkpoints/stefan/model_6_checkpoints/model-007-0.59953.hdf5\n",
      "\n",
      "Epoch 00007: saving optimizaer to ./checkpoints/stefan/model_6_checkpoints/model-007-0.59953.pkl\n",
      "Epoch 8/70\n",
      "163/163 [==============================] - 40s 246ms/step - loss: 0.0604 - accuracy: 0.9768 - precision: 0.9849 - recall: 0.9837 - val_loss: 0.5959 - val_accuracy: 0.6250 - val_precision: 0.5714 - val_recall: 1.0000\n",
      "\n",
      "Epoch 00008: saving model to ./checkpoints/stefan/model_6_checkpoints/model-008-0.59589.hdf5\n",
      "\n",
      "Epoch 00008: saving optimizaer to ./checkpoints/stefan/model_6_checkpoints/model-008-0.59589.pkl\n",
      "Epoch 9/70\n",
      "163/163 [==============================] - 43s 262ms/step - loss: 0.0444 - accuracy: 0.9807 - precision: 0.9840 - recall: 0.9897 - val_loss: 0.3947 - val_accuracy: 0.9375 - val_precision: 0.8889 - val_recall: 1.0000\n",
      "\n",
      "Epoch 00009: saving model to ./checkpoints/stefan/model_6_checkpoints/model-009-0.39468.hdf5\n",
      "\n",
      "Epoch 00009: saving optimizaer to ./checkpoints/stefan/model_6_checkpoints/model-009-0.39468.pkl\n",
      "Epoch 10/70\n",
      "163/163 [==============================] - 42s 260ms/step - loss: 0.0477 - accuracy: 0.9832 - precision: 0.9861 - recall: 0.9914 - val_loss: 0.0547 - val_accuracy: 1.0000 - val_precision: 1.0000 - val_recall: 1.0000\n",
      "\n",
      "Epoch 00010: saving model to ./checkpoints/stefan/model_6_checkpoints/model-010-0.05466.hdf5\n",
      "\n",
      "Epoch 00010: saving optimizaer to ./checkpoints/stefan/model_6_checkpoints/model-010-0.05466.pkl\n",
      "Epoch 11/70\n",
      "163/163 [==============================] - 38s 232ms/step - loss: 0.0387 - accuracy: 0.9831 - precision: 0.9851 - recall: 0.9922 - val_loss: 0.4753 - val_accuracy: 0.7500 - val_precision: 0.6667 - val_recall: 1.0000\n",
      "\n",
      "Epoch 00011: saving model to ./checkpoints/stefan/model_6_checkpoints/model-011-0.47528.hdf5\n",
      "\n",
      "Epoch 00011: saving optimizaer to ./checkpoints/stefan/model_6_checkpoints/model-011-0.47528.pkl\n",
      "Epoch 12/70\n",
      "163/163 [==============================] - 37s 227ms/step - loss: 0.0375 - accuracy: 0.9884 - precision: 0.9905 - recall: 0.9941 - val_loss: 0.2658 - val_accuracy: 0.8750 - val_precision: 0.8000 - val_recall: 1.0000\n",
      "\n",
      "Epoch 00012: saving model to ./checkpoints/stefan/model_6_checkpoints/model-012-0.26579.hdf5\n",
      "\n",
      "Epoch 00012: saving optimizaer to ./checkpoints/stefan/model_6_checkpoints/model-012-0.26579.pkl\n",
      "Epoch 13/70\n",
      "163/163 [==============================] - 37s 229ms/step - loss: 0.0359 - accuracy: 0.9874 - precision: 0.9893 - recall: 0.9938 - val_loss: 0.0911 - val_accuracy: 1.0000 - val_precision: 1.0000 - val_recall: 1.0000\n",
      "\n",
      "Epoch 00013: saving model to ./checkpoints/stefan/model_6_checkpoints/model-013-0.09111.hdf5\n",
      "\n",
      "Epoch 00013: saving optimizaer to ./checkpoints/stefan/model_6_checkpoints/model-013-0.09111.pkl\n",
      "Epoch 14/70\n",
      "163/163 [==============================] - 38s 233ms/step - loss: 0.0212 - accuracy: 0.9922 - precision: 0.9951 - recall: 0.9943 - val_loss: 0.1267 - val_accuracy: 0.9375 - val_precision: 0.8889 - val_recall: 1.0000\n",
      "\n",
      "Epoch 00014: saving model to ./checkpoints/stefan/model_6_checkpoints/model-014-0.12667.hdf5\n",
      "\n",
      "Epoch 00014: saving optimizaer to ./checkpoints/stefan/model_6_checkpoints/model-014-0.12667.pkl\n",
      "Epoch 15/70\n",
      "163/163 [==============================] - 43s 263ms/step - loss: 0.0386 - accuracy: 0.9855 - precision: 0.9892 - recall: 0.9911 - val_loss: 0.6708 - val_accuracy: 0.6875 - val_precision: 0.6154 - val_recall: 1.0000\n",
      "\n",
      "Epoch 00015: saving model to ./checkpoints/stefan/model_6_checkpoints/model-015-0.67078.hdf5\n",
      "\n",
      "Epoch 00015: saving optimizaer to ./checkpoints/stefan/model_6_checkpoints/model-015-0.67078.pkl\n",
      "Epoch 16/70\n",
      "163/163 [==============================] - 43s 265ms/step - loss: 0.0279 - accuracy: 0.9896 - precision: 0.9938 - recall: 0.9922 - val_loss: 1.6348 - val_accuracy: 0.6250 - val_precision: 0.5714 - val_recall: 1.0000\n",
      "\n",
      "Epoch 00016: saving model to ./checkpoints/stefan/model_6_checkpoints/model-016-1.63479.hdf5\n",
      "\n",
      "Epoch 00016: saving optimizaer to ./checkpoints/stefan/model_6_checkpoints/model-016-1.63479.pkl\n",
      "Epoch 17/70\n",
      "163/163 [==============================] - 40s 243ms/step - loss: 0.0207 - accuracy: 0.9919 - precision: 0.9957 - recall: 0.9933 - val_loss: 0.0211 - val_accuracy: 1.0000 - val_precision: 1.0000 - val_recall: 1.0000\n",
      "\n",
      "Epoch 00017: saving model to ./checkpoints/stefan/model_6_checkpoints/model-017-0.02112.hdf5\n",
      "\n",
      "Epoch 00017: saving optimizaer to ./checkpoints/stefan/model_6_checkpoints/model-017-0.02112.pkl\n",
      "Epoch 18/70\n",
      "163/163 [==============================] - 45s 274ms/step - loss: 0.0317 - accuracy: 0.9877 - precision: 0.9921 - recall: 0.9912 - val_loss: 0.0557 - val_accuracy: 1.0000 - val_precision: 1.0000 - val_recall: 1.0000\n",
      "\n",
      "Epoch 00018: saving model to ./checkpoints/stefan/model_6_checkpoints/model-018-0.05571.hdf5\n",
      "\n",
      "Epoch 00018: saving optimizaer to ./checkpoints/stefan/model_6_checkpoints/model-018-0.05571.pkl\n",
      "Epoch 19/70\n",
      "163/163 [==============================] - 43s 267ms/step - loss: 0.0304 - accuracy: 0.9886 - precision: 0.9930 - recall: 0.9916 - val_loss: 0.2764 - val_accuracy: 0.8750 - val_precision: 0.8000 - val_recall: 1.0000\n",
      "\n",
      "Epoch 00019: saving model to ./checkpoints/stefan/model_6_checkpoints/model-019-0.27642.hdf5\n",
      "\n",
      "Epoch 00019: saving optimizaer to ./checkpoints/stefan/model_6_checkpoints/model-019-0.27642.pkl\n",
      "Epoch 20/70\n",
      "163/163 [==============================] - 42s 259ms/step - loss: 0.0248 - accuracy: 0.9920 - precision: 0.9959 - recall: 0.9933 - val_loss: 0.2490 - val_accuracy: 0.8750 - val_precision: 0.8000 - val_recall: 1.0000\n",
      "\n",
      "Epoch 00020: saving model to ./checkpoints/stefan/model_6_checkpoints/model-020-0.24905.hdf5\n",
      "\n",
      "Epoch 00020: saving optimizaer to ./checkpoints/stefan/model_6_checkpoints/model-020-0.24905.pkl\n",
      "Epoch 21/70\n"
     ]
    },
    {
     "name": "stdout",
     "output_type": "stream",
     "text": [
      "163/163 [==============================] - 44s 272ms/step - loss: 0.0362 - accuracy: 0.9882 - precision: 0.9943 - recall: 0.9898 - val_loss: 0.8506 - val_accuracy: 0.7500 - val_precision: 0.6667 - val_recall: 1.0000\n",
      "\n",
      "Epoch 00021: saving model to ./checkpoints/stefan/model_6_checkpoints/model-021-0.85063.hdf5\n",
      "\n",
      "Epoch 00021: saving optimizaer to ./checkpoints/stefan/model_6_checkpoints/model-021-0.85063.pkl\n",
      "Epoch 22/70\n",
      "163/163 [==============================] - 35s 214ms/step - loss: 0.0213 - accuracy: 0.9914 - precision: 0.9940 - recall: 0.9944 - val_loss: 0.2116 - val_accuracy: 0.9375 - val_precision: 0.8889 - val_recall: 1.0000\n",
      "\n",
      "Epoch 00022: saving model to ./checkpoints/stefan/model_6_checkpoints/model-022-0.21159.hdf5\n",
      "\n",
      "Epoch 00022: saving optimizaer to ./checkpoints/stefan/model_6_checkpoints/model-022-0.21159.pkl\n",
      "Epoch 23/70\n",
      "163/163 [==============================] - 33s 200ms/step - loss: 0.0187 - accuracy: 0.9960 - precision: 0.9975 - recall: 0.9971 - val_loss: 0.6219 - val_accuracy: 0.8125 - val_precision: 0.7273 - val_recall: 1.0000\n",
      "\n",
      "Epoch 00023: saving model to ./checkpoints/stefan/model_6_checkpoints/model-023-0.62185.hdf5\n",
      "\n",
      "Epoch 00023: saving optimizaer to ./checkpoints/stefan/model_6_checkpoints/model-023-0.62185.pkl\n",
      "Epoch 24/70\n",
      "163/163 [==============================] - 32s 196ms/step - loss: 0.0164 - accuracy: 0.9935 - precision: 0.9956 - recall: 0.9955 - val_loss: 1.0068 - val_accuracy: 0.7500 - val_precision: 0.6667 - val_recall: 1.0000\n",
      "\n",
      "Epoch 00024: saving model to ./checkpoints/stefan/model_6_checkpoints/model-024-1.00675.hdf5\n",
      "\n",
      "Epoch 00024: saving optimizaer to ./checkpoints/stefan/model_6_checkpoints/model-024-1.00675.pkl\n",
      "Epoch 25/70\n",
      "163/163 [==============================] - 31s 193ms/step - loss: 0.0174 - accuracy: 0.9944 - precision: 0.9959 - recall: 0.9965 - val_loss: 0.5677 - val_accuracy: 0.8125 - val_precision: 0.7273 - val_recall: 1.0000\n",
      "\n",
      "Epoch 00025: saving model to ./checkpoints/stefan/model_6_checkpoints/model-025-0.56767.hdf5\n",
      "\n",
      "Epoch 00025: saving optimizaer to ./checkpoints/stefan/model_6_checkpoints/model-025-0.56767.pkl\n",
      "Epoch 26/70\n",
      "163/163 [==============================] - 34s 207ms/step - loss: 0.0142 - accuracy: 0.9950 - precision: 0.9960 - recall: 0.9973 - val_loss: 0.7760 - val_accuracy: 0.7500 - val_precision: 0.6667 - val_recall: 1.0000\n",
      "\n",
      "Epoch 00026: saving model to ./checkpoints/stefan/model_6_checkpoints/model-026-0.77599.hdf5\n",
      "\n",
      "Epoch 00026: saving optimizaer to ./checkpoints/stefan/model_6_checkpoints/model-026-0.77599.pkl\n",
      "Epoch 27/70\n",
      "163/163 [==============================] - 31s 190ms/step - loss: 0.0227 - accuracy: 0.9912 - precision: 0.9938 - recall: 0.9943 - val_loss: 0.9409 - val_accuracy: 0.8750 - val_precision: 0.8000 - val_recall: 1.0000\n",
      "\n",
      "Epoch 00027: saving model to ./checkpoints/stefan/model_6_checkpoints/model-027-0.94090.hdf5\n",
      "\n",
      "Epoch 00027: saving optimizaer to ./checkpoints/stefan/model_6_checkpoints/model-027-0.94090.pkl\n",
      "Epoch 28/70\n",
      "163/163 [==============================] - 33s 200ms/step - loss: 0.0200 - accuracy: 0.9930 - precision: 0.9958 - recall: 0.9948 - val_loss: 0.1115 - val_accuracy: 0.9375 - val_precision: 0.8889 - val_recall: 1.0000\n",
      "\n",
      "Epoch 00028: saving model to ./checkpoints/stefan/model_6_checkpoints/model-028-0.11153.hdf5\n",
      "\n",
      "Epoch 00028: saving optimizaer to ./checkpoints/stefan/model_6_checkpoints/model-028-0.11153.pkl\n",
      "Epoch 29/70\n",
      "163/163 [==============================] - 31s 193ms/step - loss: 0.0095 - accuracy: 0.9970 - precision: 0.9976 - recall: 0.9984 - val_loss: 0.0887 - val_accuracy: 0.9375 - val_precision: 0.8889 - val_recall: 1.0000\n",
      "\n",
      "Epoch 00029: saving model to ./checkpoints/stefan/model_6_checkpoints/model-029-0.08869.hdf5\n",
      "\n",
      "Epoch 00029: saving optimizaer to ./checkpoints/stefan/model_6_checkpoints/model-029-0.08869.pkl\n",
      "Epoch 30/70\n",
      "163/163 [==============================] - 31s 193ms/step - loss: 0.0177 - accuracy: 0.9939 - precision: 0.9959 - recall: 0.9957 - val_loss: 0.9863 - val_accuracy: 0.8125 - val_precision: 0.7273 - val_recall: 1.0000\n",
      "\n",
      "Epoch 00030: saving model to ./checkpoints/stefan/model_6_checkpoints/model-030-0.98631.hdf5\n",
      "\n",
      "Epoch 00030: saving optimizaer to ./checkpoints/stefan/model_6_checkpoints/model-030-0.98631.pkl\n",
      "Epoch 31/70\n",
      "163/163 [==============================] - 31s 191ms/step - loss: 0.0182 - accuracy: 0.9934 - precision: 0.9950 - recall: 0.9961 - val_loss: 0.5298 - val_accuracy: 0.7500 - val_precision: 0.6667 - val_recall: 1.0000\n",
      "\n",
      "Epoch 00031: saving model to ./checkpoints/stefan/model_6_checkpoints/model-031-0.52978.hdf5\n",
      "\n",
      "Epoch 00031: saving optimizaer to ./checkpoints/stefan/model_6_checkpoints/model-031-0.52978.pkl\n",
      "Epoch 32/70\n",
      "163/163 [==============================] - 32s 198ms/step - loss: 0.0355 - accuracy: 0.9877 - precision: 0.9924 - recall: 0.9911 - val_loss: 0.4633 - val_accuracy: 0.8750 - val_precision: 0.8000 - val_recall: 1.0000\n",
      "\n",
      "Epoch 00032: saving model to ./checkpoints/stefan/model_6_checkpoints/model-032-0.46333.hdf5\n",
      "\n",
      "Epoch 00032: saving optimizaer to ./checkpoints/stefan/model_6_checkpoints/model-032-0.46333.pkl\n",
      "Epoch 33/70\n",
      "163/163 [==============================] - 33s 204ms/step - loss: 0.0082 - accuracy: 0.9974 - precision: 0.9977 - recall: 0.9987 - val_loss: 0.0094 - val_accuracy: 1.0000 - val_precision: 1.0000 - val_recall: 1.0000\n",
      "\n",
      "Epoch 00033: saving model to ./checkpoints/stefan/model_6_checkpoints/model-033-0.00936.hdf5\n",
      "\n",
      "Epoch 00033: saving optimizaer to ./checkpoints/stefan/model_6_checkpoints/model-033-0.00936.pkl\n",
      "Epoch 34/70\n",
      "163/163 [==============================] - 31s 192ms/step - loss: 0.0129 - accuracy: 0.9963 - precision: 0.9979 - recall: 0.9972 - val_loss: 0.0261 - val_accuracy: 1.0000 - val_precision: 1.0000 - val_recall: 1.0000\n",
      "\n",
      "Epoch 00034: saving model to ./checkpoints/stefan/model_6_checkpoints/model-034-0.02607.hdf5\n",
      "\n",
      "Epoch 00034: saving optimizaer to ./checkpoints/stefan/model_6_checkpoints/model-034-0.02607.pkl\n",
      "Epoch 35/70\n",
      "163/163 [==============================] - 32s 198ms/step - loss: 0.0263 - accuracy: 0.9939 - precision: 0.9964 - recall: 0.9956 - val_loss: 0.3961 - val_accuracy: 0.8125 - val_precision: 0.7273 - val_recall: 1.0000\n",
      "\n",
      "Epoch 00035: saving model to ./checkpoints/stefan/model_6_checkpoints/model-035-0.39609.hdf5\n",
      "\n",
      "Epoch 00035: saving optimizaer to ./checkpoints/stefan/model_6_checkpoints/model-035-0.39609.pkl\n",
      "Epoch 36/70\n",
      "163/163 [==============================] - 32s 197ms/step - loss: 0.0121 - accuracy: 0.9965 - precision: 0.9963 - recall: 0.9990 - val_loss: 0.0295 - val_accuracy: 1.0000 - val_precision: 1.0000 - val_recall: 1.0000\n",
      "\n",
      "Epoch 00036: saving model to ./checkpoints/stefan/model_6_checkpoints/model-036-0.02949.hdf5\n",
      "\n",
      "Epoch 00036: saving optimizaer to ./checkpoints/stefan/model_6_checkpoints/model-036-0.02949.pkl\n",
      "Epoch 37/70\n",
      "163/163 [==============================] - 33s 200ms/step - loss: 0.0083 - accuracy: 0.9974 - precision: 0.9981 - recall: 0.9984 - val_loss: 0.7331 - val_accuracy: 0.7500 - val_precision: 0.6667 - val_recall: 1.0000\n",
      "\n",
      "Epoch 00037: saving model to ./checkpoints/stefan/model_6_checkpoints/model-037-0.73314.hdf5\n",
      "\n",
      "Epoch 00037: saving optimizaer to ./checkpoints/stefan/model_6_checkpoints/model-037-0.73314.pkl\n",
      "Epoch 38/70\n",
      "163/163 [==============================] - 34s 207ms/step - loss: 0.0076 - accuracy: 0.9966 - precision: 0.9976 - recall: 0.9978 - val_loss: 0.0375 - val_accuracy: 1.0000 - val_precision: 1.0000 - val_recall: 1.0000\n",
      "\n",
      "Epoch 00038: saving model to ./checkpoints/stefan/model_6_checkpoints/model-038-0.03752.hdf5\n",
      "\n",
      "Epoch 00038: saving optimizaer to ./checkpoints/stefan/model_6_checkpoints/model-038-0.03752.pkl\n",
      "Epoch 39/70\n",
      "163/163 [==============================] - 33s 200ms/step - loss: 0.0111 - accuracy: 0.9953 - precision: 0.9971 - recall: 0.9967 - val_loss: 0.2599 - val_accuracy: 0.9375 - val_precision: 0.8889 - val_recall: 1.0000\n",
      "\n",
      "Epoch 00039: saving model to ./checkpoints/stefan/model_6_checkpoints/model-039-0.25994.hdf5\n",
      "\n",
      "Epoch 00039: saving optimizaer to ./checkpoints/stefan/model_6_checkpoints/model-039-0.25994.pkl\n",
      "Epoch 40/70\n",
      "163/163 [==============================] - 35s 216ms/step - loss: 0.0134 - accuracy: 0.9939 - precision: 0.9959 - recall: 0.9960 - val_loss: 0.0385 - val_accuracy: 1.0000 - val_precision: 1.0000 - val_recall: 1.0000\n"
     ]
    },
    {
     "name": "stdout",
     "output_type": "stream",
     "text": [
      "\n",
      "Epoch 00040: saving model to ./checkpoints/stefan/model_6_checkpoints/model-040-0.03851.hdf5\n",
      "\n",
      "Epoch 00040: saving optimizaer to ./checkpoints/stefan/model_6_checkpoints/model-040-0.03851.pkl\n",
      "Epoch 41/70\n",
      "163/163 [==============================] - 34s 207ms/step - loss: 0.0072 - accuracy: 0.9981 - precision: 0.9984 - recall: 0.9991 - val_loss: 0.3146 - val_accuracy: 0.8750 - val_precision: 0.8000 - val_recall: 1.0000\n",
      "\n",
      "Epoch 00041: saving model to ./checkpoints/stefan/model_6_checkpoints/model-041-0.31457.hdf5\n",
      "\n",
      "Epoch 00041: saving optimizaer to ./checkpoints/stefan/model_6_checkpoints/model-041-0.31457.pkl\n",
      "Epoch 42/70\n",
      "163/163 [==============================] - 32s 199ms/step - loss: 0.0077 - accuracy: 0.9974 - precision: 0.9987 - recall: 0.9978 - val_loss: 0.3128 - val_accuracy: 0.8750 - val_precision: 0.8000 - val_recall: 1.0000\n",
      "\n",
      "Epoch 00042: saving model to ./checkpoints/stefan/model_6_checkpoints/model-042-0.31278.hdf5\n",
      "\n",
      "Epoch 00042: saving optimizaer to ./checkpoints/stefan/model_6_checkpoints/model-042-0.31278.pkl\n",
      "Epoch 43/70\n",
      "163/163 [==============================] - 34s 209ms/step - loss: 0.0211 - accuracy: 0.9910 - precision: 0.9917 - recall: 0.9964 - val_loss: 0.4098 - val_accuracy: 0.8125 - val_precision: 0.7273 - val_recall: 1.0000\n",
      "\n",
      "Epoch 00043: saving model to ./checkpoints/stefan/model_6_checkpoints/model-043-0.40983.hdf5\n",
      "\n",
      "Epoch 00043: saving optimizaer to ./checkpoints/stefan/model_6_checkpoints/model-043-0.40983.pkl\n",
      "Epoch 44/70\n",
      "163/163 [==============================] - 32s 198ms/step - loss: 0.0061 - accuracy: 0.9986 - precision: 0.9996 - recall: 0.9985 - val_loss: 0.2956 - val_accuracy: 0.9375 - val_precision: 0.8889 - val_recall: 1.0000\n",
      "\n",
      "Epoch 00044: saving model to ./checkpoints/stefan/model_6_checkpoints/model-044-0.29560.hdf5\n",
      "\n",
      "Epoch 00044: saving optimizaer to ./checkpoints/stefan/model_6_checkpoints/model-044-0.29560.pkl\n",
      "Epoch 45/70\n",
      "163/163 [==============================] - 30s 187ms/step - loss: 0.0091 - accuracy: 0.9967 - precision: 0.9979 - recall: 0.9977 - val_loss: 0.0589 - val_accuracy: 0.9375 - val_precision: 0.8889 - val_recall: 1.0000\n",
      "\n",
      "Epoch 00045: saving model to ./checkpoints/stefan/model_6_checkpoints/model-045-0.05892.hdf5\n",
      "\n",
      "Epoch 00045: saving optimizaer to ./checkpoints/stefan/model_6_checkpoints/model-045-0.05892.pkl\n",
      "Epoch 46/70\n",
      "163/163 [==============================] - 33s 201ms/step - loss: 0.0104 - accuracy: 0.9967 - precision: 0.9977 - recall: 0.9979 - val_loss: 0.9534 - val_accuracy: 0.7500 - val_precision: 0.6667 - val_recall: 1.0000\n",
      "\n",
      "Epoch 00046: saving model to ./checkpoints/stefan/model_6_checkpoints/model-046-0.95345.hdf5\n",
      "\n",
      "Epoch 00046: saving optimizaer to ./checkpoints/stefan/model_6_checkpoints/model-046-0.95345.pkl\n",
      "Epoch 47/70\n",
      "163/163 [==============================] - 31s 192ms/step - loss: 0.0126 - accuracy: 0.9959 - precision: 0.9965 - recall: 0.9979 - val_loss: 0.1904 - val_accuracy: 0.8750 - val_precision: 0.8000 - val_recall: 1.0000\n",
      "\n",
      "Epoch 00047: saving model to ./checkpoints/stefan/model_6_checkpoints/model-047-0.19039.hdf5\n",
      "\n",
      "Epoch 00047: saving optimizaer to ./checkpoints/stefan/model_6_checkpoints/model-047-0.19039.pkl\n",
      "Epoch 48/70\n",
      "163/163 [==============================] - 32s 197ms/step - loss: 0.0059 - accuracy: 0.9981 - precision: 0.9993 - recall: 0.9982 - val_loss: 0.6954 - val_accuracy: 0.7500 - val_precision: 0.6667 - val_recall: 1.0000\n",
      "\n",
      "Epoch 00048: saving model to ./checkpoints/stefan/model_6_checkpoints/model-048-0.69542.hdf5\n",
      "\n",
      "Epoch 00048: saving optimizaer to ./checkpoints/stefan/model_6_checkpoints/model-048-0.69542.pkl\n",
      "Epoch 49/70\n",
      "163/163 [==============================] - 32s 194ms/step - loss: 0.0164 - accuracy: 0.9961 - precision: 0.9969 - recall: 0.9979 - val_loss: 0.1752 - val_accuracy: 0.9375 - val_precision: 0.8889 - val_recall: 1.0000\n",
      "\n",
      "Epoch 00049: saving model to ./checkpoints/stefan/model_6_checkpoints/model-049-0.17524.hdf5\n",
      "\n",
      "Epoch 00049: saving optimizaer to ./checkpoints/stefan/model_6_checkpoints/model-049-0.17524.pkl\n",
      "Epoch 50/70\n",
      "163/163 [==============================] - 31s 192ms/step - loss: 0.0120 - accuracy: 0.9967 - precision: 0.9986 - recall: 0.9971 - val_loss: 0.1044 - val_accuracy: 0.9375 - val_precision: 0.8889 - val_recall: 1.0000\n",
      "\n",
      "Epoch 00050: saving model to ./checkpoints/stefan/model_6_checkpoints/model-050-0.10439.hdf5\n",
      "\n",
      "Epoch 00050: saving optimizaer to ./checkpoints/stefan/model_6_checkpoints/model-050-0.10439.pkl\n",
      "Epoch 51/70\n",
      "163/163 [==============================] - 32s 196ms/step - loss: 0.0071 - accuracy: 0.9972 - precision: 0.9978 - recall: 0.9984 - val_loss: 1.0913 - val_accuracy: 0.7500 - val_precision: 0.6667 - val_recall: 1.0000\n",
      "\n",
      "Epoch 00051: saving model to ./checkpoints/stefan/model_6_checkpoints/model-051-1.09131.hdf5\n",
      "\n",
      "Epoch 00051: saving optimizaer to ./checkpoints/stefan/model_6_checkpoints/model-051-1.09131.pkl\n",
      "Epoch 52/70\n",
      "163/163 [==============================] - 30s 186ms/step - loss: 0.0062 - accuracy: 0.9965 - precision: 0.9981 - recall: 0.9972 - val_loss: 0.3434 - val_accuracy: 0.8750 - val_precision: 0.8000 - val_recall: 1.0000\n",
      "\n",
      "Epoch 00052: saving model to ./checkpoints/stefan/model_6_checkpoints/model-052-0.34344.hdf5\n",
      "\n",
      "Epoch 00052: saving optimizaer to ./checkpoints/stefan/model_6_checkpoints/model-052-0.34344.pkl\n",
      "Epoch 53/70\n",
      "163/163 [==============================] - 42s 259ms/step - loss: 0.0037 - accuracy: 0.9982 - precision: 0.9991 - recall: 0.9984 - val_loss: 0.5050 - val_accuracy: 0.8750 - val_precision: 0.8000 - val_recall: 1.0000\n",
      "\n",
      "Epoch 00053: saving model to ./checkpoints/stefan/model_6_checkpoints/model-053-0.50505.hdf5\n",
      "\n",
      "Epoch 00053: saving optimizaer to ./checkpoints/stefan/model_6_checkpoints/model-053-0.50505.pkl\n",
      "Epoch 54/70\n",
      "163/163 [==============================] - 41s 255ms/step - loss: 0.0084 - accuracy: 0.9959 - precision: 0.9981 - recall: 0.9965 - val_loss: 0.0857 - val_accuracy: 0.9375 - val_precision: 0.8889 - val_recall: 1.0000\n",
      "\n",
      "Epoch 00054: saving model to ./checkpoints/stefan/model_6_checkpoints/model-054-0.08565.hdf5\n",
      "\n",
      "Epoch 00054: saving optimizaer to ./checkpoints/stefan/model_6_checkpoints/model-054-0.08565.pkl\n",
      "Epoch 55/70\n",
      "163/163 [==============================] - 43s 264ms/step - loss: 0.0122 - accuracy: 0.9961 - precision: 0.9975 - recall: 0.9973 - val_loss: 0.0722 - val_accuracy: 1.0000 - val_precision: 1.0000 - val_recall: 1.0000\n",
      "\n",
      "Epoch 00055: saving model to ./checkpoints/stefan/model_6_checkpoints/model-055-0.07216.hdf5\n",
      "\n",
      "Epoch 00055: saving optimizaer to ./checkpoints/stefan/model_6_checkpoints/model-055-0.07216.pkl\n",
      "Epoch 56/70\n",
      "163/163 [==============================] - 40s 243ms/step - loss: 0.0069 - accuracy: 0.9977 - precision: 0.9979 - recall: 0.9989 - val_loss: 0.0974 - val_accuracy: 1.0000 - val_precision: 1.0000 - val_recall: 1.0000\n",
      "\n",
      "Epoch 00056: saving model to ./checkpoints/stefan/model_6_checkpoints/model-056-0.09737.hdf5\n",
      "\n",
      "Epoch 00056: saving optimizaer to ./checkpoints/stefan/model_6_checkpoints/model-056-0.09737.pkl\n",
      "Epoch 57/70\n",
      "163/163 [==============================] - 36s 223ms/step - loss: 0.0097 - accuracy: 0.9962 - precision: 0.9990 - recall: 0.9959 - val_loss: 0.1589 - val_accuracy: 0.9375 - val_precision: 0.8889 - val_recall: 1.0000\n",
      "\n",
      "Epoch 00057: saving model to ./checkpoints/stefan/model_6_checkpoints/model-057-0.15889.hdf5\n",
      "\n",
      "Epoch 00057: saving optimizaer to ./checkpoints/stefan/model_6_checkpoints/model-057-0.15889.pkl\n",
      "Epoch 58/70\n",
      "163/163 [==============================] - 36s 223ms/step - loss: 0.0062 - accuracy: 0.9979 - precision: 0.9986 - recall: 0.9985 - val_loss: 0.2145 - val_accuracy: 0.8750 - val_precision: 0.8000 - val_recall: 1.0000\n",
      "\n",
      "Epoch 00058: saving model to ./checkpoints/stefan/model_6_checkpoints/model-058-0.21448.hdf5\n",
      "\n",
      "Epoch 00058: saving optimizaer to ./checkpoints/stefan/model_6_checkpoints/model-058-0.21448.pkl\n",
      "Epoch 59/70\n",
      "163/163 [==============================] - 37s 228ms/step - loss: 0.0051 - accuracy: 0.9986 - precision: 0.9990 - recall: 0.9991 - val_loss: 0.5718 - val_accuracy: 0.8125 - val_precision: 0.7273 - val_recall: 1.0000\n",
      "\n",
      "Epoch 00059: saving model to ./checkpoints/stefan/model_6_checkpoints/model-059-0.57176.hdf5\n",
      "\n",
      "Epoch 00059: saving optimizaer to ./checkpoints/stefan/model_6_checkpoints/model-059-0.57176.pkl\n",
      "Epoch 60/70\n"
     ]
    },
    {
     "name": "stdout",
     "output_type": "stream",
     "text": [
      "163/163 [==============================] - 33s 205ms/step - loss: 0.0103 - accuracy: 0.9969 - precision: 0.9969 - recall: 0.9990 - val_loss: 0.1305 - val_accuracy: 0.9375 - val_precision: 0.8889 - val_recall: 1.0000\n",
      "\n",
      "Epoch 00060: saving model to ./checkpoints/stefan/model_6_checkpoints/model-060-0.13054.hdf5\n",
      "\n",
      "Epoch 00060: saving optimizaer to ./checkpoints/stefan/model_6_checkpoints/model-060-0.13054.pkl\n",
      "Epoch 61/70\n",
      "163/163 [==============================] - 33s 204ms/step - loss: 0.0060 - accuracy: 0.9983 - precision: 0.9987 - recall: 0.9990 - val_loss: 0.0211 - val_accuracy: 1.0000 - val_precision: 1.0000 - val_recall: 1.0000\n",
      "\n",
      "Epoch 00061: saving model to ./checkpoints/stefan/model_6_checkpoints/model-061-0.02111.hdf5\n",
      "\n",
      "Epoch 00061: saving optimizaer to ./checkpoints/stefan/model_6_checkpoints/model-061-0.02111.pkl\n",
      "Epoch 62/70\n",
      "163/163 [==============================] - 33s 200ms/step - loss: 0.0088 - accuracy: 0.9966 - precision: 0.9980 - recall: 0.9974 - val_loss: 0.1351 - val_accuracy: 0.9375 - val_precision: 0.8889 - val_recall: 1.0000\n",
      "\n",
      "Epoch 00062: saving model to ./checkpoints/stefan/model_6_checkpoints/model-062-0.13513.hdf5\n",
      "\n",
      "Epoch 00062: saving optimizaer to ./checkpoints/stefan/model_6_checkpoints/model-062-0.13513.pkl\n",
      "Epoch 63/70\n",
      "163/163 [==============================] - 33s 201ms/step - loss: 0.0074 - accuracy: 0.9976 - precision: 0.9989 - recall: 0.9978 - val_loss: 0.1065 - val_accuracy: 0.8750 - val_precision: 0.8000 - val_recall: 1.0000\n",
      "\n",
      "Epoch 00063: saving model to ./checkpoints/stefan/model_6_checkpoints/model-063-0.10648.hdf5\n",
      "\n",
      "Epoch 00063: saving optimizaer to ./checkpoints/stefan/model_6_checkpoints/model-063-0.10648.pkl\n",
      "Epoch 64/70\n",
      "163/163 [==============================] - 33s 205ms/step - loss: 0.0072 - accuracy: 0.9984 - precision: 0.9990 - recall: 0.9989 - val_loss: 0.0269 - val_accuracy: 1.0000 - val_precision: 1.0000 - val_recall: 1.0000\n",
      "\n",
      "Epoch 00064: saving model to ./checkpoints/stefan/model_6_checkpoints/model-064-0.02689.hdf5\n",
      "\n",
      "Epoch 00064: saving optimizaer to ./checkpoints/stefan/model_6_checkpoints/model-064-0.02689.pkl\n",
      "Epoch 65/70\n",
      "163/163 [==============================] - 33s 204ms/step - loss: 0.0141 - accuracy: 0.9959 - precision: 0.9974 - recall: 0.9971 - val_loss: 0.5870 - val_accuracy: 0.8125 - val_precision: 0.7273 - val_recall: 1.0000\n",
      "\n",
      "Epoch 00065: saving model to ./checkpoints/stefan/model_6_checkpoints/model-065-0.58695.hdf5\n",
      "\n",
      "Epoch 00065: saving optimizaer to ./checkpoints/stefan/model_6_checkpoints/model-065-0.58695.pkl\n",
      "Epoch 66/70\n",
      "163/163 [==============================] - 34s 212ms/step - loss: 0.0104 - accuracy: 0.9973 - precision: 0.9979 - recall: 0.9984 - val_loss: 0.1255 - val_accuracy: 0.9375 - val_precision: 0.8889 - val_recall: 1.0000\n",
      "\n",
      "Epoch 00066: saving model to ./checkpoints/stefan/model_6_checkpoints/model-066-0.12553.hdf5\n",
      "\n",
      "Epoch 00066: saving optimizaer to ./checkpoints/stefan/model_6_checkpoints/model-066-0.12553.pkl\n",
      "Epoch 67/70\n",
      "163/163 [==============================] - 35s 213ms/step - loss: 0.0080 - accuracy: 0.9968 - precision: 0.9970 - recall: 0.9987 - val_loss: 0.0431 - val_accuracy: 1.0000 - val_precision: 1.0000 - val_recall: 1.0000\n",
      "\n",
      "Epoch 00067: saving model to ./checkpoints/stefan/model_6_checkpoints/model-067-0.04314.hdf5\n",
      "\n",
      "Epoch 00067: saving optimizaer to ./checkpoints/stefan/model_6_checkpoints/model-067-0.04314.pkl\n",
      "Epoch 68/70\n",
      "163/163 [==============================] - 34s 208ms/step - loss: 0.0123 - accuracy: 0.9966 - precision: 0.9979 - recall: 0.9975 - val_loss: 0.0805 - val_accuracy: 0.9375 - val_precision: 0.8889 - val_recall: 1.0000\n",
      "\n",
      "Epoch 00068: saving model to ./checkpoints/stefan/model_6_checkpoints/model-068-0.08052.hdf5\n",
      "\n",
      "Epoch 00068: saving optimizaer to ./checkpoints/stefan/model_6_checkpoints/model-068-0.08052.pkl\n",
      "Epoch 69/70\n",
      "163/163 [==============================] - 34s 211ms/step - loss: 0.0032 - accuracy: 0.9989 - precision: 0.9992 - recall: 0.9994 - val_loss: 0.0144 - val_accuracy: 1.0000 - val_precision: 1.0000 - val_recall: 1.0000\n",
      "\n",
      "Epoch 00069: saving model to ./checkpoints/stefan/model_6_checkpoints/model-069-0.01439.hdf5\n",
      "\n",
      "Epoch 00069: saving optimizaer to ./checkpoints/stefan/model_6_checkpoints/model-069-0.01439.pkl\n",
      "Epoch 70/70\n",
      "163/163 [==============================] - 34s 208ms/step - loss: 0.0040 - accuracy: 0.9995 - precision: 0.9996 - recall: 0.9998 - val_loss: 0.2636 - val_accuracy: 0.8750 - val_precision: 0.8000 - val_recall: 1.0000\n",
      "\n",
      "Epoch 00070: saving model to ./checkpoints/stefan/model_6_checkpoints/model-070-0.26362.hdf5\n",
      "\n",
      "Epoch 00070: saving optimizaer to ./checkpoints/stefan/model_6_checkpoints/model-070-0.26362.pkl\n"
     ]
    }
   ],
   "source": [
    "history = model.fit(x_train, y_train, epochs=70, batch_size=0, verbose=1,\n",
    "                    shuffle=True, validation_data=(x_val,y_val),callbacks=[checkpoint_cb])"
   ]
  },
  {
   "cell_type": "code",
   "execution_count": 14,
   "id": "295db869",
   "metadata": {},
   "outputs": [
    {
     "data": {
      "text/plain": [
       "dict_keys(['loss', 'accuracy', 'precision', 'recall', 'val_loss', 'val_accuracy', 'val_precision', 'val_recall'])"
      ]
     },
     "execution_count": 14,
     "metadata": {},
     "output_type": "execute_result"
    }
   ],
   "source": [
    "history.history.keys()"
   ]
  },
  {
   "cell_type": "code",
   "execution_count": 15,
   "id": "865a1980",
   "metadata": {},
   "outputs": [],
   "source": [
    "import matplotlib.pyplot as plt"
   ]
  },
  {
   "cell_type": "code",
   "execution_count": 16,
   "id": "85bd4746",
   "metadata": {},
   "outputs": [
    {
     "data": {
      "image/png": "[encoded data removed]",
      "text/plain": [
       "<Figure size 720x720 with 4 Axes>"
      ]
     },
     "metadata": {
      "needs_background": "light"
     },
     "output_type": "display_data"
    }
   ],
   "source": [
    "plt.figure(figsize=(10, 10))\n",
    "\n",
    "plt.subplot(2, 2, 1)\n",
    "plt.title('Loss')\n",
    "plt.plot(history.epoch, history.history['loss'], label='training')\n",
    "plt.plot(history.epoch, history.history['val_loss'], label='validation')\n",
    "plt.legend(loc='best')\n",
    "\n",
    "plt.subplot(2, 2, 2)\n",
    "plt.title('Accuracy')\n",
    "plt.plot(history.epoch, history.history['accuracy'], label='training')\n",
    "plt.plot(history.epoch, history.history['val_accuracy'], label='validation')\n",
    "plt.legend(loc='best')\n",
    "\n",
    "plt.subplot(2, 2, 3)\n",
    "plt.title('Precision')\n",
    "plt.plot(history.epoch, history.history['precision'], label='training')\n",
    "plt.plot(history.epoch, history.history['val_precision'], label='validation')\n",
    "plt.legend(loc='best')\n",
    "\n",
    "plt.subplot(2, 2, 4)\n",
    "plt.title('Recall')\n",
    "plt.plot(history.epoch, history.history['recall'], label='training')\n",
    "plt.plot(history.epoch, history.history['val_recall'], label='validation')\n",
    "plt.legend(loc='best')\n",
    "\n",
    "plt.show()"
   ]
  },
  {
   "cell_type": "code",
   "execution_count": 17,
   "id": "223b0f6a",
   "metadata": {},
   "outputs": [],
   "source": [
    "model.save(\"./modeli/stefan/model_6_epoha_70.h5\")"
   ]
  },
  {
   "cell_type": "code",
   "execution_count": 18,
   "id": "93d8d894",
   "metadata": {},
   "outputs": [],
   "source": [
    "import json\n",
    "  \n",
    "# Serializing json \n",
    "json_history = json.dumps(history.history, indent = 4)\n",
    "  \n",
    "# Writing json\n",
    "with open(\"./modeli/stefan/model_6_epoha_70.json\", \"w\") as outfile:\n",
    "    outfile.write(json_history)"
   ]
  },
  {
   "cell_type": "code",
   "execution_count": null,
   "id": "442626c8",
   "metadata": {},
   "outputs": [],
   "source": [
    "# loadovanje modela\n",
    "from tensorflow.keras.models import load_model\n",
    "\n",
    "model2 = load_model('./modeli/stefan/model_5_epoha_70.h5')"
   ]
  },
  {
   "cell_type": "code",
   "execution_count": null,
   "id": "391a1ea7",
   "metadata": {},
   "outputs": [],
   "source": [
    "#loadovanje istorije\n",
    "\n",
    "with open('./modeli/stefan/model_5_epoha_70.json', 'r') as openfile:\n",
    "    # Reading from json file\n",
    "    history2 = json.load(openfile)\n"
   ]
  },
  {
   "cell_type": "code",
   "execution_count": null,
   "id": "b1545689",
   "metadata": {},
   "outputs": [],
   "source": [
    "len(history2['loss'])"
   ]
  },
  {
   "cell_type": "code",
   "execution_count": null,
   "id": "27a3168f",
   "metadata": {},
   "outputs": [],
   "source": [
    "#history.history.keys()"
   ]
  },
  {
   "cell_type": "code",
   "execution_count": null,
   "id": "0ae21919",
   "metadata": {},
   "outputs": [],
   "source": [
    "#len(history.history['loss'])"
   ]
  },
  {
   "cell_type": "code",
   "execution_count": 23,
   "id": "66c292f6",
   "metadata": {},
   "outputs": [],
   "source": [
    "directory_test = \"../chest_xray_norm/test\"\n",
    "x_test, y_test = get_data(directory_test)"
   ]
  },
  {
   "cell_type": "code",
   "execution_count": null,
   "id": "d111e359",
   "metadata": {},
   "outputs": [],
   "source": [
    "y_pred = model.predict(x_test)"
   ]
  },
  {
   "cell_type": "code",
   "execution_count": null,
   "id": "3ec99f2b",
   "metadata": {},
   "outputs": [],
   "source": [
    "#y_pred_round = np.round(y_pred)"
   ]
  },
  {
   "cell_type": "code",
   "execution_count": null,
   "id": "9aa7bdcb",
   "metadata": {},
   "outputs": [],
   "source": [
    "y_pred = y_pred>0.5"
   ]
  },
  {
   "cell_type": "code",
   "execution_count": null,
   "id": "cfbbe07e",
   "metadata": {},
   "outputs": [],
   "source": [
    "y_pred = y_pred.astype(int)"
   ]
  },
  {
   "cell_type": "code",
   "execution_count": null,
   "id": "fc535bb7",
   "metadata": {},
   "outputs": [],
   "source": [
    "#y_test"
   ]
  },
  {
   "cell_type": "code",
   "execution_count": null,
   "id": "4a6b9494",
   "metadata": {},
   "outputs": [],
   "source": [
    "#y_pred"
   ]
  },
  {
   "cell_type": "code",
   "execution_count": null,
   "id": "f0c32fd0",
   "metadata": {},
   "outputs": [],
   "source": [
    "y_pred = np.ravel(y_pred)"
   ]
  },
  {
   "cell_type": "code",
   "execution_count": null,
   "id": "ae64c6fe",
   "metadata": {},
   "outputs": [],
   "source": [
    "tacnost = [y_pred==y_test]"
   ]
  },
  {
   "cell_type": "code",
   "execution_count": null,
   "id": "6df91325",
   "metadata": {},
   "outputs": [],
   "source": [
    "#tacnost"
   ]
  },
  {
   "cell_type": "code",
   "execution_count": null,
   "id": "e1ef31a8",
   "metadata": {},
   "outputs": [],
   "source": [
    "tacnost = np.average(tacnost)"
   ]
  },
  {
   "cell_type": "code",
   "execution_count": null,
   "id": "368a729e",
   "metadata": {},
   "outputs": [],
   "source": [
    "tacnost"
   ]
  },
  {
   "cell_type": "code",
   "execution_count": 88,
   "id": "ede0fb2e",
   "metadata": {},
   "outputs": [],
   "source": [
    "best_model_checkpoint_path = \"./checkpoints/stefan/model_6_checkpoints/model-069-0.01439.hdf5\""
   ]
  },
  {
   "cell_type": "code",
   "execution_count": 89,
   "id": "81d73f7e",
   "metadata": {},
   "outputs": [],
   "source": [
    "import tensorflow as tf\n",
    "from tensorflow.keras.models import load_model\n",
    "import pickle"
   ]
  },
  {
   "cell_type": "code",
   "execution_count": 90,
   "id": "45e63701",
   "metadata": {},
   "outputs": [],
   "source": [
    "model_best = load_model(best_model_checkpoint_path)"
   ]
  },
  {
   "cell_type": "code",
   "execution_count": 91,
   "id": "766d505b",
   "metadata": {},
   "outputs": [],
   "source": [
    "y_pred_best_prob_test = model_best.predict(x_test)\n",
    "y_pred_best_prob_val = model_best.predict(x_val)\n",
    "\n",
    "y_pred_best_prob_test = np.ravel(y_pred_best_prob_test)\n",
    "y_pred_best_prob_val = np.ravel(y_pred_best_prob_val)"
   ]
  },
  {
   "cell_type": "code",
   "execution_count": 92,
   "id": "5458adce",
   "metadata": {},
   "outputs": [
    {
     "data": {
      "text/plain": [
       "array([1.6735685e-10, 1.6061451e-06, 8.0629197e-06, 6.0495699e-04,\n",
       "       3.5205599e-02, 5.2189022e-02, 5.9766956e-02, 7.4877888e-02,\n",
       "       9.9929547e-01, 9.9998331e-01, 1.0000000e+00], dtype=float32)"
      ]
     },
     "execution_count": 92,
     "metadata": {},
     "output_type": "execute_result"
    }
   ],
   "source": [
    "np.unique(np.sort(y_pred_best_prob_val))"
   ]
  },
  {
   "cell_type": "code",
   "execution_count": null,
   "id": "46358940",
   "metadata": {},
   "outputs": [],
   "source": []
  },
  {
   "cell_type": "code",
   "execution_count": 109,
   "id": "eed34a6f",
   "metadata": {},
   "outputs": [],
   "source": [
    "y_pred_best_class_test = y_pred_best_prob_test>0.999"
   ]
  },
  {
   "cell_type": "code",
   "execution_count": 110,
   "id": "2ad3e3f4",
   "metadata": {},
   "outputs": [],
   "source": [
    "y_pred_best_class_test = y_pred_best_class_test.astype(int)"
   ]
  },
  {
   "cell_type": "code",
   "execution_count": 111,
   "id": "8cd8bf4b",
   "metadata": {},
   "outputs": [],
   "source": [
    "tacnost = [y_pred_best_class_test==y_test]"
   ]
  },
  {
   "cell_type": "code",
   "execution_count": 112,
   "id": "1cd40e90",
   "metadata": {},
   "outputs": [],
   "source": [
    "tacnost = np.average(tacnost)"
   ]
  },
  {
   "cell_type": "code",
   "execution_count": 113,
   "id": "f3551e62",
   "metadata": {},
   "outputs": [
    {
     "data": {
      "text/plain": [
       "0.8509615384615384"
      ]
     },
     "execution_count": 113,
     "metadata": {},
     "output_type": "execute_result"
    }
   ],
   "source": [
    "tacnost"
   ]
  },
  {
   "cell_type": "code",
   "execution_count": 53,
   "id": "e084dc11",
   "metadata": {},
   "outputs": [],
   "source": [
    "from sklearn.metrics import f1_score"
   ]
  },
  {
   "cell_type": "code",
   "execution_count": 55,
   "id": "cbf6182b",
   "metadata": {},
   "outputs": [
    {
     "data": {
      "text/plain": [
       "0.8511576626240354"
      ]
     },
     "execution_count": 55,
     "metadata": {},
     "output_type": "execute_result"
    }
   ],
   "source": [
    "f1_score(y_test, y_pred_best_prob_test)"
   ]
  },
  {
   "cell_type": "code",
   "execution_count": null,
   "id": "6a707651",
   "metadata": {},
   "outputs": [],
   "source": []
  }
 ],
 "metadata": {
  "kernelspec": {
   "display_name": "Python 3 (ipykernel)",
   "language": "python",
   "name": "python3"
  },
  "language_info": {
   "codemirror_mode": {
    "name": "ipython",
    "version": 3
   },
   "file_extension": ".py",
   "mimetype": "text/x-python",
   "name": "python",
   "nbconvert_exporter": "python",
   "pygments_lexer": "ipython3",
   "version": "3.9.12"
  }
 },
 "nbformat": 4,
 "nbformat_minor": 5
}

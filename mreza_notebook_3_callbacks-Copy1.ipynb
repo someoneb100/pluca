{
 "cells": [
  {
   "cell_type": "code",
   "execution_count": null,
   "id": "f916cc64",
   "metadata": {},
   "outputs": [],
   "source": [
    "from os import path, listdir\n",
    "from PIL import Image\n",
    "import numpy as np"
   ]
  },
  {
   "cell_type": "code",
   "execution_count": null,
   "id": "977405cd",
   "metadata": {},
   "outputs": [],
   "source": [
    "import tensorflow as tf\n",
    "gpus = tf.config.experimental.list_physical_devices('GPU')\n",
    "if gpus:\n",
    "    try:\n",
    "        # Currently, memory growth needs to be the same across GPUs\n",
    "        for gpu in gpus:\n",
    "            tf.config.experimental.set_memory_growth(gpu, True)\n",
    "        logical_gpus = tf.config.experimental.list_logical_devices('GPU')\n",
    "        print(len(gpus), \"Physical GPUs,\", len(logical_gpus), \"Logical GPUs\")\n",
    "    except RuntimeError as e:\n",
    "        # Memory growth must be set before GPUs have been initialized\n",
    "        print(e)"
   ]
  },
  {
   "cell_type": "code",
   "execution_count": 3,
   "id": "07cb28a7",
   "metadata": {},
   "outputs": [],
   "source": [
    "def get_data(directory: str) -> \"tuple[np.ndarray, np.ndarray]\":\n",
    "    ima = listdir(path.join(directory, \"PNEUMONIA\"))\n",
    "    nema = listdir(path.join(directory, \"NORMAL\"))\n",
    "    size = len(ima) + len(nema)\n",
    "    X = np.empty((size, 250, 350), dtype=np.uint8)\n",
    "    y = np.empty((size), dtype=np.uint8)\n",
    "    for i, file in enumerate(ima):\n",
    "        X[i] = np.asarray(Image.open(path.join(directory, \"PNEUMONIA\", file)))\n",
    "        y[i] = 1\n",
    "    for i, file in enumerate(nema):\n",
    "        X[len(ima) + i] = np.asarray(Image.open(path.join(directory, \"NORMAL\", file)))\n",
    "        y[len(ima) + i] = 0\n",
    "    return X , y"
   ]
  },
  {
   "cell_type": "code",
   "execution_count": 4,
   "id": "e9876ef7",
   "metadata": {},
   "outputs": [],
   "source": [
    "from modeli_stefan import make_model_3"
   ]
  },
  {
   "cell_type": "code",
   "execution_count": 5,
   "id": "254fdc66",
   "metadata": {},
   "outputs": [
    {
     "name": "stderr",
     "output_type": "stream",
     "text": [
      "2022-05-25 15:02:32.479223: I tensorflow/stream_executor/cuda/cuda_gpu_executor.cc:941] successful NUMA node read from SysFS had negative value (-1), but there must be at least one NUMA node, so returning NUMA node zero\n",
      "2022-05-25 15:02:32.479401: I tensorflow/core/common_runtime/gpu/gpu_device.cc:1720] Found device 0 with properties: \n",
      "pciBusID: 0000:01:00.0 name: NVIDIA GeForce GTX 1050 computeCapability: 6.1\n",
      "coreClock: 1.442GHz coreCount: 6 deviceMemorySize: 2.95GiB deviceMemoryBandwidth: 78.32GiB/s\n",
      "2022-05-25 15:02:32.479436: I tensorflow/stream_executor/platform/default/dso_loader.cc:49] Successfully opened dynamic library libcudart.so.10.1\n",
      "2022-05-25 15:02:32.479461: I tensorflow/stream_executor/platform/default/dso_loader.cc:49] Successfully opened dynamic library libcublas.so.10\n",
      "2022-05-25 15:02:32.479476: I tensorflow/stream_executor/platform/default/dso_loader.cc:49] Successfully opened dynamic library libcublasLt.so.10\n",
      "2022-05-25 15:02:32.479490: I tensorflow/stream_executor/platform/default/dso_loader.cc:49] Successfully opened dynamic library libcufft.so.10\n",
      "2022-05-25 15:02:32.479504: I tensorflow/stream_executor/platform/default/dso_loader.cc:49] Successfully opened dynamic library libcurand.so.10\n",
      "2022-05-25 15:02:32.479518: I tensorflow/stream_executor/platform/default/dso_loader.cc:49] Successfully opened dynamic library libcusolver.so.10\n",
      "2022-05-25 15:02:32.479532: I tensorflow/stream_executor/platform/default/dso_loader.cc:49] Successfully opened dynamic library libcusparse.so.10\n",
      "2022-05-25 15:02:32.479546: I tensorflow/stream_executor/platform/default/dso_loader.cc:49] Successfully opened dynamic library libcudnn.so.7\n",
      "2022-05-25 15:02:32.479635: I tensorflow/stream_executor/cuda/cuda_gpu_executor.cc:941] successful NUMA node read from SysFS had negative value (-1), but there must be at least one NUMA node, so returning NUMA node zero\n",
      "2022-05-25 15:02:32.479831: I tensorflow/stream_executor/cuda/cuda_gpu_executor.cc:941] successful NUMA node read from SysFS had negative value (-1), but there must be at least one NUMA node, so returning NUMA node zero\n",
      "2022-05-25 15:02:32.479937: I tensorflow/core/common_runtime/gpu/gpu_device.cc:1862] Adding visible gpu devices: 0\n"
     ]
    },
    {
     "ename": "InternalError",
     "evalue": "CUDA runtime implicit initialization on GPU:0 failed. Status: out of memory",
     "output_type": "error",
     "traceback": [
      "\u001b[0;31m---------------------------------------------------------------------------\u001b[0m",
      "\u001b[0;31mInternalError\u001b[0m                             Traceback (most recent call last)",
      "Input \u001b[0;32mIn [5]\u001b[0m, in \u001b[0;36m<cell line: 7>\u001b[0;34m()\u001b[0m\n\u001b[1;32m      4\u001b[0m directory_val \u001b[38;5;241m=\u001b[39m \u001b[38;5;124m\"\u001b[39m\u001b[38;5;124m../chest_xray_norm/val\u001b[39m\u001b[38;5;124m\"\u001b[39m\n\u001b[1;32m      5\u001b[0m x_val, y_val \u001b[38;5;241m=\u001b[39m get_data(directory_val)\n\u001b[0;32m----> 7\u001b[0m model \u001b[38;5;241m=\u001b[39m \u001b[43mmake_model_3\u001b[49m\u001b[43m(\u001b[49m\u001b[43mx_train\u001b[49m\u001b[43m[\u001b[49m\u001b[38;5;241;43m0\u001b[39;49m\u001b[43m]\u001b[49m\u001b[38;5;241;43m.\u001b[39;49m\u001b[43mshape\u001b[49m\u001b[43m)\u001b[49m\n\u001b[1;32m      8\u001b[0m model\u001b[38;5;241m.\u001b[39msummary()\n",
      "File \u001b[0;32m~/Desktop/pluca/pluca/modeli_stefan.py:68\u001b[0m, in \u001b[0;36mmake_model_3\u001b[0;34m(input_shape)\u001b[0m\n\u001b[1;32m     66\u001b[0m rs \u001b[38;5;241m=\u001b[39m Rescaling(scale\u001b[38;5;241m=\u001b[39m\u001b[38;5;241m1\u001b[39m\u001b[38;5;241m/\u001b[39m\u001b[38;5;241m255.0\u001b[39m)(input_layer)\n\u001b[1;32m     67\u001b[0m gauss \u001b[38;5;241m=\u001b[39m GaussianNoise(\u001b[38;5;241m3\u001b[39m\u001b[38;5;241m/\u001b[39m\u001b[38;5;241m255.0\u001b[39m)(rs)\n\u001b[0;32m---> 68\u001b[0m clip_input \u001b[38;5;241m=\u001b[39m \u001b[43mclip_by_value\u001b[49m\u001b[43m(\u001b[49m\u001b[43mgauss\u001b[49m\u001b[43m,\u001b[49m\u001b[43m \u001b[49m\u001b[38;5;241;43m0\u001b[39;49m\u001b[43m,\u001b[49m\u001b[43m \u001b[49m\u001b[38;5;241;43m1\u001b[39;49m\u001b[43m)\u001b[49m\n\u001b[1;32m     69\u001b[0m reshape_input \u001b[38;5;241m=\u001b[39m Reshape((input_shape[\u001b[38;5;241m0\u001b[39m], input_shape[\u001b[38;5;241m1\u001b[39m], \u001b[38;5;241m1\u001b[39m))(clip_input)\n\u001b[1;32m     71\u001b[0m c1 \u001b[38;5;241m=\u001b[39m Conv2D(\u001b[38;5;241m8\u001b[39m, (\u001b[38;5;241m3\u001b[39m,\u001b[38;5;241m3\u001b[39m), activation\u001b[38;5;241m=\u001b[39m\u001b[38;5;124m\"\u001b[39m\u001b[38;5;124mrelu\u001b[39m\u001b[38;5;124m\"\u001b[39m)(reshape_input)\n",
      "File \u001b[0;32m~/miniconda3/envs/pluca/lib/python3.9/site-packages/tensorflow/python/util/dispatch.py:201\u001b[0m, in \u001b[0;36madd_dispatch_support.<locals>.wrapper\u001b[0;34m(*args, **kwargs)\u001b[0m\n\u001b[1;32m    199\u001b[0m \u001b[38;5;124;03m\"\"\"Call target, and fall back on dispatchers if there is a TypeError.\"\"\"\u001b[39;00m\n\u001b[1;32m    200\u001b[0m \u001b[38;5;28;01mtry\u001b[39;00m:\n\u001b[0;32m--> 201\u001b[0m   \u001b[38;5;28;01mreturn\u001b[39;00m \u001b[43mtarget\u001b[49m\u001b[43m(\u001b[49m\u001b[38;5;241;43m*\u001b[39;49m\u001b[43margs\u001b[49m\u001b[43m,\u001b[49m\u001b[43m \u001b[49m\u001b[38;5;241;43m*\u001b[39;49m\u001b[38;5;241;43m*\u001b[39;49m\u001b[43mkwargs\u001b[49m\u001b[43m)\u001b[49m\n\u001b[1;32m    202\u001b[0m \u001b[38;5;28;01mexcept\u001b[39;00m (\u001b[38;5;167;01mTypeError\u001b[39;00m, \u001b[38;5;167;01mValueError\u001b[39;00m):\n\u001b[1;32m    203\u001b[0m   \u001b[38;5;66;03m# Note: convert_to_eager_tensor currently raises a ValueError, not a\u001b[39;00m\n\u001b[1;32m    204\u001b[0m   \u001b[38;5;66;03m# TypeError, when given unexpected types.  So we need to catch both.\u001b[39;00m\n\u001b[1;32m    205\u001b[0m   result \u001b[38;5;241m=\u001b[39m dispatch(wrapper, args, kwargs)\n",
      "File \u001b[0;32m~/miniconda3/envs/pluca/lib/python3.9/site-packages/tensorflow/python/ops/clip_ops.py:107\u001b[0m, in \u001b[0;36mclip_by_value\u001b[0;34m(t, clip_value_min, clip_value_max, name)\u001b[0m\n\u001b[1;32m     40\u001b[0m \u001b[38;5;124;03m\"\"\"Clips tensor values to a specified min and max.\u001b[39;00m\n\u001b[1;32m     41\u001b[0m \n\u001b[1;32m     42\u001b[0m \u001b[38;5;124;03mGiven a tensor `t`, this operation returns a tensor of the same type and\u001b[39;00m\n\u001b[0;32m   (...)\u001b[0m\n\u001b[1;32m    103\u001b[0m \u001b[38;5;124;03m    the `clip_value_min` or `clip_value_max` is `float32`\u001b[39;00m\n\u001b[1;32m    104\u001b[0m \u001b[38;5;124;03m\"\"\"\u001b[39;00m\n\u001b[1;32m    105\u001b[0m \u001b[38;5;28;01mwith\u001b[39;00m ops\u001b[38;5;241m.\u001b[39mname_scope(name, \u001b[38;5;124m\"\u001b[39m\u001b[38;5;124mclip_by_value\u001b[39m\u001b[38;5;124m\"\u001b[39m,\n\u001b[1;32m    106\u001b[0m                     [t, clip_value_min, clip_value_max]) \u001b[38;5;28;01mas\u001b[39;00m name:\n\u001b[0;32m--> 107\u001b[0m   values \u001b[38;5;241m=\u001b[39m \u001b[43mops\u001b[49m\u001b[38;5;241;43m.\u001b[39;49m\u001b[43mconvert_to_tensor\u001b[49m\u001b[43m(\u001b[49m\n\u001b[1;32m    108\u001b[0m \u001b[43m      \u001b[49m\u001b[43mt\u001b[49m\u001b[38;5;241;43m.\u001b[39;49m\u001b[43mvalues\u001b[49m\u001b[43m \u001b[49m\u001b[38;5;28;43;01mif\u001b[39;49;00m\u001b[43m \u001b[49m\u001b[38;5;28;43misinstance\u001b[39;49m\u001b[43m(\u001b[49m\u001b[43mt\u001b[49m\u001b[43m,\u001b[49m\u001b[43m \u001b[49m\u001b[43mops\u001b[49m\u001b[38;5;241;43m.\u001b[39;49m\u001b[43mIndexedSlices\u001b[49m\u001b[43m)\u001b[49m\u001b[43m \u001b[49m\u001b[38;5;28;43;01melse\u001b[39;49;00m\u001b[43m \u001b[49m\u001b[43mt\u001b[49m\u001b[43m,\u001b[49m\u001b[43m \u001b[49m\u001b[43mname\u001b[49m\u001b[38;5;241;43m=\u001b[39;49m\u001b[38;5;124;43m\"\u001b[39;49m\u001b[38;5;124;43mt\u001b[39;49m\u001b[38;5;124;43m\"\u001b[39;49m\u001b[43m)\u001b[49m\n\u001b[1;32m    110\u001b[0m   \u001b[38;5;66;03m# Go through list of tensors, for each value in each tensor clip\u001b[39;00m\n\u001b[1;32m    111\u001b[0m   t_min \u001b[38;5;241m=\u001b[39m math_ops\u001b[38;5;241m.\u001b[39mminimum(values, clip_value_max)\n",
      "File \u001b[0;32m~/miniconda3/envs/pluca/lib/python3.9/site-packages/tensorflow/python/profiler/trace.py:163\u001b[0m, in \u001b[0;36mtrace_wrapper.<locals>.inner_wrapper.<locals>.wrapped\u001b[0;34m(*args, **kwargs)\u001b[0m\n\u001b[1;32m    161\u001b[0m   \u001b[38;5;28;01mwith\u001b[39;00m Trace(trace_name, \u001b[38;5;241m*\u001b[39m\u001b[38;5;241m*\u001b[39mtrace_kwargs):\n\u001b[1;32m    162\u001b[0m     \u001b[38;5;28;01mreturn\u001b[39;00m func(\u001b[38;5;241m*\u001b[39margs, \u001b[38;5;241m*\u001b[39m\u001b[38;5;241m*\u001b[39mkwargs)\n\u001b[0;32m--> 163\u001b[0m \u001b[38;5;28;01mreturn\u001b[39;00m \u001b[43mfunc\u001b[49m\u001b[43m(\u001b[49m\u001b[38;5;241;43m*\u001b[39;49m\u001b[43margs\u001b[49m\u001b[43m,\u001b[49m\u001b[43m \u001b[49m\u001b[38;5;241;43m*\u001b[39;49m\u001b[38;5;241;43m*\u001b[39;49m\u001b[43mkwargs\u001b[49m\u001b[43m)\u001b[49m\n",
      "File \u001b[0;32m~/miniconda3/envs/pluca/lib/python3.9/site-packages/tensorflow/python/framework/ops.py:1540\u001b[0m, in \u001b[0;36mconvert_to_tensor\u001b[0;34m(value, dtype, name, as_ref, preferred_dtype, dtype_hint, ctx, accepted_result_types)\u001b[0m\n\u001b[1;32m   1535\u001b[0m       \u001b[38;5;28;01mraise\u001b[39;00m \u001b[38;5;167;01mTypeError\u001b[39;00m(\u001b[38;5;124m\"\u001b[39m\u001b[38;5;124mconvert_to_tensor did not convert to \u001b[39m\u001b[38;5;124m\"\u001b[39m\n\u001b[1;32m   1536\u001b[0m                       \u001b[38;5;124m\"\u001b[39m\u001b[38;5;124mthe preferred dtype: \u001b[39m\u001b[38;5;132;01m%s\u001b[39;00m\u001b[38;5;124m vs \u001b[39m\u001b[38;5;132;01m%s\u001b[39;00m\u001b[38;5;124m \u001b[39m\u001b[38;5;124m\"\u001b[39m \u001b[38;5;241m%\u001b[39m\n\u001b[1;32m   1537\u001b[0m                       (ret\u001b[38;5;241m.\u001b[39mdtype\u001b[38;5;241m.\u001b[39mbase_dtype, preferred_dtype\u001b[38;5;241m.\u001b[39mbase_dtype))\n\u001b[1;32m   1539\u001b[0m \u001b[38;5;28;01mif\u001b[39;00m ret \u001b[38;5;129;01mis\u001b[39;00m \u001b[38;5;28;01mNone\u001b[39;00m:\n\u001b[0;32m-> 1540\u001b[0m   ret \u001b[38;5;241m=\u001b[39m \u001b[43mconversion_func\u001b[49m\u001b[43m(\u001b[49m\u001b[43mvalue\u001b[49m\u001b[43m,\u001b[49m\u001b[43m \u001b[49m\u001b[43mdtype\u001b[49m\u001b[38;5;241;43m=\u001b[39;49m\u001b[43mdtype\u001b[49m\u001b[43m,\u001b[49m\u001b[43m \u001b[49m\u001b[43mname\u001b[49m\u001b[38;5;241;43m=\u001b[39;49m\u001b[43mname\u001b[49m\u001b[43m,\u001b[49m\u001b[43m \u001b[49m\u001b[43mas_ref\u001b[49m\u001b[38;5;241;43m=\u001b[39;49m\u001b[43mas_ref\u001b[49m\u001b[43m)\u001b[49m\n\u001b[1;32m   1542\u001b[0m \u001b[38;5;28;01mif\u001b[39;00m ret \u001b[38;5;129;01mis\u001b[39;00m \u001b[38;5;28mNotImplemented\u001b[39m:\n\u001b[1;32m   1543\u001b[0m   \u001b[38;5;28;01mcontinue\u001b[39;00m\n",
      "File \u001b[0;32m~/miniconda3/envs/pluca/lib/python3.9/site-packages/tensorflow/python/framework/constant_op.py:339\u001b[0m, in \u001b[0;36m_constant_tensor_conversion_function\u001b[0;34m(v, dtype, name, as_ref)\u001b[0m\n\u001b[1;32m    336\u001b[0m \u001b[38;5;28;01mdef\u001b[39;00m \u001b[38;5;21m_constant_tensor_conversion_function\u001b[39m(v, dtype\u001b[38;5;241m=\u001b[39m\u001b[38;5;28;01mNone\u001b[39;00m, name\u001b[38;5;241m=\u001b[39m\u001b[38;5;28;01mNone\u001b[39;00m,\n\u001b[1;32m    337\u001b[0m                                          as_ref\u001b[38;5;241m=\u001b[39m\u001b[38;5;28;01mFalse\u001b[39;00m):\n\u001b[1;32m    338\u001b[0m   _ \u001b[38;5;241m=\u001b[39m as_ref\n\u001b[0;32m--> 339\u001b[0m   \u001b[38;5;28;01mreturn\u001b[39;00m \u001b[43mconstant\u001b[49m\u001b[43m(\u001b[49m\u001b[43mv\u001b[49m\u001b[43m,\u001b[49m\u001b[43m \u001b[49m\u001b[43mdtype\u001b[49m\u001b[38;5;241;43m=\u001b[39;49m\u001b[43mdtype\u001b[49m\u001b[43m,\u001b[49m\u001b[43m \u001b[49m\u001b[43mname\u001b[49m\u001b[38;5;241;43m=\u001b[39;49m\u001b[43mname\u001b[49m\u001b[43m)\u001b[49m\n",
      "File \u001b[0;32m~/miniconda3/envs/pluca/lib/python3.9/site-packages/tensorflow/python/framework/constant_op.py:264\u001b[0m, in \u001b[0;36mconstant\u001b[0;34m(value, dtype, shape, name)\u001b[0m\n\u001b[1;32m    166\u001b[0m \u001b[38;5;129m@tf_export\u001b[39m(\u001b[38;5;124m\"\u001b[39m\u001b[38;5;124mconstant\u001b[39m\u001b[38;5;124m\"\u001b[39m, v1\u001b[38;5;241m=\u001b[39m[])\n\u001b[1;32m    167\u001b[0m \u001b[38;5;28;01mdef\u001b[39;00m \u001b[38;5;21mconstant\u001b[39m(value, dtype\u001b[38;5;241m=\u001b[39m\u001b[38;5;28;01mNone\u001b[39;00m, shape\u001b[38;5;241m=\u001b[39m\u001b[38;5;28;01mNone\u001b[39;00m, name\u001b[38;5;241m=\u001b[39m\u001b[38;5;124m\"\u001b[39m\u001b[38;5;124mConst\u001b[39m\u001b[38;5;124m\"\u001b[39m):\n\u001b[1;32m    168\u001b[0m   \u001b[38;5;124;03m\"\"\"Creates a constant tensor from a tensor-like object.\u001b[39;00m\n\u001b[1;32m    169\u001b[0m \n\u001b[1;32m    170\u001b[0m \u001b[38;5;124;03m  Note: All eager `tf.Tensor` values are immutable (in contrast to\u001b[39;00m\n\u001b[0;32m   (...)\u001b[0m\n\u001b[1;32m    262\u001b[0m \u001b[38;5;124;03m    ValueError: if called on a symbolic tensor.\u001b[39;00m\n\u001b[1;32m    263\u001b[0m \u001b[38;5;124;03m  \"\"\"\u001b[39;00m\n\u001b[0;32m--> 264\u001b[0m   \u001b[38;5;28;01mreturn\u001b[39;00m \u001b[43m_constant_impl\u001b[49m\u001b[43m(\u001b[49m\u001b[43mvalue\u001b[49m\u001b[43m,\u001b[49m\u001b[43m \u001b[49m\u001b[43mdtype\u001b[49m\u001b[43m,\u001b[49m\u001b[43m \u001b[49m\u001b[43mshape\u001b[49m\u001b[43m,\u001b[49m\u001b[43m \u001b[49m\u001b[43mname\u001b[49m\u001b[43m,\u001b[49m\u001b[43m \u001b[49m\u001b[43mverify_shape\u001b[49m\u001b[38;5;241;43m=\u001b[39;49m\u001b[38;5;28;43;01mFalse\u001b[39;49;00m\u001b[43m,\u001b[49m\n\u001b[1;32m    265\u001b[0m \u001b[43m                        \u001b[49m\u001b[43mallow_broadcast\u001b[49m\u001b[38;5;241;43m=\u001b[39;49m\u001b[38;5;28;43;01mTrue\u001b[39;49;00m\u001b[43m)\u001b[49m\n",
      "File \u001b[0;32m~/miniconda3/envs/pluca/lib/python3.9/site-packages/tensorflow/python/framework/constant_op.py:276\u001b[0m, in \u001b[0;36m_constant_impl\u001b[0;34m(value, dtype, shape, name, verify_shape, allow_broadcast)\u001b[0m\n\u001b[1;32m    274\u001b[0m     \u001b[38;5;28;01mwith\u001b[39;00m trace\u001b[38;5;241m.\u001b[39mTrace(\u001b[38;5;124m\"\u001b[39m\u001b[38;5;124mtf.constant\u001b[39m\u001b[38;5;124m\"\u001b[39m):\n\u001b[1;32m    275\u001b[0m       \u001b[38;5;28;01mreturn\u001b[39;00m _constant_eager_impl(ctx, value, dtype, shape, verify_shape)\n\u001b[0;32m--> 276\u001b[0m   \u001b[38;5;28;01mreturn\u001b[39;00m \u001b[43m_constant_eager_impl\u001b[49m\u001b[43m(\u001b[49m\u001b[43mctx\u001b[49m\u001b[43m,\u001b[49m\u001b[43m \u001b[49m\u001b[43mvalue\u001b[49m\u001b[43m,\u001b[49m\u001b[43m \u001b[49m\u001b[43mdtype\u001b[49m\u001b[43m,\u001b[49m\u001b[43m \u001b[49m\u001b[43mshape\u001b[49m\u001b[43m,\u001b[49m\u001b[43m \u001b[49m\u001b[43mverify_shape\u001b[49m\u001b[43m)\u001b[49m\n\u001b[1;32m    278\u001b[0m g \u001b[38;5;241m=\u001b[39m ops\u001b[38;5;241m.\u001b[39mget_default_graph()\n\u001b[1;32m    279\u001b[0m tensor_value \u001b[38;5;241m=\u001b[39m attr_value_pb2\u001b[38;5;241m.\u001b[39mAttrValue()\n",
      "File \u001b[0;32m~/miniconda3/envs/pluca/lib/python3.9/site-packages/tensorflow/python/framework/constant_op.py:301\u001b[0m, in \u001b[0;36m_constant_eager_impl\u001b[0;34m(ctx, value, dtype, shape, verify_shape)\u001b[0m\n\u001b[1;32m    299\u001b[0m \u001b[38;5;28;01mdef\u001b[39;00m \u001b[38;5;21m_constant_eager_impl\u001b[39m(ctx, value, dtype, shape, verify_shape):\n\u001b[1;32m    300\u001b[0m   \u001b[38;5;124;03m\"\"\"Implementation of eager constant.\"\"\"\u001b[39;00m\n\u001b[0;32m--> 301\u001b[0m   t \u001b[38;5;241m=\u001b[39m \u001b[43mconvert_to_eager_tensor\u001b[49m\u001b[43m(\u001b[49m\u001b[43mvalue\u001b[49m\u001b[43m,\u001b[49m\u001b[43m \u001b[49m\u001b[43mctx\u001b[49m\u001b[43m,\u001b[49m\u001b[43m \u001b[49m\u001b[43mdtype\u001b[49m\u001b[43m)\u001b[49m\n\u001b[1;32m    302\u001b[0m   \u001b[38;5;28;01mif\u001b[39;00m shape \u001b[38;5;129;01mis\u001b[39;00m \u001b[38;5;28;01mNone\u001b[39;00m:\n\u001b[1;32m    303\u001b[0m     \u001b[38;5;28;01mreturn\u001b[39;00m t\n",
      "File \u001b[0;32m~/miniconda3/envs/pluca/lib/python3.9/site-packages/tensorflow/python/framework/constant_op.py:97\u001b[0m, in \u001b[0;36mconvert_to_eager_tensor\u001b[0;34m(value, ctx, dtype)\u001b[0m\n\u001b[1;32m     95\u001b[0m   \u001b[38;5;28;01mexcept\u001b[39;00m \u001b[38;5;167;01mAttributeError\u001b[39;00m:\n\u001b[1;32m     96\u001b[0m     dtype \u001b[38;5;241m=\u001b[39m dtypes\u001b[38;5;241m.\u001b[39mas_dtype(dtype)\u001b[38;5;241m.\u001b[39mas_datatype_enum\n\u001b[0;32m---> 97\u001b[0m \u001b[43mctx\u001b[49m\u001b[38;5;241;43m.\u001b[39;49m\u001b[43mensure_initialized\u001b[49m\u001b[43m(\u001b[49m\u001b[43m)\u001b[49m\n\u001b[1;32m     98\u001b[0m \u001b[38;5;28;01mreturn\u001b[39;00m ops\u001b[38;5;241m.\u001b[39mEagerTensor(value, ctx\u001b[38;5;241m.\u001b[39mdevice_name, dtype)\n",
      "File \u001b[0;32m~/miniconda3/envs/pluca/lib/python3.9/site-packages/tensorflow/python/eager/context.py:526\u001b[0m, in \u001b[0;36mContext.ensure_initialized\u001b[0;34m(self)\u001b[0m\n\u001b[1;32m    524\u001b[0m   \u001b[38;5;28;01mif\u001b[39;00m \u001b[38;5;28mself\u001b[39m\u001b[38;5;241m.\u001b[39m_use_tfrt \u001b[38;5;129;01mis\u001b[39;00m \u001b[38;5;129;01mnot\u001b[39;00m \u001b[38;5;28;01mNone\u001b[39;00m:\n\u001b[1;32m    525\u001b[0m     pywrap_tfe\u001b[38;5;241m.\u001b[39mTFE_ContextOptionsSetTfrt(opts, \u001b[38;5;28mself\u001b[39m\u001b[38;5;241m.\u001b[39m_use_tfrt)\n\u001b[0;32m--> 526\u001b[0m   context_handle \u001b[38;5;241m=\u001b[39m \u001b[43mpywrap_tfe\u001b[49m\u001b[38;5;241;43m.\u001b[39;49m\u001b[43mTFE_NewContext\u001b[49m\u001b[43m(\u001b[49m\u001b[43mopts\u001b[49m\u001b[43m)\u001b[49m\n\u001b[1;32m    527\u001b[0m \u001b[38;5;28;01mfinally\u001b[39;00m:\n\u001b[1;32m    528\u001b[0m   pywrap_tfe\u001b[38;5;241m.\u001b[39mTFE_DeleteContextOptions(opts)\n",
      "\u001b[0;31mInternalError\u001b[0m: CUDA runtime implicit initialization on GPU:0 failed. Status: out of memory"
     ]
    }
   ],
   "source": [
    "directory_train = \"../chest_xray_norm/train\"\n",
    "x_train, y_train = get_data(directory_train)\n",
    "\n",
    "directory_val = \"../chest_xray_norm/val\"\n",
    "x_val, y_val = get_data(directory_val)\n",
    "\n",
    "model = make_model_3(x_train[0].shape)\n",
    "model.summary()"
   ]
  },
  {
   "cell_type": "code",
   "execution_count": null,
   "id": "ae06c5c6",
   "metadata": {},
   "outputs": [],
   "source": [
    "cp_callback = tf.keras.callbacks.ModelCheckpoint(filepath=checkpoint_path,\n",
    "                                                 save_weights_only=True,\n",
    "                                                 verbose=1)"
   ]
  },
  {
   "cell_type": "code",
   "execution_count": null,
   "id": "8b682381",
   "metadata": {},
   "outputs": [
    {
     "name": "stdout",
     "output_type": "stream",
     "text": [
      "Epoch 1/350\n",
      "163/163 [==============================] - 24s 141ms/step - loss: 0.4104 - accuracy: 0.8168 - precision_1: 0.8272 - recall_1: 0.9602 - val_loss: 0.7958 - val_accuracy: 0.6875 - val_precision_1: 0.6154 - val_recall_1: 1.0000\n",
      "Epoch 2/350\n",
      "163/163 [==============================] - 23s 143ms/step - loss: 0.1110 - accuracy: 0.9581 - precision_1: 0.9712 - recall_1: 0.9725 - val_loss: 0.4040 - val_accuracy: 0.7500 - val_precision_1: 0.6667 - val_recall_1: 1.0000\n",
      "Epoch 3/350\n",
      "163/163 [==============================] - 23s 138ms/step - loss: 0.0797 - accuracy: 0.9702 - precision_1: 0.9786 - recall_1: 0.9812 - val_loss: 1.5920 - val_accuracy: 0.5625 - val_precision_1: 0.5333 - val_recall_1: 1.0000\n",
      "Epoch 4/350\n",
      "163/163 [==============================] - 23s 140ms/step - loss: 0.0657 - accuracy: 0.9752 - precision_1: 0.9828 - recall_1: 0.9840 - val_loss: 0.6046 - val_accuracy: 0.7500 - val_precision_1: 0.6667 - val_recall_1: 1.0000\n",
      "Epoch 5/350\n",
      "163/163 [==============================] - 23s 138ms/step - loss: 0.0637 - accuracy: 0.9750 - precision_1: 0.9841 - recall_1: 0.9824 - val_loss: 0.9047 - val_accuracy: 0.6875 - val_precision_1: 0.6154 - val_recall_1: 1.0000\n",
      "Epoch 6/350\n",
      "163/163 [==============================] - 23s 141ms/step - loss: 0.0492 - accuracy: 0.9811 - precision_1: 0.9888 - recall_1: 0.9857 - val_loss: 0.7062 - val_accuracy: 0.8125 - val_precision_1: 0.7273 - val_recall_1: 1.0000\n",
      "Epoch 7/350\n",
      "163/163 [==============================] - 23s 139ms/step - loss: 0.0430 - accuracy: 0.9846 - precision_1: 0.9904 - recall_1: 0.9887 - val_loss: 0.7028 - val_accuracy: 0.6875 - val_precision_1: 0.6154 - val_recall_1: 1.0000\n",
      "Epoch 8/350\n",
      "163/163 [==============================] - 23s 142ms/step - loss: 0.0441 - accuracy: 0.9841 - precision_1: 0.9884 - recall_1: 0.9905 - val_loss: 0.3976 - val_accuracy: 0.7500 - val_precision_1: 0.6667 - val_recall_1: 1.0000\n",
      "Epoch 9/350\n",
      "163/163 [==============================] - 23s 140ms/step - loss: 0.0444 - accuracy: 0.9823 - precision_1: 0.9889 - recall_1: 0.9869 - val_loss: 0.1645 - val_accuracy: 0.8750 - val_precision_1: 0.8000 - val_recall_1: 1.0000\n",
      "Epoch 10/350\n",
      "163/163 [==============================] - 24s 146ms/step - loss: 0.0327 - accuracy: 0.9876 - precision_1: 0.9943 - recall_1: 0.9889 - val_loss: 1.0904 - val_accuracy: 0.6875 - val_precision_1: 0.6154 - val_recall_1: 1.0000\n",
      "Epoch 11/350\n",
      "163/163 [==============================] - 25s 155ms/step - loss: 0.0304 - accuracy: 0.9890 - precision_1: 0.9922 - recall_1: 0.9931 - val_loss: 1.0964 - val_accuracy: 0.6875 - val_precision_1: 0.6154 - val_recall_1: 1.0000\n",
      "Epoch 12/350\n",
      "163/163 [==============================] - 26s 161ms/step - loss: 0.0263 - accuracy: 0.9898 - precision_1: 0.9937 - recall_1: 0.9926 - val_loss: 0.9377 - val_accuracy: 0.7500 - val_precision_1: 0.6667 - val_recall_1: 1.0000\n",
      "Epoch 13/350\n",
      "163/163 [==============================] - 28s 173ms/step - loss: 0.0235 - accuracy: 0.9913 - precision_1: 0.9947 - recall_1: 0.9936 - val_loss: 0.9784 - val_accuracy: 0.7500 - val_precision_1: 0.6667 - val_recall_1: 1.0000\n",
      "Epoch 14/350\n",
      "163/163 [==============================] - 24s 149ms/step - loss: 0.0173 - accuracy: 0.9929 - precision_1: 0.9951 - recall_1: 0.9955 - val_loss: 0.8985 - val_accuracy: 0.8125 - val_precision_1: 0.7273 - val_recall_1: 1.0000\n",
      "Epoch 15/350\n",
      "163/163 [==============================] - 24s 149ms/step - loss: 0.0302 - accuracy: 0.9879 - precision_1: 0.9915 - recall_1: 0.9923 - val_loss: 2.2323 - val_accuracy: 0.5625 - val_precision_1: 0.5333 - val_recall_1: 1.0000\n",
      "Epoch 16/350\n",
      "163/163 [==============================] - 25s 156ms/step - loss: 0.0187 - accuracy: 0.9922 - precision_1: 0.9940 - recall_1: 0.9954 - val_loss: 0.7875 - val_accuracy: 0.7500 - val_precision_1: 0.6667 - val_recall_1: 1.0000\n",
      "Epoch 17/350\n",
      "163/163 [==============================] - 23s 142ms/step - loss: 0.0128 - accuracy: 0.9957 - precision_1: 0.9975 - recall_1: 0.9967 - val_loss: 0.9260 - val_accuracy: 0.7500 - val_precision_1: 0.6667 - val_recall_1: 1.0000\n",
      "Epoch 18/350\n",
      "163/163 [==============================] - 22s 138ms/step - loss: 0.0059 - accuracy: 0.9980 - precision_1: 0.9984 - recall_1: 0.9989 - val_loss: 0.9158 - val_accuracy: 0.8125 - val_precision_1: 0.7273 - val_recall_1: 1.0000\n",
      "Epoch 19/350\n",
      "163/163 [==============================] - 23s 141ms/step - loss: 0.0125 - accuracy: 0.9950 - precision_1: 0.9966 - recall_1: 0.9967 - val_loss: 0.4993 - val_accuracy: 0.8125 - val_precision_1: 0.7273 - val_recall_1: 1.0000\n",
      "Epoch 20/350\n",
      "163/163 [==============================] - 24s 145ms/step - loss: 0.0157 - accuracy: 0.9939 - precision_1: 0.9970 - recall_1: 0.9948 - val_loss: 0.3750 - val_accuracy: 0.8125 - val_precision_1: 0.7273 - val_recall_1: 1.0000\n",
      "Epoch 21/350\n",
      "163/163 [==============================] - 23s 143ms/step - loss: 0.0142 - accuracy: 0.9950 - precision_1: 0.9975 - recall_1: 0.9957 - val_loss: 0.6822 - val_accuracy: 0.8750 - val_precision_1: 0.8000 - val_recall_1: 1.0000\n",
      "Epoch 22/350\n",
      " 83/163 [==============>...............] - ETA: 11s - loss: 0.0338 - accuracy: 0.9868 - precision_1: 0.9920 - recall_1: 0.9903"
     ]
    }
   ],
   "source": [
    "history = model.fit(x_train, y_train, epochs=350, batch_size=0, verbose=1, shuffle=True, validation_data=(x_val,y_val))"
   ]
  },
  {
   "cell_type": "code",
   "execution_count": null,
   "id": "295db869",
   "metadata": {},
   "outputs": [],
   "source": [
    "history.history.keys()"
   ]
  },
  {
   "cell_type": "code",
   "execution_count": null,
   "id": "865a1980",
   "metadata": {},
   "outputs": [],
   "source": [
    "import matplotlib.pyplot as plt"
   ]
  },
  {
   "cell_type": "code",
   "execution_count": null,
   "id": "85bd4746",
   "metadata": {},
   "outputs": [],
   "source": [
    "plt.figure(figsize=(10, 10))\n",
    "\n",
    "plt.subplot(2, 2, 1)\n",
    "plt.title('Loss')\n",
    "plt.plot(history.epoch, history.history['loss'], label='training')\n",
    "plt.plot(history.epoch, history.history['val_loss'], label='validation')\n",
    "plt.legend(loc='best')\n",
    "\n",
    "plt.subplot(2, 2, 2)\n",
    "plt.title('Accuracy')\n",
    "plt.plot(history.epoch, history.history['accuracy'], label='training')\n",
    "plt.plot(history.epoch, history.history['val_accuracy'], label='validation')\n",
    "plt.legend(loc='best')\n",
    "\n",
    "plt.subplot(2, 2, 3)\n",
    "plt.title('Precision')\n",
    "plt.plot(history.epoch, history.history['precision'], label='training')\n",
    "plt.plot(history.epoch, history.history['val_precision'], label='validation')\n",
    "plt.legend(loc='best')\n",
    "\n",
    "plt.subplot(2, 2, 4)\n",
    "plt.title('Recall')\n",
    "plt.plot(history.epoch, history.history['recall'], label='training')\n",
    "plt.plot(history.epoch, history.history['val_recall'], label='validation')\n",
    "plt.legend(loc='best')\n",
    "\n",
    "plt.show()"
   ]
  },
  {
   "cell_type": "code",
   "execution_count": null,
   "id": "223b0f6a",
   "metadata": {},
   "outputs": [],
   "source": [
    "model.save(\"./modeli/stefan/model_2_epoha_250.h5\")"
   ]
  },
  {
   "cell_type": "code",
   "execution_count": null,
   "id": "93d8d894",
   "metadata": {},
   "outputs": [],
   "source": [
    "import json\n",
    "  \n",
    "# Serializing json \n",
    "json_history = json.dumps(history.history, indent = 4)\n",
    "  \n",
    "# Writing json\n",
    "with open(\"./modeli/stefan/model_2_epoha_250.json\", \"w\") as outfile:\n",
    "    outfile.write(json_history)"
   ]
  },
  {
   "cell_type": "code",
   "execution_count": null,
   "id": "442626c8",
   "metadata": {},
   "outputs": [],
   "source": [
    "# loadovanje modela\n",
    "from tensorflow.keras.models import load_model\n",
    "\n",
    "model2 = load_model('./modeli/stefan/model_2_epoha_250.h5')"
   ]
  },
  {
   "cell_type": "code",
   "execution_count": null,
   "id": "391a1ea7",
   "metadata": {},
   "outputs": [],
   "source": [
    "#loadovanje istorije\n",
    "\n",
    "with open('./modeli/stefan/model_2_epoha_250.json', 'r') as openfile:\n",
    "    # Reading from json file\n",
    "    history2 = json.load(openfile)\n"
   ]
  },
  {
   "cell_type": "code",
   "execution_count": null,
   "id": "b1545689",
   "metadata": {},
   "outputs": [],
   "source": [
    "len(history2['loss'])"
   ]
  },
  {
   "cell_type": "code",
   "execution_count": null,
   "id": "27a3168f",
   "metadata": {},
   "outputs": [],
   "source": [
    "#history.history.keys()"
   ]
  },
  {
   "cell_type": "code",
   "execution_count": null,
   "id": "0ae21919",
   "metadata": {},
   "outputs": [],
   "source": [
    "#len(history.history['loss'])"
   ]
  },
  {
   "cell_type": "code",
   "execution_count": null,
   "id": "66c292f6",
   "metadata": {},
   "outputs": [],
   "source": [
    "directory_test = \"../chest_xray_norm/test\"\n",
    "x_test, y_test = get_data(directory_test)"
   ]
  },
  {
   "cell_type": "code",
   "execution_count": null,
   "id": "d111e359",
   "metadata": {},
   "outputs": [],
   "source": [
    "y_pred = model2.predict(x_test)"
   ]
  },
  {
   "cell_type": "code",
   "execution_count": null,
   "id": "3ec99f2b",
   "metadata": {},
   "outputs": [],
   "source": [
    "#y_pred_round = np.round(y_pred)"
   ]
  },
  {
   "cell_type": "code",
   "execution_count": null,
   "id": "9aa7bdcb",
   "metadata": {},
   "outputs": [],
   "source": [
    "y_pred = y_pred.astype(int)"
   ]
  },
  {
   "cell_type": "code",
   "execution_count": null,
   "id": "fc535bb7",
   "metadata": {},
   "outputs": [],
   "source": [
    "#y_test"
   ]
  },
  {
   "cell_type": "code",
   "execution_count": null,
   "id": "4a6b9494",
   "metadata": {},
   "outputs": [],
   "source": [
    "#y_pred"
   ]
  },
  {
   "cell_type": "code",
   "execution_count": null,
   "id": "f0c32fd0",
   "metadata": {},
   "outputs": [],
   "source": [
    "y_pred = np.ravel(y_pred)"
   ]
  },
  {
   "cell_type": "code",
   "execution_count": null,
   "id": "ae64c6fe",
   "metadata": {},
   "outputs": [],
   "source": [
    "tacnost = [y_pred==y_test]"
   ]
  },
  {
   "cell_type": "code",
   "execution_count": null,
   "id": "6df91325",
   "metadata": {},
   "outputs": [],
   "source": [
    "#tacnost"
   ]
  },
  {
   "cell_type": "code",
   "execution_count": null,
   "id": "e1ef31a8",
   "metadata": {},
   "outputs": [],
   "source": [
    "tacnost = np.average(tacnost)"
   ]
  },
  {
   "cell_type": "code",
   "execution_count": null,
   "id": "368a729e",
   "metadata": {},
   "outputs": [],
   "source": [
    "tacnost"
   ]
  }
 ],
 "metadata": {
  "kernelspec": {
   "display_name": "Python 3 (ipykernel)",
   "language": "python",
   "name": "python3"
  },
  "language_info": {
   "codemirror_mode": {
    "name": "ipython",
    "version": 3
   },
   "file_extension": ".py",
   "mimetype": "text/x-python",
   "name": "python",
   "nbconvert_exporter": "python",
   "pygments_lexer": "ipython3",
   "version": "3.9.12"
  }
 },
 "nbformat": 4,
 "nbformat_minor": 5
}
